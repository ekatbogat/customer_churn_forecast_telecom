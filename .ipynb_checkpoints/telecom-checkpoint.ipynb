{
 "cells": [
  {
   "cell_type": "markdown",
   "id": "98c28643",
   "metadata": {},
   "source": [
    "Оператор связи хочет бороться с оттоком клиентов. Для этого его сотрудники начнут предлагать промокоды и специальные условия всем, кто планирует отказаться от услуг связи. Чтобы заранее находить таких пользователей, нужна модель, которая будет предсказывать, разорвёт ли абонент договор. Команда оператора собрала персональные данные о некоторых клиентах, информацию об их тарифах и услугах.Задача — обучить на этих данных модель для прогноза оттока клиентов."
   ]
  },
  {
   "cell_type": "markdown",
   "id": "ea19f489",
   "metadata": {},
   "source": [
    "**Описание данных**\n",
    "\n",
    "Данные хранятся в базе данных PostgreSQL. Она состоит из нескольких таблиц:\n",
    "\n",
    "\tcontract — информация о договорах;\n",
    "\tpersonal — персональные данные клиентов;\n",
    "\tinternet — информация об интернет-услугах;\n",
    "\tphone — информация об услугах телефонии.\n",
    "    \n",
    "Таблица telecom.contract\n",
    "\n",
    "\tcustomerID — ID абонента;\n",
    "\tBeginDate — дата начала действия договора;\n",
    "\tEndDate — дата окончания действия договора;\n",
    "\tType — тип оплаты: раз в год-два или ежемесячно;\n",
    "\tPaperlessBilling — электронный расчётный лист;\n",
    "\tPaymentMethod — тип платежа;\n",
    "\tMonthlyCharges — расходы за месяц;\n",
    "\tTotalCharges — общие расходы абонента.\n",
    "    \n",
    "Таблица personal\n",
    "\n",
    "\tcustomerID — ID пользователя;\n",
    "\tgender — пол;\n",
    "\tSeniorCitizen — является ли абонент пенсионером;\n",
    "\tPartner — есть ли у абонента супруг или супруга;\n",
    "\tDependents — есть ли у абонента дети.\n",
    "    \n",
    "Таблица telecom.internet\n",
    "\n",
    "\tcustomerID — ID пользователя;\n",
    "\tInternetService — тип подключения;\n",
    "\tOnlineSecurity — блокировка опасных сайтов;\n",
    "\tOnlineBackup — облачное хранилище файлов для резервного копирования данных;\n",
    "\tDeviceProtection — антивирус;\n",
    "\tTechSupport — выделенная линия технической поддержки;\n",
    "\tStreamingTV — стриминговое телевидение;\n",
    "\tStreamingMovies — каталог фильмов.\n",
    "    \n",
    "Таблица telecom.phone\n",
    "\n",
    "\tcustomerID — ID пользователя;\n",
    "\tMultipleLines — подключение телефона к нескольким линиям одновременно.\n",
    "    \n",
    "Информация о договорах актуальна на 1 февраля 2020."
   ]
  },
  {
   "cell_type": "markdown",
   "id": "8663f503",
   "metadata": {},
   "source": [
    "### Загрузка данных"
   ]
  },
  {
   "cell_type": "code",
   "execution_count": 1,
   "id": "f3c4f21e",
   "metadata": {},
   "outputs": [
    {
     "name": "stdout",
     "output_type": "stream",
     "text": [
      "Collecting phik\n",
      "  Downloading phik-0.12.3-cp39-cp39-manylinux_2_17_x86_64.manylinux2014_x86_64.whl (679 kB)\n",
      "\u001b[K     |████████████████████████████████| 679 kB 2.6 MB/s eta 0:00:01\n",
      "\u001b[?25hRequirement already satisfied: pandas>=0.25.1 in /opt/conda/lib/python3.9/site-packages (from phik) (1.2.4)\n",
      "Requirement already satisfied: joblib>=0.14.1 in /opt/conda/lib/python3.9/site-packages (from phik) (1.1.0)\n",
      "Requirement already satisfied: matplotlib>=2.2.3 in /opt/conda/lib/python3.9/site-packages (from phik) (3.3.4)\n",
      "Requirement already satisfied: scipy>=1.5.2 in /opt/conda/lib/python3.9/site-packages (from phik) (1.9.1)\n",
      "Requirement already satisfied: numpy>=1.18.0 in /opt/conda/lib/python3.9/site-packages (from phik) (1.21.1)\n",
      "Requirement already satisfied: pyparsing!=2.0.4,!=2.1.2,!=2.1.6,>=2.0.3 in /opt/conda/lib/python3.9/site-packages (from matplotlib>=2.2.3->phik) (2.4.7)\n",
      "Requirement already satisfied: python-dateutil>=2.1 in /opt/conda/lib/python3.9/site-packages (from matplotlib>=2.2.3->phik) (2.8.1)\n",
      "Requirement already satisfied: cycler>=0.10 in /opt/conda/lib/python3.9/site-packages (from matplotlib>=2.2.3->phik) (0.11.0)\n",
      "Requirement already satisfied: pillow>=6.2.0 in /opt/conda/lib/python3.9/site-packages (from matplotlib>=2.2.3->phik) (8.4.0)\n",
      "Requirement already satisfied: kiwisolver>=1.0.1 in /opt/conda/lib/python3.9/site-packages (from matplotlib>=2.2.3->phik) (1.4.4)\n",
      "Requirement already satisfied: pytz>=2017.3 in /opt/conda/lib/python3.9/site-packages (from pandas>=0.25.1->phik) (2021.1)\n",
      "Requirement already satisfied: six>=1.5 in /opt/conda/lib/python3.9/site-packages (from python-dateutil>=2.1->matplotlib>=2.2.3->phik) (1.16.0)\n",
      "Installing collected packages: phik\n",
      "Successfully installed phik-0.12.3\n"
     ]
    }
   ],
   "source": [
    "!pip install phik"
   ]
  },
  {
   "cell_type": "code",
   "execution_count": 2,
   "id": "4fa6ca11",
   "metadata": {
    "scrolled": true
   },
   "outputs": [],
   "source": [
    "import pandas as pd\n",
    "import numpy as np\n",
    "import matplotlib.pyplot as plt\n",
    "import lightgbm as lgb\n",
    "import seaborn as sns\n",
    "from math import ceil, sqrt\n",
    "from sklearn.utils import shuffle\n",
    "import time\n",
    "from sklearn.model_selection import train_test_split\n",
    "from sklearn.preprocessing import StandardScaler, OneHotEncoder\n",
    "from plotly.subplots import make_subplots\n",
    "import phik\n",
    "from phik.report import plot_correlation_matrix\n",
    "from sklearn.metrics import confusion_matrix\n",
    "from sklearn.svm import SVC\n",
    "from phik import report\n",
    "from sklearn.model_selection import GridSearchCV\n",
    "from sklearn.ensemble import RandomForestClassifier\n",
    "from catboost import CatBoostClassifier\n",
    "from lightgbm import LGBMClassifier\n",
    "from sklearn.metrics import roc_auc_score\n",
    "from sklearn.metrics import accuracy_score, roc_curve\n",
    "from sklearn.metrics import precision_recall_curve\n",
    "from catboost import CatBoostClassifier\n",
    "from sklearn.metrics import classification_report, ConfusionMatrixDisplay\n",
    "import warnings\n",
    "warnings.filterwarnings('ignore')\n",
    "\n",
    "import torch\n",
    "import torch.nn as nn\n",
    "from torch.utils.data import Dataset, DataLoader\n",
    "\n",
    "from tqdm import tqdm\n",
    "from tqdm import notebook\n",
    "tqdm.pandas()\n",
    "\n",
    "from sqlalchemy import create_engine"
   ]
  },
  {
   "cell_type": "code",
   "execution_count": 3,
   "id": "7319dc39",
   "metadata": {},
   "outputs": [],
   "source": [
    "# Подключимся к базе данных:\n",
    "db_config = {\n",
    "'user': 'praktikum_student',# имя пользователя\n",
    "'pwd': 'Sdf4$2;d-d30pp',# пароль\n",
    "'host': 'rc1b-wcoijxj3yxfsf3fs.mdb.yandexcloud.net',\n",
    "'port': 6432,# порт подключения\n",
    "'db': 'data-science-final'# название базы данных,\n",
    "}\n",
    "connection_string = 'postgresql://{}:{}@{}:{}/{}'.format(\n",
    "    db_config['user'],\n",
    "    db_config['pwd'],\n",
    "    db_config['host'],\n",
    "    db_config['port'],\n",
    "    db_config['db'],\n",
    ")"
   ]
  },
  {
   "cell_type": "code",
   "execution_count": 4,
   "id": "dbfa8179",
   "metadata": {},
   "outputs": [],
   "source": [
    "# Создание подключения\n",
    "engine = create_engine(connection_string) "
   ]
  },
  {
   "cell_type": "code",
   "execution_count": 5,
   "id": "f6ab8b1a",
   "metadata": {},
   "outputs": [],
   "source": [
    "# Зададим константу\n",
    "RANDOM_STATE = 50623"
   ]
  },
  {
   "cell_type": "code",
   "execution_count": 6,
   "id": "0dad8912",
   "metadata": {},
   "outputs": [],
   "source": [
    "# Рассмотрим первую таблицу telecom.contract - информация о договорах;\n",
    "\n",
    "contract = '''\n",
    "SELECT *\n",
    "FROM telecom.contract\n",
    "'''\n",
    "contract = pd.read_sql_query(contract, con = engine)\n",
    "contract.name = 'contract'"
   ]
  },
  {
   "cell_type": "code",
   "execution_count": 7,
   "id": "d9e9a856",
   "metadata": {},
   "outputs": [
    {
     "data": {
      "text/html": [
       "<div>\n",
       "<style scoped>\n",
       "    .dataframe tbody tr th:only-of-type {\n",
       "        vertical-align: middle;\n",
       "    }\n",
       "\n",
       "    .dataframe tbody tr th {\n",
       "        vertical-align: top;\n",
       "    }\n",
       "\n",
       "    .dataframe thead th {\n",
       "        text-align: right;\n",
       "    }\n",
       "</style>\n",
       "<table border=\"1\" class=\"dataframe\">\n",
       "  <thead>\n",
       "    <tr style=\"text-align: right;\">\n",
       "      <th></th>\n",
       "      <th>customerID</th>\n",
       "      <th>BeginDate</th>\n",
       "      <th>EndDate</th>\n",
       "      <th>Type</th>\n",
       "      <th>PaperlessBilling</th>\n",
       "      <th>PaymentMethod</th>\n",
       "      <th>MonthlyCharges</th>\n",
       "      <th>TotalCharges</th>\n",
       "    </tr>\n",
       "  </thead>\n",
       "  <tbody>\n",
       "    <tr>\n",
       "      <th>0</th>\n",
       "      <td>4472-LVYGI</td>\n",
       "      <td>2020-02-01</td>\n",
       "      <td>None</td>\n",
       "      <td>Two year</td>\n",
       "      <td>Yes</td>\n",
       "      <td>Bank transfer (automatic)</td>\n",
       "      <td>52.55</td>\n",
       "      <td>NaN</td>\n",
       "    </tr>\n",
       "    <tr>\n",
       "      <th>1</th>\n",
       "      <td>3115-CZMZD</td>\n",
       "      <td>2020-02-01</td>\n",
       "      <td>None</td>\n",
       "      <td>Two year</td>\n",
       "      <td>No</td>\n",
       "      <td>Mailed check</td>\n",
       "      <td>20.25</td>\n",
       "      <td>NaN</td>\n",
       "    </tr>\n",
       "    <tr>\n",
       "      <th>2</th>\n",
       "      <td>3668-QPYBK</td>\n",
       "      <td>2018-08-09</td>\n",
       "      <td>2019-12-01</td>\n",
       "      <td>Month-to-month</td>\n",
       "      <td>Yes</td>\n",
       "      <td>Mailed check</td>\n",
       "      <td>53.85</td>\n",
       "      <td>108.15</td>\n",
       "    </tr>\n",
       "    <tr>\n",
       "      <th>3</th>\n",
       "      <td>5709-LVOEQ</td>\n",
       "      <td>2020-02-01</td>\n",
       "      <td>None</td>\n",
       "      <td>Two year</td>\n",
       "      <td>No</td>\n",
       "      <td>Mailed check</td>\n",
       "      <td>80.85</td>\n",
       "      <td>NaN</td>\n",
       "    </tr>\n",
       "    <tr>\n",
       "      <th>4</th>\n",
       "      <td>9237-HQITU</td>\n",
       "      <td>2019-01-26</td>\n",
       "      <td>2019-11-01</td>\n",
       "      <td>Month-to-month</td>\n",
       "      <td>Yes</td>\n",
       "      <td>Electronic check</td>\n",
       "      <td>70.70</td>\n",
       "      <td>151.65</td>\n",
       "    </tr>\n",
       "    <tr>\n",
       "      <th>...</th>\n",
       "      <td>...</td>\n",
       "      <td>...</td>\n",
       "      <td>...</td>\n",
       "      <td>...</td>\n",
       "      <td>...</td>\n",
       "      <td>...</td>\n",
       "      <td>...</td>\n",
       "      <td>...</td>\n",
       "    </tr>\n",
       "    <tr>\n",
       "      <th>7038</th>\n",
       "      <td>2569-WGERO</td>\n",
       "      <td>2019-01-21</td>\n",
       "      <td>None</td>\n",
       "      <td>Two year</td>\n",
       "      <td>Yes</td>\n",
       "      <td>Bank transfer (automatic)</td>\n",
       "      <td>21.15</td>\n",
       "      <td>1419.40</td>\n",
       "    </tr>\n",
       "    <tr>\n",
       "      <th>7039</th>\n",
       "      <td>6840-RESVB</td>\n",
       "      <td>2019-02-26</td>\n",
       "      <td>None</td>\n",
       "      <td>One year</td>\n",
       "      <td>Yes</td>\n",
       "      <td>Mailed check</td>\n",
       "      <td>84.80</td>\n",
       "      <td>1990.50</td>\n",
       "    </tr>\n",
       "    <tr>\n",
       "      <th>7040</th>\n",
       "      <td>2234-XADUH</td>\n",
       "      <td>2019-09-02</td>\n",
       "      <td>None</td>\n",
       "      <td>One year</td>\n",
       "      <td>Yes</td>\n",
       "      <td>Credit card (automatic)</td>\n",
       "      <td>103.20</td>\n",
       "      <td>7362.90</td>\n",
       "    </tr>\n",
       "    <tr>\n",
       "      <th>7041</th>\n",
       "      <td>4801-JZAZL</td>\n",
       "      <td>2019-06-26</td>\n",
       "      <td>None</td>\n",
       "      <td>Month-to-month</td>\n",
       "      <td>Yes</td>\n",
       "      <td>Electronic check</td>\n",
       "      <td>29.60</td>\n",
       "      <td>346.45</td>\n",
       "    </tr>\n",
       "    <tr>\n",
       "      <th>7042</th>\n",
       "      <td>3186-AJIEK</td>\n",
       "      <td>2019-04-18</td>\n",
       "      <td>None</td>\n",
       "      <td>Two year</td>\n",
       "      <td>Yes</td>\n",
       "      <td>Bank transfer (automatic)</td>\n",
       "      <td>105.65</td>\n",
       "      <td>6844.50</td>\n",
       "    </tr>\n",
       "  </tbody>\n",
       "</table>\n",
       "<p>7043 rows × 8 columns</p>\n",
       "</div>"
      ],
      "text/plain": [
       "      customerID   BeginDate     EndDate            Type PaperlessBilling  \\\n",
       "0     4472-LVYGI  2020-02-01        None        Two year              Yes   \n",
       "1     3115-CZMZD  2020-02-01        None        Two year               No   \n",
       "2     3668-QPYBK  2018-08-09  2019-12-01  Month-to-month              Yes   \n",
       "3     5709-LVOEQ  2020-02-01        None        Two year               No   \n",
       "4     9237-HQITU  2019-01-26  2019-11-01  Month-to-month              Yes   \n",
       "...          ...         ...         ...             ...              ...   \n",
       "7038  2569-WGERO  2019-01-21        None        Two year              Yes   \n",
       "7039  6840-RESVB  2019-02-26        None        One year              Yes   \n",
       "7040  2234-XADUH  2019-09-02        None        One year              Yes   \n",
       "7041  4801-JZAZL  2019-06-26        None  Month-to-month              Yes   \n",
       "7042  3186-AJIEK  2019-04-18        None        Two year              Yes   \n",
       "\n",
       "                  PaymentMethod  MonthlyCharges  TotalCharges  \n",
       "0     Bank transfer (automatic)           52.55           NaN  \n",
       "1                  Mailed check           20.25           NaN  \n",
       "2                  Mailed check           53.85        108.15  \n",
       "3                  Mailed check           80.85           NaN  \n",
       "4              Electronic check           70.70        151.65  \n",
       "...                         ...             ...           ...  \n",
       "7038  Bank transfer (automatic)           21.15       1419.40  \n",
       "7039               Mailed check           84.80       1990.50  \n",
       "7040    Credit card (automatic)          103.20       7362.90  \n",
       "7041           Electronic check           29.60        346.45  \n",
       "7042  Bank transfer (automatic)          105.65       6844.50  \n",
       "\n",
       "[7043 rows x 8 columns]"
      ]
     },
     "execution_count": 7,
     "metadata": {},
     "output_type": "execute_result"
    }
   ],
   "source": [
    "contract"
   ]
  },
  {
   "cell_type": "code",
   "execution_count": 8,
   "id": "0646769c",
   "metadata": {
    "scrolled": false
   },
   "outputs": [
    {
     "name": "stdout",
     "output_type": "stream",
     "text": [
      "<class 'pandas.core.frame.DataFrame'>\n",
      "RangeIndex: 7043 entries, 0 to 7042\n",
      "Data columns (total 8 columns):\n",
      " #   Column            Non-Null Count  Dtype  \n",
      "---  ------            --------------  -----  \n",
      " 0   customerID        7043 non-null   object \n",
      " 1   BeginDate         7043 non-null   object \n",
      " 2   EndDate           1869 non-null   object \n",
      " 3   Type              7043 non-null   object \n",
      " 4   PaperlessBilling  7043 non-null   object \n",
      " 5   PaymentMethod     7043 non-null   object \n",
      " 6   MonthlyCharges    7043 non-null   float64\n",
      " 7   TotalCharges      7032 non-null   float64\n",
      "dtypes: float64(2), object(6)\n",
      "memory usage: 440.3+ KB\n"
     ]
    }
   ],
   "source": [
    "contract.info()"
   ]
  },
  {
   "cell_type": "code",
   "execution_count": 9,
   "id": "2fec9c90",
   "metadata": {},
   "outputs": [
    {
     "data": {
      "text/plain": [
       "customerID           0.000000\n",
       "BeginDate            0.000000\n",
       "EndDate             73.463013\n",
       "Type                 0.000000\n",
       "PaperlessBilling     0.000000\n",
       "PaymentMethod        0.000000\n",
       "MonthlyCharges       0.000000\n",
       "TotalCharges         0.156183\n",
       "dtype: float64"
      ]
     },
     "execution_count": 9,
     "metadata": {},
     "output_type": "execute_result"
    }
   ],
   "source": [
    "# проверим пропущенные значения\n",
    "contract.isnull().sum ()/ len(contract)* 100"
   ]
  },
  {
   "cell_type": "code",
   "execution_count": 10,
   "id": "63fab391",
   "metadata": {
    "scrolled": true
   },
   "outputs": [
    {
     "data": {
      "text/html": [
       "<div>\n",
       "<style scoped>\n",
       "    .dataframe tbody tr th:only-of-type {\n",
       "        vertical-align: middle;\n",
       "    }\n",
       "\n",
       "    .dataframe tbody tr th {\n",
       "        vertical-align: top;\n",
       "    }\n",
       "\n",
       "    .dataframe thead th {\n",
       "        text-align: right;\n",
       "    }\n",
       "</style>\n",
       "<table border=\"1\" class=\"dataframe\">\n",
       "  <thead>\n",
       "    <tr style=\"text-align: right;\">\n",
       "      <th></th>\n",
       "      <th>customerID</th>\n",
       "      <th>BeginDate</th>\n",
       "      <th>EndDate</th>\n",
       "      <th>Type</th>\n",
       "      <th>PaperlessBilling</th>\n",
       "      <th>PaymentMethod</th>\n",
       "      <th>MonthlyCharges</th>\n",
       "      <th>TotalCharges</th>\n",
       "    </tr>\n",
       "  </thead>\n",
       "  <tbody>\n",
       "    <tr>\n",
       "      <th>0</th>\n",
       "      <td>4472-LVYGI</td>\n",
       "      <td>2020-02-01</td>\n",
       "      <td>None</td>\n",
       "      <td>Two year</td>\n",
       "      <td>Yes</td>\n",
       "      <td>Bank transfer (automatic)</td>\n",
       "      <td>52.55</td>\n",
       "      <td>NaN</td>\n",
       "    </tr>\n",
       "    <tr>\n",
       "      <th>1</th>\n",
       "      <td>3115-CZMZD</td>\n",
       "      <td>2020-02-01</td>\n",
       "      <td>None</td>\n",
       "      <td>Two year</td>\n",
       "      <td>No</td>\n",
       "      <td>Mailed check</td>\n",
       "      <td>20.25</td>\n",
       "      <td>NaN</td>\n",
       "    </tr>\n",
       "    <tr>\n",
       "      <th>3</th>\n",
       "      <td>5709-LVOEQ</td>\n",
       "      <td>2020-02-01</td>\n",
       "      <td>None</td>\n",
       "      <td>Two year</td>\n",
       "      <td>No</td>\n",
       "      <td>Mailed check</td>\n",
       "      <td>80.85</td>\n",
       "      <td>NaN</td>\n",
       "    </tr>\n",
       "    <tr>\n",
       "      <th>6</th>\n",
       "      <td>4367-NUYAO</td>\n",
       "      <td>2020-02-01</td>\n",
       "      <td>None</td>\n",
       "      <td>Two year</td>\n",
       "      <td>No</td>\n",
       "      <td>Mailed check</td>\n",
       "      <td>25.75</td>\n",
       "      <td>NaN</td>\n",
       "    </tr>\n",
       "    <tr>\n",
       "      <th>7</th>\n",
       "      <td>1371-DWPAZ</td>\n",
       "      <td>2020-02-01</td>\n",
       "      <td>None</td>\n",
       "      <td>Two year</td>\n",
       "      <td>No</td>\n",
       "      <td>Credit card (automatic)</td>\n",
       "      <td>56.05</td>\n",
       "      <td>NaN</td>\n",
       "    </tr>\n",
       "    <tr>\n",
       "      <th>9</th>\n",
       "      <td>3213-VVOLG</td>\n",
       "      <td>2020-02-01</td>\n",
       "      <td>None</td>\n",
       "      <td>Two year</td>\n",
       "      <td>No</td>\n",
       "      <td>Mailed check</td>\n",
       "      <td>25.35</td>\n",
       "      <td>NaN</td>\n",
       "    </tr>\n",
       "    <tr>\n",
       "      <th>10</th>\n",
       "      <td>2923-ARZLG</td>\n",
       "      <td>2020-02-01</td>\n",
       "      <td>None</td>\n",
       "      <td>One year</td>\n",
       "      <td>Yes</td>\n",
       "      <td>Mailed check</td>\n",
       "      <td>19.70</td>\n",
       "      <td>NaN</td>\n",
       "    </tr>\n",
       "    <tr>\n",
       "      <th>11</th>\n",
       "      <td>2775-SEFEE</td>\n",
       "      <td>2020-02-01</td>\n",
       "      <td>None</td>\n",
       "      <td>Two year</td>\n",
       "      <td>Yes</td>\n",
       "      <td>Bank transfer (automatic)</td>\n",
       "      <td>61.90</td>\n",
       "      <td>NaN</td>\n",
       "    </tr>\n",
       "    <tr>\n",
       "      <th>4408</th>\n",
       "      <td>7644-OMVMY</td>\n",
       "      <td>2020-02-01</td>\n",
       "      <td>None</td>\n",
       "      <td>Two year</td>\n",
       "      <td>No</td>\n",
       "      <td>Mailed check</td>\n",
       "      <td>19.85</td>\n",
       "      <td>NaN</td>\n",
       "    </tr>\n",
       "    <tr>\n",
       "      <th>5160</th>\n",
       "      <td>2520-SGTTA</td>\n",
       "      <td>2020-02-01</td>\n",
       "      <td>None</td>\n",
       "      <td>Two year</td>\n",
       "      <td>No</td>\n",
       "      <td>Mailed check</td>\n",
       "      <td>20.00</td>\n",
       "      <td>NaN</td>\n",
       "    </tr>\n",
       "    <tr>\n",
       "      <th>6839</th>\n",
       "      <td>4075-WKNIU</td>\n",
       "      <td>2020-02-01</td>\n",
       "      <td>None</td>\n",
       "      <td>Two year</td>\n",
       "      <td>No</td>\n",
       "      <td>Mailed check</td>\n",
       "      <td>73.35</td>\n",
       "      <td>NaN</td>\n",
       "    </tr>\n",
       "  </tbody>\n",
       "</table>\n",
       "</div>"
      ],
      "text/plain": [
       "      customerID   BeginDate EndDate      Type PaperlessBilling  \\\n",
       "0     4472-LVYGI  2020-02-01    None  Two year              Yes   \n",
       "1     3115-CZMZD  2020-02-01    None  Two year               No   \n",
       "3     5709-LVOEQ  2020-02-01    None  Two year               No   \n",
       "6     4367-NUYAO  2020-02-01    None  Two year               No   \n",
       "7     1371-DWPAZ  2020-02-01    None  Two year               No   \n",
       "9     3213-VVOLG  2020-02-01    None  Two year               No   \n",
       "10    2923-ARZLG  2020-02-01    None  One year              Yes   \n",
       "11    2775-SEFEE  2020-02-01    None  Two year              Yes   \n",
       "4408  7644-OMVMY  2020-02-01    None  Two year               No   \n",
       "5160  2520-SGTTA  2020-02-01    None  Two year               No   \n",
       "6839  4075-WKNIU  2020-02-01    None  Two year               No   \n",
       "\n",
       "                  PaymentMethod  MonthlyCharges  TotalCharges  \n",
       "0     Bank transfer (automatic)           52.55           NaN  \n",
       "1                  Mailed check           20.25           NaN  \n",
       "3                  Mailed check           80.85           NaN  \n",
       "6                  Mailed check           25.75           NaN  \n",
       "7       Credit card (automatic)           56.05           NaN  \n",
       "9                  Mailed check           25.35           NaN  \n",
       "10                 Mailed check           19.70           NaN  \n",
       "11    Bank transfer (automatic)           61.90           NaN  \n",
       "4408               Mailed check           19.85           NaN  \n",
       "5160               Mailed check           20.00           NaN  \n",
       "6839               Mailed check           73.35           NaN  "
      ]
     },
     "execution_count": 10,
     "metadata": {},
     "output_type": "execute_result"
    }
   ],
   "source": [
    "# В столбце TotalCharges появились пропуски, посмотрим на них\n",
    "contract[contract['TotalCharges'].isnull()]"
   ]
  },
  {
   "cell_type": "markdown",
   "id": "a02bbfd3",
   "metadata": {},
   "source": [
    "Видно, что все клиенты подключены (01/02/2020) в 1 день, заменим пропуски на 0"
   ]
  },
  {
   "cell_type": "code",
   "execution_count": 11,
   "id": "48ec07d5",
   "metadata": {},
   "outputs": [
    {
     "data": {
      "text/plain": [
       "0"
      ]
     },
     "execution_count": 11,
     "metadata": {},
     "output_type": "execute_result"
    }
   ],
   "source": [
    "contract['TotalCharges'] = contract['TotalCharges'].fillna(0)\n",
    "contract['TotalCharges'].isnull().sum()"
   ]
  },
  {
   "cell_type": "code",
   "execution_count": 12,
   "id": "60fd375f",
   "metadata": {},
   "outputs": [
    {
     "data": {
      "text/html": [
       "<div>\n",
       "<style scoped>\n",
       "    .dataframe tbody tr th:only-of-type {\n",
       "        vertical-align: middle;\n",
       "    }\n",
       "\n",
       "    .dataframe tbody tr th {\n",
       "        vertical-align: top;\n",
       "    }\n",
       "\n",
       "    .dataframe thead th {\n",
       "        text-align: right;\n",
       "    }\n",
       "</style>\n",
       "<table border=\"1\" class=\"dataframe\">\n",
       "  <thead>\n",
       "    <tr style=\"text-align: right;\">\n",
       "      <th></th>\n",
       "      <th>MonthlyCharges</th>\n",
       "      <th>TotalCharges</th>\n",
       "    </tr>\n",
       "  </thead>\n",
       "  <tbody>\n",
       "    <tr>\n",
       "      <th>count</th>\n",
       "      <td>7043.000000</td>\n",
       "      <td>7043.000000</td>\n",
       "    </tr>\n",
       "    <tr>\n",
       "      <th>mean</th>\n",
       "      <td>64.761692</td>\n",
       "      <td>2279.734304</td>\n",
       "    </tr>\n",
       "    <tr>\n",
       "      <th>std</th>\n",
       "      <td>30.090047</td>\n",
       "      <td>2266.794470</td>\n",
       "    </tr>\n",
       "    <tr>\n",
       "      <th>min</th>\n",
       "      <td>18.250000</td>\n",
       "      <td>0.000000</td>\n",
       "    </tr>\n",
       "    <tr>\n",
       "      <th>25%</th>\n",
       "      <td>35.500000</td>\n",
       "      <td>398.550000</td>\n",
       "    </tr>\n",
       "    <tr>\n",
       "      <th>50%</th>\n",
       "      <td>70.350000</td>\n",
       "      <td>1394.550000</td>\n",
       "    </tr>\n",
       "    <tr>\n",
       "      <th>75%</th>\n",
       "      <td>89.850000</td>\n",
       "      <td>3786.600000</td>\n",
       "    </tr>\n",
       "    <tr>\n",
       "      <th>max</th>\n",
       "      <td>118.750000</td>\n",
       "      <td>8684.800000</td>\n",
       "    </tr>\n",
       "  </tbody>\n",
       "</table>\n",
       "</div>"
      ],
      "text/plain": [
       "       MonthlyCharges  TotalCharges\n",
       "count     7043.000000   7043.000000\n",
       "mean        64.761692   2279.734304\n",
       "std         30.090047   2266.794470\n",
       "min         18.250000      0.000000\n",
       "25%         35.500000    398.550000\n",
       "50%         70.350000   1394.550000\n",
       "75%         89.850000   3786.600000\n",
       "max        118.750000   8684.800000"
      ]
     },
     "execution_count": 12,
     "metadata": {},
     "output_type": "execute_result"
    }
   ],
   "source": [
    "contract.describe()"
   ]
  },
  {
   "cell_type": "code",
   "execution_count": 13,
   "id": "fe6bd559",
   "metadata": {},
   "outputs": [
    {
     "data": {
      "text/plain": [
       "Electronic check             2365\n",
       "Mailed check                 1612\n",
       "Bank transfer (automatic)    1544\n",
       "Credit card (automatic)      1522\n",
       "Name: PaymentMethod, dtype: int64"
      ]
     },
     "execution_count": 13,
     "metadata": {},
     "output_type": "execute_result"
    }
   ],
   "source": [
    "contract['PaymentMethod'].value_counts()"
   ]
  },
  {
   "cell_type": "code",
   "execution_count": 14,
   "id": "4c48c4e5",
   "metadata": {},
   "outputs": [
    {
     "data": {
      "text/plain": [
       "Month-to-month    3875\n",
       "Two year          1695\n",
       "One year          1473\n",
       "Name: Type, dtype: int64"
      ]
     },
     "execution_count": 14,
     "metadata": {},
     "output_type": "execute_result"
    }
   ],
   "source": [
    "contract['Type'].value_counts()"
   ]
  },
  {
   "cell_type": "code",
   "execution_count": 15,
   "id": "ee365e26",
   "metadata": {},
   "outputs": [
    {
     "data": {
      "text/plain": [
       "0"
      ]
     },
     "execution_count": 15,
     "metadata": {},
     "output_type": "execute_result"
    }
   ],
   "source": [
    "# проверим дубликаты\n",
    "contract.duplicated().sum()"
   ]
  },
  {
   "cell_type": "markdown",
   "id": "9860b78a",
   "metadata": {},
   "source": [
    "**Вывод**\n",
    "\n",
    "Таблица telecom.contract -  информация о договорах. Всего наблюдений по контрактам у нас 7043, 8 фичей. Дубликатов нет. В признаке EndDate (дата окончания действия договора - 73,46 % пропущенных значений - это пользователи, которые не разорвали контракт - это целевой признак. В TotalCharges (общие расходы абонента) 0.15% пропущенных значений. Видно, что все клиенты подключены (01/02/2020) в 1 день, заменили пропуски на 0. BeginDate и EndDate перевели в формат даты. После выделения целевого признака надо будет заменить None на 01.02.2020 в EndDate. Преимущественный тип платежа - электронный чек. Преимущественный тип оплаты - ежемесячно. BeginDate и EndDate нужно будет перевести в формат даты\n"
   ]
  },
  {
   "cell_type": "code",
   "execution_count": 16,
   "id": "b713c6b3",
   "metadata": {},
   "outputs": [],
   "source": [
    "# Рассмотрим вторую таблицу personal — персональные данные клиентов;\n",
    "personal = '''\n",
    "SELECT *\n",
    "FROM telecom.personal\n",
    "'''\n",
    "personal = pd.read_sql_query(personal, con = engine)\n",
    "personal.name = 'personal'"
   ]
  },
  {
   "cell_type": "code",
   "execution_count": 17,
   "id": "e01735be",
   "metadata": {},
   "outputs": [
    {
     "data": {
      "text/html": [
       "<div>\n",
       "<style scoped>\n",
       "    .dataframe tbody tr th:only-of-type {\n",
       "        vertical-align: middle;\n",
       "    }\n",
       "\n",
       "    .dataframe tbody tr th {\n",
       "        vertical-align: top;\n",
       "    }\n",
       "\n",
       "    .dataframe thead th {\n",
       "        text-align: right;\n",
       "    }\n",
       "</style>\n",
       "<table border=\"1\" class=\"dataframe\">\n",
       "  <thead>\n",
       "    <tr style=\"text-align: right;\">\n",
       "      <th></th>\n",
       "      <th>customerID</th>\n",
       "      <th>gender</th>\n",
       "      <th>SeniorCitizen</th>\n",
       "      <th>Partner</th>\n",
       "      <th>Dependents</th>\n",
       "    </tr>\n",
       "  </thead>\n",
       "  <tbody>\n",
       "    <tr>\n",
       "      <th>0</th>\n",
       "      <td>7590-VHVEG</td>\n",
       "      <td>Female</td>\n",
       "      <td>0</td>\n",
       "      <td>Yes</td>\n",
       "      <td>No</td>\n",
       "    </tr>\n",
       "    <tr>\n",
       "      <th>1</th>\n",
       "      <td>5575-GNVDE</td>\n",
       "      <td>Male</td>\n",
       "      <td>0</td>\n",
       "      <td>No</td>\n",
       "      <td>No</td>\n",
       "    </tr>\n",
       "    <tr>\n",
       "      <th>2</th>\n",
       "      <td>3668-QPYBK</td>\n",
       "      <td>Male</td>\n",
       "      <td>0</td>\n",
       "      <td>No</td>\n",
       "      <td>No</td>\n",
       "    </tr>\n",
       "    <tr>\n",
       "      <th>3</th>\n",
       "      <td>7795-CFOCW</td>\n",
       "      <td>Male</td>\n",
       "      <td>0</td>\n",
       "      <td>No</td>\n",
       "      <td>No</td>\n",
       "    </tr>\n",
       "    <tr>\n",
       "      <th>4</th>\n",
       "      <td>9237-HQITU</td>\n",
       "      <td>Female</td>\n",
       "      <td>0</td>\n",
       "      <td>No</td>\n",
       "      <td>No</td>\n",
       "    </tr>\n",
       "    <tr>\n",
       "      <th>...</th>\n",
       "      <td>...</td>\n",
       "      <td>...</td>\n",
       "      <td>...</td>\n",
       "      <td>...</td>\n",
       "      <td>...</td>\n",
       "    </tr>\n",
       "    <tr>\n",
       "      <th>7038</th>\n",
       "      <td>6840-RESVB</td>\n",
       "      <td>Male</td>\n",
       "      <td>0</td>\n",
       "      <td>Yes</td>\n",
       "      <td>Yes</td>\n",
       "    </tr>\n",
       "    <tr>\n",
       "      <th>7039</th>\n",
       "      <td>2234-XADUH</td>\n",
       "      <td>Female</td>\n",
       "      <td>0</td>\n",
       "      <td>Yes</td>\n",
       "      <td>Yes</td>\n",
       "    </tr>\n",
       "    <tr>\n",
       "      <th>7040</th>\n",
       "      <td>4801-JZAZL</td>\n",
       "      <td>Female</td>\n",
       "      <td>0</td>\n",
       "      <td>Yes</td>\n",
       "      <td>Yes</td>\n",
       "    </tr>\n",
       "    <tr>\n",
       "      <th>7041</th>\n",
       "      <td>8361-LTMKD</td>\n",
       "      <td>Male</td>\n",
       "      <td>1</td>\n",
       "      <td>Yes</td>\n",
       "      <td>No</td>\n",
       "    </tr>\n",
       "    <tr>\n",
       "      <th>7042</th>\n",
       "      <td>3186-AJIEK</td>\n",
       "      <td>Male</td>\n",
       "      <td>0</td>\n",
       "      <td>No</td>\n",
       "      <td>No</td>\n",
       "    </tr>\n",
       "  </tbody>\n",
       "</table>\n",
       "<p>7043 rows × 5 columns</p>\n",
       "</div>"
      ],
      "text/plain": [
       "      customerID  gender  SeniorCitizen Partner Dependents\n",
       "0     7590-VHVEG  Female              0     Yes         No\n",
       "1     5575-GNVDE    Male              0      No         No\n",
       "2     3668-QPYBK    Male              0      No         No\n",
       "3     7795-CFOCW    Male              0      No         No\n",
       "4     9237-HQITU  Female              0      No         No\n",
       "...          ...     ...            ...     ...        ...\n",
       "7038  6840-RESVB    Male              0     Yes        Yes\n",
       "7039  2234-XADUH  Female              0     Yes        Yes\n",
       "7040  4801-JZAZL  Female              0     Yes        Yes\n",
       "7041  8361-LTMKD    Male              1     Yes         No\n",
       "7042  3186-AJIEK    Male              0      No         No\n",
       "\n",
       "[7043 rows x 5 columns]"
      ]
     },
     "execution_count": 17,
     "metadata": {},
     "output_type": "execute_result"
    }
   ],
   "source": [
    "personal"
   ]
  },
  {
   "cell_type": "code",
   "execution_count": 18,
   "id": "4be7098c",
   "metadata": {},
   "outputs": [
    {
     "name": "stdout",
     "output_type": "stream",
     "text": [
      "<class 'pandas.core.frame.DataFrame'>\n",
      "RangeIndex: 7043 entries, 0 to 7042\n",
      "Data columns (total 5 columns):\n",
      " #   Column         Non-Null Count  Dtype \n",
      "---  ------         --------------  ----- \n",
      " 0   customerID     7043 non-null   object\n",
      " 1   gender         7043 non-null   object\n",
      " 2   SeniorCitizen  7043 non-null   int64 \n",
      " 3   Partner        7043 non-null   object\n",
      " 4   Dependents     7043 non-null   object\n",
      "dtypes: int64(1), object(4)\n",
      "memory usage: 275.2+ KB\n"
     ]
    }
   ],
   "source": [
    "personal.info()"
   ]
  },
  {
   "cell_type": "code",
   "execution_count": 19,
   "id": "e2d9150e",
   "metadata": {},
   "outputs": [
    {
     "data": {
      "text/plain": [
       "array(['No', 'Yes'], dtype=object)"
      ]
     },
     "execution_count": 19,
     "metadata": {},
     "output_type": "execute_result"
    }
   ],
   "source": [
    "# Поменяем SeniorCitizen с int на object для дальнейшей корректной работы;\n",
    "personal.loc[personal['SeniorCitizen'] == 0, 'SeniorCitizen'] = 'No'\n",
    "personal.loc[personal['SeniorCitizen'] == 1, 'SeniorCitizen'] = 'Yes'\n",
    "\n",
    "personal.SeniorCitizen.unique()"
   ]
  },
  {
   "cell_type": "code",
   "execution_count": 20,
   "id": "4534dd5f",
   "metadata": {
    "scrolled": true
   },
   "outputs": [
    {
     "data": {
      "text/plain": [
       "customerID       0.0\n",
       "gender           0.0\n",
       "SeniorCitizen    0.0\n",
       "Partner          0.0\n",
       "Dependents       0.0\n",
       "dtype: float64"
      ]
     },
     "execution_count": 20,
     "metadata": {},
     "output_type": "execute_result"
    }
   ],
   "source": [
    "# проверим пропущенные значения\n",
    "personal.isnull().sum ()/ len(personal)* 100"
   ]
  },
  {
   "cell_type": "code",
   "execution_count": 21,
   "id": "01d5a97c",
   "metadata": {
    "scrolled": true
   },
   "outputs": [
    {
     "data": {
      "text/plain": [
       "Male      3555\n",
       "Female    3488\n",
       "Name: gender, dtype: int64"
      ]
     },
     "execution_count": 21,
     "metadata": {},
     "output_type": "execute_result"
    }
   ],
   "source": [
    "personal['gender'].value_counts()"
   ]
  },
  {
   "cell_type": "code",
   "execution_count": 22,
   "id": "d55a1777",
   "metadata": {},
   "outputs": [
    {
     "data": {
      "text/plain": [
       "No     5901\n",
       "Yes    1142\n",
       "Name: SeniorCitizen, dtype: int64"
      ]
     },
     "execution_count": 22,
     "metadata": {},
     "output_type": "execute_result"
    }
   ],
   "source": [
    "personal['SeniorCitizen'].value_counts()"
   ]
  },
  {
   "cell_type": "markdown",
   "id": "a2586ae2",
   "metadata": {},
   "source": [
    "**Вывод**\n",
    "\n",
    "Таблица personal — персональные данные клиентов. Всего строк 7043, 5 фичей. Пропущенных значений нет. Поменяkb SeniorCitizen с int на object для дальнейшей корректной работы. Количество мужчин и женщин практически одинаковое. Пенсионеров, среди абоентов значительно меньше, 1142 чел, напротив 5901 чел."
   ]
  },
  {
   "cell_type": "code",
   "execution_count": 23,
   "id": "cedfe83e",
   "metadata": {},
   "outputs": [],
   "source": [
    "# Рассмотрим третью таблицу internet — информация об интернет-услугах;\n",
    "internet = '''\n",
    "SELECT *\n",
    "FROM telecom.internet\n",
    "'''\n",
    "internet = pd.read_sql_query(internet, con = engine)\n",
    "internet_columns = internet.iloc[0]\n",
    "internet = internet[1:]\n",
    "internet.columns = internet_columns\n",
    "internet.name = 'internet'\n"
   ]
  },
  {
   "cell_type": "code",
   "execution_count": 24,
   "id": "a788cabf",
   "metadata": {
    "scrolled": true
   },
   "outputs": [
    {
     "data": {
      "text/html": [
       "<div>\n",
       "<style scoped>\n",
       "    .dataframe tbody tr th:only-of-type {\n",
       "        vertical-align: middle;\n",
       "    }\n",
       "\n",
       "    .dataframe tbody tr th {\n",
       "        vertical-align: top;\n",
       "    }\n",
       "\n",
       "    .dataframe thead th {\n",
       "        text-align: right;\n",
       "    }\n",
       "</style>\n",
       "<table border=\"1\" class=\"dataframe\">\n",
       "  <thead>\n",
       "    <tr style=\"text-align: right;\">\n",
       "      <th></th>\n",
       "      <th>customerID</th>\n",
       "      <th>InternetService</th>\n",
       "      <th>OnlineSecurity</th>\n",
       "      <th>OnlineBackup</th>\n",
       "      <th>DeviceProtection</th>\n",
       "      <th>TechSupport</th>\n",
       "      <th>StreamingTV</th>\n",
       "      <th>StreamingMovies</th>\n",
       "    </tr>\n",
       "  </thead>\n",
       "  <tbody>\n",
       "    <tr>\n",
       "      <th>1</th>\n",
       "      <td>7590-VHVEG</td>\n",
       "      <td>DSL</td>\n",
       "      <td>No</td>\n",
       "      <td>Yes</td>\n",
       "      <td>No</td>\n",
       "      <td>No</td>\n",
       "      <td>No</td>\n",
       "      <td>No</td>\n",
       "    </tr>\n",
       "    <tr>\n",
       "      <th>2</th>\n",
       "      <td>5575-GNVDE</td>\n",
       "      <td>DSL</td>\n",
       "      <td>Yes</td>\n",
       "      <td>No</td>\n",
       "      <td>Yes</td>\n",
       "      <td>No</td>\n",
       "      <td>No</td>\n",
       "      <td>No</td>\n",
       "    </tr>\n",
       "    <tr>\n",
       "      <th>3</th>\n",
       "      <td>3668-QPYBK</td>\n",
       "      <td>DSL</td>\n",
       "      <td>Yes</td>\n",
       "      <td>Yes</td>\n",
       "      <td>No</td>\n",
       "      <td>No</td>\n",
       "      <td>No</td>\n",
       "      <td>No</td>\n",
       "    </tr>\n",
       "    <tr>\n",
       "      <th>4</th>\n",
       "      <td>7795-CFOCW</td>\n",
       "      <td>DSL</td>\n",
       "      <td>Yes</td>\n",
       "      <td>No</td>\n",
       "      <td>Yes</td>\n",
       "      <td>Yes</td>\n",
       "      <td>No</td>\n",
       "      <td>No</td>\n",
       "    </tr>\n",
       "    <tr>\n",
       "      <th>5</th>\n",
       "      <td>9237-HQITU</td>\n",
       "      <td>Fiber optic</td>\n",
       "      <td>No</td>\n",
       "      <td>No</td>\n",
       "      <td>No</td>\n",
       "      <td>No</td>\n",
       "      <td>No</td>\n",
       "      <td>No</td>\n",
       "    </tr>\n",
       "    <tr>\n",
       "      <th>...</th>\n",
       "      <td>...</td>\n",
       "      <td>...</td>\n",
       "      <td>...</td>\n",
       "      <td>...</td>\n",
       "      <td>...</td>\n",
       "      <td>...</td>\n",
       "      <td>...</td>\n",
       "      <td>...</td>\n",
       "    </tr>\n",
       "    <tr>\n",
       "      <th>5513</th>\n",
       "      <td>6840-RESVB</td>\n",
       "      <td>DSL</td>\n",
       "      <td>Yes</td>\n",
       "      <td>No</td>\n",
       "      <td>Yes</td>\n",
       "      <td>Yes</td>\n",
       "      <td>Yes</td>\n",
       "      <td>Yes</td>\n",
       "    </tr>\n",
       "    <tr>\n",
       "      <th>5514</th>\n",
       "      <td>2234-XADUH</td>\n",
       "      <td>Fiber optic</td>\n",
       "      <td>No</td>\n",
       "      <td>Yes</td>\n",
       "      <td>Yes</td>\n",
       "      <td>No</td>\n",
       "      <td>Yes</td>\n",
       "      <td>Yes</td>\n",
       "    </tr>\n",
       "    <tr>\n",
       "      <th>5515</th>\n",
       "      <td>4801-JZAZL</td>\n",
       "      <td>DSL</td>\n",
       "      <td>Yes</td>\n",
       "      <td>No</td>\n",
       "      <td>No</td>\n",
       "      <td>No</td>\n",
       "      <td>No</td>\n",
       "      <td>No</td>\n",
       "    </tr>\n",
       "    <tr>\n",
       "      <th>5516</th>\n",
       "      <td>8361-LTMKD</td>\n",
       "      <td>Fiber optic</td>\n",
       "      <td>No</td>\n",
       "      <td>No</td>\n",
       "      <td>No</td>\n",
       "      <td>No</td>\n",
       "      <td>No</td>\n",
       "      <td>No</td>\n",
       "    </tr>\n",
       "    <tr>\n",
       "      <th>5517</th>\n",
       "      <td>3186-AJIEK</td>\n",
       "      <td>Fiber optic</td>\n",
       "      <td>Yes</td>\n",
       "      <td>No</td>\n",
       "      <td>Yes</td>\n",
       "      <td>Yes</td>\n",
       "      <td>Yes</td>\n",
       "      <td>Yes</td>\n",
       "    </tr>\n",
       "  </tbody>\n",
       "</table>\n",
       "<p>5517 rows × 8 columns</p>\n",
       "</div>"
      ],
      "text/plain": [
       "0     customerID InternetService OnlineSecurity OnlineBackup DeviceProtection  \\\n",
       "1     7590-VHVEG             DSL             No          Yes               No   \n",
       "2     5575-GNVDE             DSL            Yes           No              Yes   \n",
       "3     3668-QPYBK             DSL            Yes          Yes               No   \n",
       "4     7795-CFOCW             DSL            Yes           No              Yes   \n",
       "5     9237-HQITU     Fiber optic             No           No               No   \n",
       "...          ...             ...            ...          ...              ...   \n",
       "5513  6840-RESVB             DSL            Yes           No              Yes   \n",
       "5514  2234-XADUH     Fiber optic             No          Yes              Yes   \n",
       "5515  4801-JZAZL             DSL            Yes           No               No   \n",
       "5516  8361-LTMKD     Fiber optic             No           No               No   \n",
       "5517  3186-AJIEK     Fiber optic            Yes           No              Yes   \n",
       "\n",
       "0    TechSupport StreamingTV StreamingMovies  \n",
       "1             No          No              No  \n",
       "2             No          No              No  \n",
       "3             No          No              No  \n",
       "4            Yes          No              No  \n",
       "5             No          No              No  \n",
       "...          ...         ...             ...  \n",
       "5513         Yes         Yes             Yes  \n",
       "5514          No         Yes             Yes  \n",
       "5515          No          No              No  \n",
       "5516          No          No              No  \n",
       "5517         Yes         Yes             Yes  \n",
       "\n",
       "[5517 rows x 8 columns]"
      ]
     },
     "execution_count": 24,
     "metadata": {},
     "output_type": "execute_result"
    }
   ],
   "source": [
    "internet"
   ]
  },
  {
   "cell_type": "code",
   "execution_count": 25,
   "id": "c3c2bfef",
   "metadata": {},
   "outputs": [
    {
     "name": "stdout",
     "output_type": "stream",
     "text": [
      "<class 'pandas.core.frame.DataFrame'>\n",
      "RangeIndex: 5517 entries, 1 to 5517\n",
      "Data columns (total 8 columns):\n",
      " #   Column            Non-Null Count  Dtype \n",
      "---  ------            --------------  ----- \n",
      " 0   customerID        5517 non-null   object\n",
      " 1   InternetService   5517 non-null   object\n",
      " 2   OnlineSecurity    5517 non-null   object\n",
      " 3   OnlineBackup      5517 non-null   object\n",
      " 4   DeviceProtection  5517 non-null   object\n",
      " 5   TechSupport       5517 non-null   object\n",
      " 6   StreamingTV       5517 non-null   object\n",
      " 7   StreamingMovies   5517 non-null   object\n",
      "dtypes: object(8)\n",
      "memory usage: 344.9+ KB\n"
     ]
    }
   ],
   "source": [
    "internet.info()"
   ]
  },
  {
   "cell_type": "markdown",
   "id": "8800ea1e",
   "metadata": {},
   "source": [
    "**Вывод:**\n",
    "\n",
    "Таблица internet — информация об интернет-услугах. Всего строк нас 5517, 8 фичей. Пропущенных значений нет.Данные есть не по всем клиентам"
   ]
  },
  {
   "cell_type": "code",
   "execution_count": 26,
   "id": "d84c9759",
   "metadata": {},
   "outputs": [],
   "source": [
    "# Рассмотрим четвёртую таблицу phone — информация об услугах телефонии\n",
    "\n",
    "phone = '''\n",
    "SELECT *\n",
    "FROM telecom.phone\n",
    "'''\n",
    "phone = pd.read_sql_query(phone, con = engine)\n",
    "phone_columns = phone.iloc[0]\n",
    "phone = phone[1:]\n",
    "phone.columns = phone_columns\n",
    "phone.name = 'phone'"
   ]
  },
  {
   "cell_type": "code",
   "execution_count": 27,
   "id": "f291cee5",
   "metadata": {
    "scrolled": true
   },
   "outputs": [
    {
     "data": {
      "text/html": [
       "<div>\n",
       "<style scoped>\n",
       "    .dataframe tbody tr th:only-of-type {\n",
       "        vertical-align: middle;\n",
       "    }\n",
       "\n",
       "    .dataframe tbody tr th {\n",
       "        vertical-align: top;\n",
       "    }\n",
       "\n",
       "    .dataframe thead th {\n",
       "        text-align: right;\n",
       "    }\n",
       "</style>\n",
       "<table border=\"1\" class=\"dataframe\">\n",
       "  <thead>\n",
       "    <tr style=\"text-align: right;\">\n",
       "      <th></th>\n",
       "      <th>customerID</th>\n",
       "      <th>MultipleLines</th>\n",
       "    </tr>\n",
       "  </thead>\n",
       "  <tbody>\n",
       "    <tr>\n",
       "      <th>1</th>\n",
       "      <td>5575-GNVDE</td>\n",
       "      <td>No</td>\n",
       "    </tr>\n",
       "    <tr>\n",
       "      <th>2</th>\n",
       "      <td>3668-QPYBK</td>\n",
       "      <td>No</td>\n",
       "    </tr>\n",
       "    <tr>\n",
       "      <th>3</th>\n",
       "      <td>9237-HQITU</td>\n",
       "      <td>No</td>\n",
       "    </tr>\n",
       "    <tr>\n",
       "      <th>4</th>\n",
       "      <td>9305-CDSKC</td>\n",
       "      <td>Yes</td>\n",
       "    </tr>\n",
       "    <tr>\n",
       "      <th>5</th>\n",
       "      <td>1452-KIOVK</td>\n",
       "      <td>Yes</td>\n",
       "    </tr>\n",
       "    <tr>\n",
       "      <th>...</th>\n",
       "      <td>...</td>\n",
       "      <td>...</td>\n",
       "    </tr>\n",
       "    <tr>\n",
       "      <th>6357</th>\n",
       "      <td>2569-WGERO</td>\n",
       "      <td>No</td>\n",
       "    </tr>\n",
       "    <tr>\n",
       "      <th>6358</th>\n",
       "      <td>6840-RESVB</td>\n",
       "      <td>Yes</td>\n",
       "    </tr>\n",
       "    <tr>\n",
       "      <th>6359</th>\n",
       "      <td>2234-XADUH</td>\n",
       "      <td>Yes</td>\n",
       "    </tr>\n",
       "    <tr>\n",
       "      <th>6360</th>\n",
       "      <td>8361-LTMKD</td>\n",
       "      <td>Yes</td>\n",
       "    </tr>\n",
       "    <tr>\n",
       "      <th>6361</th>\n",
       "      <td>3186-AJIEK</td>\n",
       "      <td>No</td>\n",
       "    </tr>\n",
       "  </tbody>\n",
       "</table>\n",
       "<p>6361 rows × 2 columns</p>\n",
       "</div>"
      ],
      "text/plain": [
       "0     customerID MultipleLines\n",
       "1     5575-GNVDE            No\n",
       "2     3668-QPYBK            No\n",
       "3     9237-HQITU            No\n",
       "4     9305-CDSKC           Yes\n",
       "5     1452-KIOVK           Yes\n",
       "...          ...           ...\n",
       "6357  2569-WGERO            No\n",
       "6358  6840-RESVB           Yes\n",
       "6359  2234-XADUH           Yes\n",
       "6360  8361-LTMKD           Yes\n",
       "6361  3186-AJIEK            No\n",
       "\n",
       "[6361 rows x 2 columns]"
      ]
     },
     "execution_count": 27,
     "metadata": {},
     "output_type": "execute_result"
    }
   ],
   "source": [
    "phone"
   ]
  },
  {
   "cell_type": "code",
   "execution_count": 28,
   "id": "783f1491",
   "metadata": {},
   "outputs": [
    {
     "name": "stdout",
     "output_type": "stream",
     "text": [
      "<class 'pandas.core.frame.DataFrame'>\n",
      "RangeIndex: 6361 entries, 1 to 6361\n",
      "Data columns (total 2 columns):\n",
      " #   Column         Non-Null Count  Dtype \n",
      "---  ------         --------------  ----- \n",
      " 0   customerID     6361 non-null   object\n",
      " 1   MultipleLines  6361 non-null   object\n",
      "dtypes: object(2)\n",
      "memory usage: 99.5+ KB\n"
     ]
    }
   ],
   "source": [
    "phone.info()"
   ]
  },
  {
   "cell_type": "markdown",
   "id": "5f8b8ec2",
   "metadata": {},
   "source": [
    "**Вывод:**\n",
    "\n",
    "Таблица phone — информация об услугах телефонии. Всего строк нас 6361, 2 фичи. Пропущенных значений нет.Данные есть не по всем клиентам."
   ]
  },
  {
   "cell_type": "markdown",
   "id": "130dc11b",
   "metadata": {},
   "source": [
    "**Итак, нам удалось установить связь с базой данных и познакомится с 4 таблицами:**\n",
    "    \n",
    "- contract — информация о договорах;\n",
    "- personal — персональные данные клиентов;\n",
    "- internet — информация об интернет-услугах;\n",
    "- phone — информация об услугах телефонии.\n",
    "\n",
    "Проанализировали исходные данные. Проверили:\n",
    "\n",
    "- Все ли таблицы содержат данные.\n",
    "- Соответствует ли количество таблиц условию задачи.\n",
    "\n",
    "Поменяли тип данных на нужный, заполнили пропуски, где это было необходимо."
   ]
  },
  {
   "cell_type": "markdown",
   "id": "26a7a6a5",
   "metadata": {},
   "source": [
    "### Исследовательский анализ и предобработка данных"
   ]
  },
  {
   "cell_type": "code",
   "execution_count": 29,
   "id": "9097a15a",
   "metadata": {},
   "outputs": [
    {
     "name": "stderr",
     "output_type": "stream",
     "text": [
      "100%|██████████| 7043/7043 [00:00<00:00, 118411.54it/s]\n"
     ]
    }
   ],
   "source": [
    "# Преобразуем столбец EndDate в целевую переменную\n",
    "\n",
    "def target_markeup(row):\n",
    "    if row['EndDate'] is None:\n",
    "        return 0\n",
    "    else: \n",
    "        return 1\n",
    "contract['target'] = contract.progress_apply(target_markeup, axis=1)"
   ]
  },
  {
   "cell_type": "code",
   "execution_count": 30,
   "id": "fe2a0431",
   "metadata": {},
   "outputs": [],
   "source": [
    "# Объединим таблицы в одну\n",
    "df = personal.merge(contract, on ='customerID', how='inner')\n",
    "df = df.merge(internet, on ='customerID', how = 'outer')\n",
    "df = df.merge(phone, on ='customerID', how = 'outer')\n",
    "df.name = 'df'"
   ]
  },
  {
   "cell_type": "code",
   "execution_count": 31,
   "id": "07322841",
   "metadata": {},
   "outputs": [
    {
     "data": {
      "text/html": [
       "<div>\n",
       "<style scoped>\n",
       "    .dataframe tbody tr th:only-of-type {\n",
       "        vertical-align: middle;\n",
       "    }\n",
       "\n",
       "    .dataframe tbody tr th {\n",
       "        vertical-align: top;\n",
       "    }\n",
       "\n",
       "    .dataframe thead th {\n",
       "        text-align: right;\n",
       "    }\n",
       "</style>\n",
       "<table border=\"1\" class=\"dataframe\">\n",
       "  <thead>\n",
       "    <tr style=\"text-align: right;\">\n",
       "      <th></th>\n",
       "      <th>customerID</th>\n",
       "      <th>gender</th>\n",
       "      <th>SeniorCitizen</th>\n",
       "      <th>Partner</th>\n",
       "      <th>Dependents</th>\n",
       "      <th>BeginDate</th>\n",
       "      <th>EndDate</th>\n",
       "      <th>Type</th>\n",
       "      <th>PaperlessBilling</th>\n",
       "      <th>PaymentMethod</th>\n",
       "      <th>...</th>\n",
       "      <th>TotalCharges</th>\n",
       "      <th>target</th>\n",
       "      <th>InternetService</th>\n",
       "      <th>OnlineSecurity</th>\n",
       "      <th>OnlineBackup</th>\n",
       "      <th>DeviceProtection</th>\n",
       "      <th>TechSupport</th>\n",
       "      <th>StreamingTV</th>\n",
       "      <th>StreamingMovies</th>\n",
       "      <th>MultipleLines</th>\n",
       "    </tr>\n",
       "  </thead>\n",
       "  <tbody>\n",
       "    <tr>\n",
       "      <th>0</th>\n",
       "      <td>7590-VHVEG</td>\n",
       "      <td>Female</td>\n",
       "      <td>No</td>\n",
       "      <td>Yes</td>\n",
       "      <td>No</td>\n",
       "      <td>2019-04-29</td>\n",
       "      <td>None</td>\n",
       "      <td>Month-to-month</td>\n",
       "      <td>Yes</td>\n",
       "      <td>Electronic check</td>\n",
       "      <td>...</td>\n",
       "      <td>29.85</td>\n",
       "      <td>0</td>\n",
       "      <td>DSL</td>\n",
       "      <td>No</td>\n",
       "      <td>Yes</td>\n",
       "      <td>No</td>\n",
       "      <td>No</td>\n",
       "      <td>No</td>\n",
       "      <td>No</td>\n",
       "      <td>NaN</td>\n",
       "    </tr>\n",
       "    <tr>\n",
       "      <th>1</th>\n",
       "      <td>5575-GNVDE</td>\n",
       "      <td>Male</td>\n",
       "      <td>No</td>\n",
       "      <td>No</td>\n",
       "      <td>No</td>\n",
       "      <td>2019-03-26</td>\n",
       "      <td>None</td>\n",
       "      <td>One year</td>\n",
       "      <td>No</td>\n",
       "      <td>Mailed check</td>\n",
       "      <td>...</td>\n",
       "      <td>1889.50</td>\n",
       "      <td>0</td>\n",
       "      <td>DSL</td>\n",
       "      <td>Yes</td>\n",
       "      <td>No</td>\n",
       "      <td>Yes</td>\n",
       "      <td>No</td>\n",
       "      <td>No</td>\n",
       "      <td>No</td>\n",
       "      <td>No</td>\n",
       "    </tr>\n",
       "    <tr>\n",
       "      <th>2</th>\n",
       "      <td>3668-QPYBK</td>\n",
       "      <td>Male</td>\n",
       "      <td>No</td>\n",
       "      <td>No</td>\n",
       "      <td>No</td>\n",
       "      <td>2018-08-09</td>\n",
       "      <td>2019-12-01</td>\n",
       "      <td>Month-to-month</td>\n",
       "      <td>Yes</td>\n",
       "      <td>Mailed check</td>\n",
       "      <td>...</td>\n",
       "      <td>108.15</td>\n",
       "      <td>1</td>\n",
       "      <td>DSL</td>\n",
       "      <td>Yes</td>\n",
       "      <td>Yes</td>\n",
       "      <td>No</td>\n",
       "      <td>No</td>\n",
       "      <td>No</td>\n",
       "      <td>No</td>\n",
       "      <td>No</td>\n",
       "    </tr>\n",
       "    <tr>\n",
       "      <th>3</th>\n",
       "      <td>7795-CFOCW</td>\n",
       "      <td>Male</td>\n",
       "      <td>No</td>\n",
       "      <td>No</td>\n",
       "      <td>No</td>\n",
       "      <td>2018-12-22</td>\n",
       "      <td>None</td>\n",
       "      <td>One year</td>\n",
       "      <td>No</td>\n",
       "      <td>Bank transfer (automatic)</td>\n",
       "      <td>...</td>\n",
       "      <td>1840.75</td>\n",
       "      <td>0</td>\n",
       "      <td>DSL</td>\n",
       "      <td>Yes</td>\n",
       "      <td>No</td>\n",
       "      <td>Yes</td>\n",
       "      <td>Yes</td>\n",
       "      <td>No</td>\n",
       "      <td>No</td>\n",
       "      <td>NaN</td>\n",
       "    </tr>\n",
       "    <tr>\n",
       "      <th>4</th>\n",
       "      <td>9237-HQITU</td>\n",
       "      <td>Female</td>\n",
       "      <td>No</td>\n",
       "      <td>No</td>\n",
       "      <td>No</td>\n",
       "      <td>2019-01-26</td>\n",
       "      <td>2019-11-01</td>\n",
       "      <td>Month-to-month</td>\n",
       "      <td>Yes</td>\n",
       "      <td>Electronic check</td>\n",
       "      <td>...</td>\n",
       "      <td>151.65</td>\n",
       "      <td>1</td>\n",
       "      <td>Fiber optic</td>\n",
       "      <td>No</td>\n",
       "      <td>No</td>\n",
       "      <td>No</td>\n",
       "      <td>No</td>\n",
       "      <td>No</td>\n",
       "      <td>No</td>\n",
       "      <td>No</td>\n",
       "    </tr>\n",
       "    <tr>\n",
       "      <th>...</th>\n",
       "      <td>...</td>\n",
       "      <td>...</td>\n",
       "      <td>...</td>\n",
       "      <td>...</td>\n",
       "      <td>...</td>\n",
       "      <td>...</td>\n",
       "      <td>...</td>\n",
       "      <td>...</td>\n",
       "      <td>...</td>\n",
       "      <td>...</td>\n",
       "      <td>...</td>\n",
       "      <td>...</td>\n",
       "      <td>...</td>\n",
       "      <td>...</td>\n",
       "      <td>...</td>\n",
       "      <td>...</td>\n",
       "      <td>...</td>\n",
       "      <td>...</td>\n",
       "      <td>...</td>\n",
       "      <td>...</td>\n",
       "      <td>...</td>\n",
       "    </tr>\n",
       "    <tr>\n",
       "      <th>7038</th>\n",
       "      <td>6840-RESVB</td>\n",
       "      <td>Male</td>\n",
       "      <td>No</td>\n",
       "      <td>Yes</td>\n",
       "      <td>Yes</td>\n",
       "      <td>2019-02-26</td>\n",
       "      <td>None</td>\n",
       "      <td>One year</td>\n",
       "      <td>Yes</td>\n",
       "      <td>Mailed check</td>\n",
       "      <td>...</td>\n",
       "      <td>1990.50</td>\n",
       "      <td>0</td>\n",
       "      <td>DSL</td>\n",
       "      <td>Yes</td>\n",
       "      <td>No</td>\n",
       "      <td>Yes</td>\n",
       "      <td>Yes</td>\n",
       "      <td>Yes</td>\n",
       "      <td>Yes</td>\n",
       "      <td>Yes</td>\n",
       "    </tr>\n",
       "    <tr>\n",
       "      <th>7039</th>\n",
       "      <td>2234-XADUH</td>\n",
       "      <td>Female</td>\n",
       "      <td>No</td>\n",
       "      <td>Yes</td>\n",
       "      <td>Yes</td>\n",
       "      <td>2019-09-02</td>\n",
       "      <td>None</td>\n",
       "      <td>One year</td>\n",
       "      <td>Yes</td>\n",
       "      <td>Credit card (automatic)</td>\n",
       "      <td>...</td>\n",
       "      <td>7362.90</td>\n",
       "      <td>0</td>\n",
       "      <td>Fiber optic</td>\n",
       "      <td>No</td>\n",
       "      <td>Yes</td>\n",
       "      <td>Yes</td>\n",
       "      <td>No</td>\n",
       "      <td>Yes</td>\n",
       "      <td>Yes</td>\n",
       "      <td>Yes</td>\n",
       "    </tr>\n",
       "    <tr>\n",
       "      <th>7040</th>\n",
       "      <td>4801-JZAZL</td>\n",
       "      <td>Female</td>\n",
       "      <td>No</td>\n",
       "      <td>Yes</td>\n",
       "      <td>Yes</td>\n",
       "      <td>2019-06-26</td>\n",
       "      <td>None</td>\n",
       "      <td>Month-to-month</td>\n",
       "      <td>Yes</td>\n",
       "      <td>Electronic check</td>\n",
       "      <td>...</td>\n",
       "      <td>346.45</td>\n",
       "      <td>0</td>\n",
       "      <td>DSL</td>\n",
       "      <td>Yes</td>\n",
       "      <td>No</td>\n",
       "      <td>No</td>\n",
       "      <td>No</td>\n",
       "      <td>No</td>\n",
       "      <td>No</td>\n",
       "      <td>NaN</td>\n",
       "    </tr>\n",
       "    <tr>\n",
       "      <th>7041</th>\n",
       "      <td>8361-LTMKD</td>\n",
       "      <td>Male</td>\n",
       "      <td>Yes</td>\n",
       "      <td>Yes</td>\n",
       "      <td>No</td>\n",
       "      <td>2018-12-07</td>\n",
       "      <td>2019-11-01</td>\n",
       "      <td>Month-to-month</td>\n",
       "      <td>Yes</td>\n",
       "      <td>Mailed check</td>\n",
       "      <td>...</td>\n",
       "      <td>306.60</td>\n",
       "      <td>1</td>\n",
       "      <td>Fiber optic</td>\n",
       "      <td>No</td>\n",
       "      <td>No</td>\n",
       "      <td>No</td>\n",
       "      <td>No</td>\n",
       "      <td>No</td>\n",
       "      <td>No</td>\n",
       "      <td>Yes</td>\n",
       "    </tr>\n",
       "    <tr>\n",
       "      <th>7042</th>\n",
       "      <td>3186-AJIEK</td>\n",
       "      <td>Male</td>\n",
       "      <td>No</td>\n",
       "      <td>No</td>\n",
       "      <td>No</td>\n",
       "      <td>2019-04-18</td>\n",
       "      <td>None</td>\n",
       "      <td>Two year</td>\n",
       "      <td>Yes</td>\n",
       "      <td>Bank transfer (automatic)</td>\n",
       "      <td>...</td>\n",
       "      <td>6844.50</td>\n",
       "      <td>0</td>\n",
       "      <td>Fiber optic</td>\n",
       "      <td>Yes</td>\n",
       "      <td>No</td>\n",
       "      <td>Yes</td>\n",
       "      <td>Yes</td>\n",
       "      <td>Yes</td>\n",
       "      <td>Yes</td>\n",
       "      <td>No</td>\n",
       "    </tr>\n",
       "  </tbody>\n",
       "</table>\n",
       "<p>7043 rows × 21 columns</p>\n",
       "</div>"
      ],
      "text/plain": [
       "      customerID  gender SeniorCitizen Partner Dependents   BeginDate  \\\n",
       "0     7590-VHVEG  Female            No     Yes         No  2019-04-29   \n",
       "1     5575-GNVDE    Male            No      No         No  2019-03-26   \n",
       "2     3668-QPYBK    Male            No      No         No  2018-08-09   \n",
       "3     7795-CFOCW    Male            No      No         No  2018-12-22   \n",
       "4     9237-HQITU  Female            No      No         No  2019-01-26   \n",
       "...          ...     ...           ...     ...        ...         ...   \n",
       "7038  6840-RESVB    Male            No     Yes        Yes  2019-02-26   \n",
       "7039  2234-XADUH  Female            No     Yes        Yes  2019-09-02   \n",
       "7040  4801-JZAZL  Female            No     Yes        Yes  2019-06-26   \n",
       "7041  8361-LTMKD    Male           Yes     Yes         No  2018-12-07   \n",
       "7042  3186-AJIEK    Male            No      No         No  2019-04-18   \n",
       "\n",
       "         EndDate            Type PaperlessBilling              PaymentMethod  \\\n",
       "0           None  Month-to-month              Yes           Electronic check   \n",
       "1           None        One year               No               Mailed check   \n",
       "2     2019-12-01  Month-to-month              Yes               Mailed check   \n",
       "3           None        One year               No  Bank transfer (automatic)   \n",
       "4     2019-11-01  Month-to-month              Yes           Electronic check   \n",
       "...          ...             ...              ...                        ...   \n",
       "7038        None        One year              Yes               Mailed check   \n",
       "7039        None        One year              Yes    Credit card (automatic)   \n",
       "7040        None  Month-to-month              Yes           Electronic check   \n",
       "7041  2019-11-01  Month-to-month              Yes               Mailed check   \n",
       "7042        None        Two year              Yes  Bank transfer (automatic)   \n",
       "\n",
       "      ...  TotalCharges  target  InternetService OnlineSecurity OnlineBackup  \\\n",
       "0     ...         29.85       0              DSL             No          Yes   \n",
       "1     ...       1889.50       0              DSL            Yes           No   \n",
       "2     ...        108.15       1              DSL            Yes          Yes   \n",
       "3     ...       1840.75       0              DSL            Yes           No   \n",
       "4     ...        151.65       1      Fiber optic             No           No   \n",
       "...   ...           ...     ...              ...            ...          ...   \n",
       "7038  ...       1990.50       0              DSL            Yes           No   \n",
       "7039  ...       7362.90       0      Fiber optic             No          Yes   \n",
       "7040  ...        346.45       0              DSL            Yes           No   \n",
       "7041  ...        306.60       1      Fiber optic             No           No   \n",
       "7042  ...       6844.50       0      Fiber optic            Yes           No   \n",
       "\n",
       "     DeviceProtection TechSupport StreamingTV StreamingMovies MultipleLines  \n",
       "0                  No          No          No              No           NaN  \n",
       "1                 Yes          No          No              No            No  \n",
       "2                  No          No          No              No            No  \n",
       "3                 Yes         Yes          No              No           NaN  \n",
       "4                  No          No          No              No            No  \n",
       "...               ...         ...         ...             ...           ...  \n",
       "7038              Yes         Yes         Yes             Yes           Yes  \n",
       "7039              Yes          No         Yes             Yes           Yes  \n",
       "7040               No          No          No              No           NaN  \n",
       "7041               No          No          No              No           Yes  \n",
       "7042              Yes         Yes         Yes             Yes            No  \n",
       "\n",
       "[7043 rows x 21 columns]"
      ]
     },
     "execution_count": 31,
     "metadata": {},
     "output_type": "execute_result"
    }
   ],
   "source": [
    "df"
   ]
  },
  {
   "cell_type": "code",
   "execution_count": 32,
   "id": "984ed8c1",
   "metadata": {},
   "outputs": [
    {
     "name": "stdout",
     "output_type": "stream",
     "text": [
      "<class 'pandas.core.frame.DataFrame'>\n",
      "Int64Index: 7043 entries, 0 to 7042\n",
      "Data columns (total 21 columns):\n",
      " #   Column            Non-Null Count  Dtype  \n",
      "---  ------            --------------  -----  \n",
      " 0   customerID        7043 non-null   object \n",
      " 1   gender            7043 non-null   object \n",
      " 2   SeniorCitizen     7043 non-null   object \n",
      " 3   Partner           7043 non-null   object \n",
      " 4   Dependents        7043 non-null   object \n",
      " 5   BeginDate         7043 non-null   object \n",
      " 6   EndDate           1869 non-null   object \n",
      " 7   Type              7043 non-null   object \n",
      " 8   PaperlessBilling  7043 non-null   object \n",
      " 9   PaymentMethod     7043 non-null   object \n",
      " 10  MonthlyCharges    7043 non-null   float64\n",
      " 11  TotalCharges      7043 non-null   float64\n",
      " 12  target            7043 non-null   int64  \n",
      " 13  InternetService   5517 non-null   object \n",
      " 14  OnlineSecurity    5517 non-null   object \n",
      " 15  OnlineBackup      5517 non-null   object \n",
      " 16  DeviceProtection  5517 non-null   object \n",
      " 17  TechSupport       5517 non-null   object \n",
      " 18  StreamingTV       5517 non-null   object \n",
      " 19  StreamingMovies   5517 non-null   object \n",
      " 20  MultipleLines     6361 non-null   object \n",
      "dtypes: float64(2), int64(1), object(18)\n",
      "memory usage: 1.2+ MB\n"
     ]
    }
   ],
   "source": [
    "df.info()"
   ]
  },
  {
   "cell_type": "markdown",
   "id": "4a348ef4",
   "metadata": {},
   "source": [
    "Пропуски в InternetService, OnlineSecurity, OnlineBackup, DeviceProtection, TechSupport, StreamingTV, StreamingMovies и MultipleLines скорее всего означают, что услуги не подключены. Заменим пропуски на \"No\""
   ]
  },
  {
   "cell_type": "code",
   "execution_count": 33,
   "id": "948cc1a2",
   "metadata": {},
   "outputs": [],
   "source": [
    "for column in ('InternetService', 'OnlineSecurity', 'OnlineBackup', 'DeviceProtection', 'TechSupport', 'StreamingTV', 'StreamingMovies', 'MultipleLines'):\n",
    "    df[column] = df[column].fillna('No')\n"
   ]
  },
  {
   "cell_type": "code",
   "execution_count": 34,
   "id": "83bc0bd8",
   "metadata": {},
   "outputs": [
    {
     "name": "stdout",
     "output_type": "stream",
     "text": [
      "<class 'pandas.core.frame.DataFrame'>\n",
      "Int64Index: 7043 entries, 0 to 7042\n",
      "Data columns (total 21 columns):\n",
      " #   Column            Non-Null Count  Dtype  \n",
      "---  ------            --------------  -----  \n",
      " 0   customerID        7043 non-null   object \n",
      " 1   gender            7043 non-null   object \n",
      " 2   SeniorCitizen     7043 non-null   object \n",
      " 3   Partner           7043 non-null   object \n",
      " 4   Dependents        7043 non-null   object \n",
      " 5   BeginDate         7043 non-null   object \n",
      " 6   EndDate           1869 non-null   object \n",
      " 7   Type              7043 non-null   object \n",
      " 8   PaperlessBilling  7043 non-null   object \n",
      " 9   PaymentMethod     7043 non-null   object \n",
      " 10  MonthlyCharges    7043 non-null   float64\n",
      " 11  TotalCharges      7043 non-null   float64\n",
      " 12  target            7043 non-null   int64  \n",
      " 13  InternetService   7043 non-null   object \n",
      " 14  OnlineSecurity    7043 non-null   object \n",
      " 15  OnlineBackup      7043 non-null   object \n",
      " 16  DeviceProtection  7043 non-null   object \n",
      " 17  TechSupport       7043 non-null   object \n",
      " 18  StreamingTV       7043 non-null   object \n",
      " 19  StreamingMovies   7043 non-null   object \n",
      " 20  MultipleLines     7043 non-null   object \n",
      "dtypes: float64(2), int64(1), object(18)\n",
      "memory usage: 1.2+ MB\n"
     ]
    }
   ],
   "source": [
    "df.info()"
   ]
  },
  {
   "cell_type": "code",
   "execution_count": 35,
   "id": "890ada81",
   "metadata": {},
   "outputs": [
    {
     "data": {
      "text/plain": [
       "True"
      ]
     },
     "execution_count": 35,
     "metadata": {},
     "output_type": "execute_result"
    }
   ],
   "source": [
    "# Проверим, что все значения CustomerID уникальные\n",
    "df['customerID'].is_unique\n"
   ]
  },
  {
   "cell_type": "code",
   "execution_count": 36,
   "id": "45afb897",
   "metadata": {},
   "outputs": [
    {
     "data": {
      "text/html": [
       "<div>\n",
       "<style scoped>\n",
       "    .dataframe tbody tr th:only-of-type {\n",
       "        vertical-align: middle;\n",
       "    }\n",
       "\n",
       "    .dataframe tbody tr th {\n",
       "        vertical-align: top;\n",
       "    }\n",
       "\n",
       "    .dataframe thead th {\n",
       "        text-align: right;\n",
       "    }\n",
       "</style>\n",
       "<table border=\"1\" class=\"dataframe\">\n",
       "  <thead>\n",
       "    <tr style=\"text-align: right;\">\n",
       "      <th></th>\n",
       "      <th>customerID</th>\n",
       "      <th>gender</th>\n",
       "      <th>SeniorCitizen</th>\n",
       "      <th>Partner</th>\n",
       "      <th>Dependents</th>\n",
       "      <th>BeginDate</th>\n",
       "      <th>EndDate</th>\n",
       "      <th>Type</th>\n",
       "      <th>PaperlessBilling</th>\n",
       "      <th>PaymentMethod</th>\n",
       "      <th>...</th>\n",
       "      <th>target</th>\n",
       "      <th>InternetService</th>\n",
       "      <th>OnlineSecurity</th>\n",
       "      <th>OnlineBackup</th>\n",
       "      <th>DeviceProtection</th>\n",
       "      <th>TechSupport</th>\n",
       "      <th>StreamingTV</th>\n",
       "      <th>StreamingMovies</th>\n",
       "      <th>MultipleLines</th>\n",
       "      <th>Use_days</th>\n",
       "    </tr>\n",
       "  </thead>\n",
       "  <tbody>\n",
       "    <tr>\n",
       "      <th>0</th>\n",
       "      <td>7590-VHVEG</td>\n",
       "      <td>Female</td>\n",
       "      <td>No</td>\n",
       "      <td>Yes</td>\n",
       "      <td>No</td>\n",
       "      <td>2019-04-29</td>\n",
       "      <td>2020-02-01</td>\n",
       "      <td>Month-to-month</td>\n",
       "      <td>Yes</td>\n",
       "      <td>Electronic check</td>\n",
       "      <td>...</td>\n",
       "      <td>0</td>\n",
       "      <td>DSL</td>\n",
       "      <td>No</td>\n",
       "      <td>Yes</td>\n",
       "      <td>No</td>\n",
       "      <td>No</td>\n",
       "      <td>No</td>\n",
       "      <td>No</td>\n",
       "      <td>No</td>\n",
       "      <td>278</td>\n",
       "    </tr>\n",
       "    <tr>\n",
       "      <th>1</th>\n",
       "      <td>5575-GNVDE</td>\n",
       "      <td>Male</td>\n",
       "      <td>No</td>\n",
       "      <td>No</td>\n",
       "      <td>No</td>\n",
       "      <td>2019-03-26</td>\n",
       "      <td>2020-02-01</td>\n",
       "      <td>One year</td>\n",
       "      <td>No</td>\n",
       "      <td>Mailed check</td>\n",
       "      <td>...</td>\n",
       "      <td>0</td>\n",
       "      <td>DSL</td>\n",
       "      <td>Yes</td>\n",
       "      <td>No</td>\n",
       "      <td>Yes</td>\n",
       "      <td>No</td>\n",
       "      <td>No</td>\n",
       "      <td>No</td>\n",
       "      <td>No</td>\n",
       "      <td>312</td>\n",
       "    </tr>\n",
       "    <tr>\n",
       "      <th>2</th>\n",
       "      <td>3668-QPYBK</td>\n",
       "      <td>Male</td>\n",
       "      <td>No</td>\n",
       "      <td>No</td>\n",
       "      <td>No</td>\n",
       "      <td>2018-08-09</td>\n",
       "      <td>2019-12-01</td>\n",
       "      <td>Month-to-month</td>\n",
       "      <td>Yes</td>\n",
       "      <td>Mailed check</td>\n",
       "      <td>...</td>\n",
       "      <td>1</td>\n",
       "      <td>DSL</td>\n",
       "      <td>Yes</td>\n",
       "      <td>Yes</td>\n",
       "      <td>No</td>\n",
       "      <td>No</td>\n",
       "      <td>No</td>\n",
       "      <td>No</td>\n",
       "      <td>No</td>\n",
       "      <td>479</td>\n",
       "    </tr>\n",
       "    <tr>\n",
       "      <th>3</th>\n",
       "      <td>7795-CFOCW</td>\n",
       "      <td>Male</td>\n",
       "      <td>No</td>\n",
       "      <td>No</td>\n",
       "      <td>No</td>\n",
       "      <td>2018-12-22</td>\n",
       "      <td>2020-02-01</td>\n",
       "      <td>One year</td>\n",
       "      <td>No</td>\n",
       "      <td>Bank transfer (automatic)</td>\n",
       "      <td>...</td>\n",
       "      <td>0</td>\n",
       "      <td>DSL</td>\n",
       "      <td>Yes</td>\n",
       "      <td>No</td>\n",
       "      <td>Yes</td>\n",
       "      <td>Yes</td>\n",
       "      <td>No</td>\n",
       "      <td>No</td>\n",
       "      <td>No</td>\n",
       "      <td>406</td>\n",
       "    </tr>\n",
       "    <tr>\n",
       "      <th>4</th>\n",
       "      <td>9237-HQITU</td>\n",
       "      <td>Female</td>\n",
       "      <td>No</td>\n",
       "      <td>No</td>\n",
       "      <td>No</td>\n",
       "      <td>2019-01-26</td>\n",
       "      <td>2019-11-01</td>\n",
       "      <td>Month-to-month</td>\n",
       "      <td>Yes</td>\n",
       "      <td>Electronic check</td>\n",
       "      <td>...</td>\n",
       "      <td>1</td>\n",
       "      <td>Fiber optic</td>\n",
       "      <td>No</td>\n",
       "      <td>No</td>\n",
       "      <td>No</td>\n",
       "      <td>No</td>\n",
       "      <td>No</td>\n",
       "      <td>No</td>\n",
       "      <td>No</td>\n",
       "      <td>279</td>\n",
       "    </tr>\n",
       "  </tbody>\n",
       "</table>\n",
       "<p>5 rows × 22 columns</p>\n",
       "</div>"
      ],
      "text/plain": [
       "   customerID  gender SeniorCitizen Partner Dependents  BeginDate    EndDate  \\\n",
       "0  7590-VHVEG  Female            No     Yes         No 2019-04-29 2020-02-01   \n",
       "1  5575-GNVDE    Male            No      No         No 2019-03-26 2020-02-01   \n",
       "2  3668-QPYBK    Male            No      No         No 2018-08-09 2019-12-01   \n",
       "3  7795-CFOCW    Male            No      No         No 2018-12-22 2020-02-01   \n",
       "4  9237-HQITU  Female            No      No         No 2019-01-26 2019-11-01   \n",
       "\n",
       "             Type PaperlessBilling              PaymentMethod  ...  target  \\\n",
       "0  Month-to-month              Yes           Electronic check  ...       0   \n",
       "1        One year               No               Mailed check  ...       0   \n",
       "2  Month-to-month              Yes               Mailed check  ...       1   \n",
       "3        One year               No  Bank transfer (automatic)  ...       0   \n",
       "4  Month-to-month              Yes           Electronic check  ...       1   \n",
       "\n",
       "   InternetService  OnlineSecurity OnlineBackup DeviceProtection TechSupport  \\\n",
       "0              DSL              No          Yes               No          No   \n",
       "1              DSL             Yes           No              Yes          No   \n",
       "2              DSL             Yes          Yes               No          No   \n",
       "3              DSL             Yes           No              Yes         Yes   \n",
       "4      Fiber optic              No           No               No          No   \n",
       "\n",
       "  StreamingTV StreamingMovies MultipleLines Use_days  \n",
       "0          No              No            No      278  \n",
       "1          No              No            No      312  \n",
       "2          No              No            No      479  \n",
       "3          No              No            No      406  \n",
       "4          No              No            No      279  \n",
       "\n",
       "[5 rows x 22 columns]"
      ]
     },
     "execution_count": 36,
     "metadata": {},
     "output_type": "execute_result"
    }
   ],
   "source": [
    "# Количество дней пользования тарифом. Если контракт не разорван - ограничиваемся дедлайном.\n",
    "df['BeginDate'] = pd.to_datetime(df['BeginDate'])\n",
    "df['EndDate'] = pd.to_datetime(df['EndDate'])\n",
    "df['EndDate'] = df['EndDate'].fillna(pd.to_datetime('01-02-2020', format='%d-%m-%Y'))\n",
    "df['Use_days'] = (df['EndDate'] - df['BeginDate']).dt.days\n",
    "\n",
    "df.head()"
   ]
  },
  {
   "cell_type": "code",
   "execution_count": 37,
   "id": "2945ddba",
   "metadata": {
    "scrolled": true
   },
   "outputs": [
    {
     "data": {
      "text/plain": [
       "Index(['customerID', 'gender', 'SeniorCitizen', 'Partner', 'Dependents',\n",
       "       'BeginDate', 'EndDate', 'Type', 'PaperlessBilling', 'PaymentMethod',\n",
       "       'MonthlyCharges', 'TotalCharges', 'target', 'InternetService',\n",
       "       'OnlineSecurity', 'OnlineBackup', 'DeviceProtection', 'TechSupport',\n",
       "       'StreamingTV', 'StreamingMovies', 'MultipleLines', 'Use_days'],\n",
       "      dtype='object')"
      ]
     },
     "execution_count": 37,
     "metadata": {},
     "output_type": "execute_result"
    }
   ],
   "source": [
    "df.columns"
   ]
  },
  {
   "cell_type": "code",
   "execution_count": 38,
   "id": "73159263",
   "metadata": {},
   "outputs": [
    {
     "name": "stdout",
     "output_type": "stream",
     "text": [
      "<class 'pandas.core.frame.DataFrame'>\n",
      "Int64Index: 7043 entries, 0 to 7042\n",
      "Data columns (total 22 columns):\n",
      " #   Column            Non-Null Count  Dtype         \n",
      "---  ------            --------------  -----         \n",
      " 0   customerID        7043 non-null   object        \n",
      " 1   gender            7043 non-null   object        \n",
      " 2   SeniorCitizen     7043 non-null   object        \n",
      " 3   Partner           7043 non-null   object        \n",
      " 4   Dependents        7043 non-null   object        \n",
      " 5   BeginDate         7043 non-null   datetime64[ns]\n",
      " 6   EndDate           7043 non-null   datetime64[ns]\n",
      " 7   Type              7043 non-null   object        \n",
      " 8   PaperlessBilling  7043 non-null   object        \n",
      " 9   PaymentMethod     7043 non-null   object        \n",
      " 10  MonthlyCharges    7043 non-null   float64       \n",
      " 11  TotalCharges      7043 non-null   float64       \n",
      " 12  target            7043 non-null   int64         \n",
      " 13  InternetService   7043 non-null   object        \n",
      " 14  OnlineSecurity    7043 non-null   object        \n",
      " 15  OnlineBackup      7043 non-null   object        \n",
      " 16  DeviceProtection  7043 non-null   object        \n",
      " 17  TechSupport       7043 non-null   object        \n",
      " 18  StreamingTV       7043 non-null   object        \n",
      " 19  StreamingMovies   7043 non-null   object        \n",
      " 20  MultipleLines     7043 non-null   object        \n",
      " 21  Use_days          7043 non-null   int64         \n",
      "dtypes: datetime64[ns](2), float64(2), int64(2), object(16)\n",
      "memory usage: 1.2+ MB\n"
     ]
    }
   ],
   "source": [
    "df.info()"
   ]
  },
  {
   "cell_type": "code",
   "execution_count": 39,
   "id": "35ccb60e",
   "metadata": {},
   "outputs": [],
   "source": [
    "target=['target']\n",
    "numerics_columns = ['MonthlyCharges','TotalCharges', 'Use_days']\n",
    "categorial_columns = ['customerID', 'gender', 'SeniorCitizen', 'Partner', 'Dependents','Type','PaperlessBilling', 'PaymentMethod','InternetService', 'OnlineSecurity', 'OnlineBackup', 'DeviceProtection', 'TechSupport', 'StreamingTV', 'StreamingMovies', 'MultipleLines' ]"
   ]
  },
  {
   "cell_type": "code",
   "execution_count": 40,
   "id": "3342514e",
   "metadata": {},
   "outputs": [
    {
     "data": {
      "image/png": "[encoded data removed]",
      "text/plain": [
       "<Figure size 1440x2520 with 16 Axes>"
      ]
     },
     "metadata": {
      "needs_background": "light"
     },
     "output_type": "display_data"
    }
   ],
   "source": [
    "# Посмотрим распределение значений для категориальных данных\n",
    "\n",
    "cols = 2\n",
    "rows = int(np.ceil(len(categorial_columns) / cols))\n",
    "\n",
    "plt.figure(figsize=(20, 35))\n",
    "\n",
    "for idx, column in enumerate(categorial_columns):\n",
    "    ax = plt.subplot(rows, cols, idx + 1)\n",
    "    \n",
    "    df[column].value_counts().plot(\n",
    "        kind='bar', \n",
    "        title=column, \n",
    "        ax=ax,\n",
    "        rot=0,\n",
    "    )\n",
    "        \n",
    "plt.show()"
   ]
  },
  {
   "cell_type": "code",
   "execution_count": 41,
   "id": "cb39058d",
   "metadata": {
    "scrolled": false
   },
   "outputs": [
    {
     "data": {
      "image/png": "[encoded data removed]",
      "text/plain": [
       "<Figure size 1440x2520 with 16 Axes>"
      ]
     },
     "metadata": {
      "needs_background": "light"
     },
     "output_type": "display_data"
    }
   ],
   "source": [
    "cols = 2\n",
    "rows = int(np.ceil(len(categorial_columns) / cols))\n",
    "\n",
    "plt.figure(figsize=(20, 35))\n",
    "\n",
    "for idx, column in enumerate(categorial_columns):\n",
    "    ax = plt.subplot(rows, cols, idx + 1)\n",
    "    \n",
    "    df[column].value_counts().plot(\n",
    "        kind='box', \n",
    "        title=column, \n",
    "        ax=ax,\n",
    "        rot=0,\n",
    "    )\n",
    "        \n",
    "plt.show()"
   ]
  },
  {
   "cell_type": "markdown",
   "id": "1b2c136c",
   "metadata": {},
   "source": [
    "Посмотрев на распределение, можно заметить, что мужчин и женщин практически одинаковое количество, среди них совсем немного пенсионеров. Тип оплаты: в основном ежемесячно. Оплата производится в основном по электронному расчётному листу, электронным чеком. Такие услуги как: блокировка опасных сайтов, облачное хранилище файлов для резервного копирования данных, антивирус, выделенная линия технической поддержки, стриминговое телевидение, каталог фильмов, подключение телефона к нескольким линиям одновременно не пользуются популярностью. Выбросов в данных нет. "
   ]
  },
  {
   "cell_type": "code",
   "execution_count": 42,
   "id": "6438f7fd",
   "metadata": {
    "scrolled": true
   },
   "outputs": [
    {
     "data": {
      "text/plain": [
       "array([[<AxesSubplot:title={'center':'MonthlyCharges'}>]], dtype=object)"
      ]
     },
     "execution_count": 42,
     "metadata": {},
     "output_type": "execute_result"
    },
    {
     "data": {
      "image/png": "[encoded data removed]",
      "text/plain": [
       "<Figure size 432x288 with 1 Axes>"
      ]
     },
     "metadata": {
      "needs_background": "light"
     },
     "output_type": "display_data"
    }
   ],
   "source": [
    "# Посмотрим на количестенные данные\n",
    "df[['MonthlyCharges']].hist()"
   ]
  },
  {
   "cell_type": "code",
   "execution_count": 43,
   "id": "ef57bf0d",
   "metadata": {},
   "outputs": [
    {
     "data": {
      "text/plain": [
       "array([[<AxesSubplot:title={'center':'TotalCharges'}>]], dtype=object)"
      ]
     },
     "execution_count": 43,
     "metadata": {},
     "output_type": "execute_result"
    },
    {
     "data": {
      "image/png": "[encoded data removed]",
      "text/plain": [
       "<Figure size 432x288 with 1 Axes>"
      ]
     },
     "metadata": {
      "needs_background": "light"
     },
     "output_type": "display_data"
    }
   ],
   "source": [
    "df[['TotalCharges']].hist()"
   ]
  },
  {
   "cell_type": "code",
   "execution_count": 44,
   "id": "8adb8ca8",
   "metadata": {},
   "outputs": [
    {
     "data": {
      "text/plain": [
       "array([[<AxesSubplot:title={'center':'Use_days'}>]], dtype=object)"
      ]
     },
     "execution_count": 44,
     "metadata": {},
     "output_type": "execute_result"
    },
    {
     "data": {
      "image/png": "[encoded data removed]",
      "text/plain": [
       "<Figure size 432x288 with 1 Axes>"
      ]
     },
     "metadata": {
      "needs_background": "light"
     },
     "output_type": "display_data"
    }
   ],
   "source": [
    "df[['Use_days']].hist()"
   ]
  },
  {
   "cell_type": "code",
   "execution_count": 45,
   "id": "3bfce78d",
   "metadata": {},
   "outputs": [
    {
     "data": {
      "image/png": "[encoded data removed]",
      "text/plain": [
       "<Figure size 720x720 with 3 Axes>"
      ]
     },
     "metadata": {
      "needs_background": "light"
     },
     "output_type": "display_data"
    }
   ],
   "source": [
    "cols = 2\n",
    "rows = int(np.ceil(len(numerics_columns) / cols))\n",
    "\n",
    "plt.figure(figsize=(10, 10))\n",
    "\n",
    "for idx, column in enumerate(numerics_columns):\n",
    "    ax = plt.subplot(rows, cols, idx + 1)\n",
    "    \n",
    "    df[column].value_counts().plot(\n",
    "        kind='box', \n",
    "        title=column, \n",
    "        ax=ax,\n",
    "        rot=0,\n",
    "    )\n",
    "        \n",
    "plt.show()"
   ]
  },
  {
   "cell_type": "code",
   "execution_count": 46,
   "id": "d13bafb0",
   "metadata": {
    "scrolled": true
   },
   "outputs": [
    {
     "data": {
      "text/html": [
       "<div>\n",
       "<style scoped>\n",
       "    .dataframe tbody tr th:only-of-type {\n",
       "        vertical-align: middle;\n",
       "    }\n",
       "\n",
       "    .dataframe tbody tr th {\n",
       "        vertical-align: top;\n",
       "    }\n",
       "\n",
       "    .dataframe thead th {\n",
       "        text-align: right;\n",
       "    }\n",
       "</style>\n",
       "<table border=\"1\" class=\"dataframe\">\n",
       "  <thead>\n",
       "    <tr style=\"text-align: right;\">\n",
       "      <th></th>\n",
       "      <th>MonthlyCharges</th>\n",
       "      <th>TotalCharges</th>\n",
       "      <th>Use_days</th>\n",
       "    </tr>\n",
       "  </thead>\n",
       "  <tbody>\n",
       "    <tr>\n",
       "      <th>count</th>\n",
       "      <td>7043.000000</td>\n",
       "      <td>7043.000000</td>\n",
       "      <td>7043.000000</td>\n",
       "    </tr>\n",
       "    <tr>\n",
       "      <th>mean</th>\n",
       "      <td>64.761692</td>\n",
       "      <td>2279.734304</td>\n",
       "      <td>297.378674</td>\n",
       "    </tr>\n",
       "    <tr>\n",
       "      <th>std</th>\n",
       "      <td>30.090047</td>\n",
       "      <td>2266.794470</td>\n",
       "      <td>83.868181</td>\n",
       "    </tr>\n",
       "    <tr>\n",
       "      <th>min</th>\n",
       "      <td>18.250000</td>\n",
       "      <td>0.000000</td>\n",
       "      <td>0.000000</td>\n",
       "    </tr>\n",
       "    <tr>\n",
       "      <th>25%</th>\n",
       "      <td>35.500000</td>\n",
       "      <td>398.550000</td>\n",
       "      <td>242.000000</td>\n",
       "    </tr>\n",
       "    <tr>\n",
       "      <th>50%</th>\n",
       "      <td>70.350000</td>\n",
       "      <td>1394.550000</td>\n",
       "      <td>298.000000</td>\n",
       "    </tr>\n",
       "    <tr>\n",
       "      <th>75%</th>\n",
       "      <td>89.850000</td>\n",
       "      <td>3786.600000</td>\n",
       "      <td>351.000000</td>\n",
       "    </tr>\n",
       "    <tr>\n",
       "      <th>max</th>\n",
       "      <td>118.750000</td>\n",
       "      <td>8684.800000</td>\n",
       "      <td>583.000000</td>\n",
       "    </tr>\n",
       "  </tbody>\n",
       "</table>\n",
       "</div>"
      ],
      "text/plain": [
       "       MonthlyCharges  TotalCharges     Use_days\n",
       "count     7043.000000   7043.000000  7043.000000\n",
       "mean        64.761692   2279.734304   297.378674\n",
       "std         30.090047   2266.794470    83.868181\n",
       "min         18.250000      0.000000     0.000000\n",
       "25%         35.500000    398.550000   242.000000\n",
       "50%         70.350000   1394.550000   298.000000\n",
       "75%         89.850000   3786.600000   351.000000\n",
       "max        118.750000   8684.800000   583.000000"
      ]
     },
     "execution_count": 46,
     "metadata": {},
     "output_type": "execute_result"
    }
   ],
   "source": [
    "df[['MonthlyCharges','TotalCharges', 'Use_days']].describe()"
   ]
  },
  {
   "cell_type": "code",
   "execution_count": 47,
   "id": "6581ae5b",
   "metadata": {
    "scrolled": false
   },
   "outputs": [
    {
     "data": {
      "text/plain": [
       "<AxesSubplot:xlabel='MonthlyCharges', ylabel='TotalCharges'>"
      ]
     },
     "execution_count": 47,
     "metadata": {},
     "output_type": "execute_result"
    },
    {
     "data": {
      "image/png": "[encoded data removed]",
      "text/plain": [
       "<Figure size 432x288 with 1 Axes>"
      ]
     },
     "metadata": {
      "needs_background": "light"
     },
     "output_type": "display_data"
    }
   ],
   "source": [
    "# Посмотрим на зависимость расходов за месяц и общих расходов абонента\n",
    "df[['MonthlyCharges', 'TotalCharges']].plot.scatter(x = 'MonthlyCharges',\n",
    "                                                    y='TotalCharges')\n"
   ]
  },
  {
   "cell_type": "markdown",
   "id": "bbf8aea1",
   "metadata": {},
   "source": [
    "Расходы за месяц в среднем составляют 65. Пик приходится около 20, что является минимальным значением и на 80, это означает, что абоненты, которые начинают платить много, быстро уходят. Общие расходы абонента убывают. Из графика видно, что общие расходы увеличиваются по мере увеличения ежемесячного счета для клиента.\n",
    "Количество дней пользования тарифом сотавляет в среднем 297 дней. \n",
    "Для задач машинного обучения данные в выборке не должны по возможности содержать выбросов и быть максимально стандартизированы, но в нашем случае мы оставим выбросы, так как они не значительны. Видим сильную зависимость целевого признака от общих расходов абонента."
   ]
  },
  {
   "cell_type": "markdown",
   "id": "77fe6a61",
   "metadata": {},
   "source": [
    "#### Корреляция признаков"
   ]
  },
  {
   "cell_type": "code",
   "execution_count": 48,
   "id": "c067e5cc",
   "metadata": {},
   "outputs": [
    {
     "name": "stdout",
     "output_type": "stream",
     "text": [
      "Подготовили матрицу корреляции Phik\n"
     ]
    }
   ],
   "source": [
    "# Так как много категориальных переменных применим Phik\n",
    "phik_overview = df.phik_matrix(interval_cols=['MonthlyCharges', 'TotalCharges', 'Use_days'])\n",
    "phik_overview.round(2)\n",
    "print('Подготовили матрицу корреляции Phik')"
   ]
  },
  {
   "cell_type": "code",
   "execution_count": 49,
   "id": "db54e426",
   "metadata": {},
   "outputs": [],
   "source": [
    "# Подготовили матрицу корреляции Phik\n",
    "def violentplot(df, column, target):\n",
    "    plt.figure(figsize = (8, 5))\n",
    "    sns.violinplot(\n",
    "        x = target,\n",
    "        y = column,\n",
    "        data = df,\n",
    "        kind = \"violin\",\n",
    "        split = True,\n",
    "        palette = \"coolwarm\"\n",
    "    )\n",
    "    plt.show()\n",
    "\n",
    "    if df[column].nunique() <= 25:\n",
    "        plt.figure(figsize = (12, 10))\n",
    "        sns.histplot(data=df,\n",
    "                     x=column,\n",
    "                     binwidth=1,\n",
    "                     hue=target)\n",
    "        plt.show()\n",
    "\n",
    "    print()\n",
    "    print('Корреляция Phik:', np.round(phik_overview.loc[column]['target'], 2))\n",
    "    print('-----------------------------------------------------------------------------------------------')\n",
    "    print()\n"
   ]
  },
  {
   "cell_type": "code",
   "execution_count": 50,
   "id": "f250708a",
   "metadata": {
    "scrolled": false
   },
   "outputs": [
    {
     "data": {
      "image/png": "[encoded data removed]",
      "text/plain": [
       "<Figure size 864x720 with 2 Axes>"
      ]
     },
     "metadata": {
      "needs_background": "light"
     },
     "output_type": "display_data"
    }
   ],
   "source": [
    "plot_correlation_matrix(phik_overview.values, \n",
    "                        x_labels=phik_overview.columns, \n",
    "                        y_labels=phik_overview.index, \n",
    "                        vmin=0, vmax=1, color_map=\"Blues\", \n",
    "                        title=r\"Корреляция $\\phi_K$\", \n",
    "                        fontsize_factor=0.8, \n",
    "                        figsize=(12, 10))\n",
    "plt.tight_layout()\n",
    "plt.show()"
   ]
  },
  {
   "cell_type": "markdown",
   "id": "a4e3f66f",
   "metadata": {},
   "source": [
    "Наибольшая корреляция наблюдается у целевого признака с датой начала действия договора (corr 0.49), типом платежей (corr 0.45), расходами за месяц (corr 0.36), электронный расчётный лист (corr 0.30),общими расходами абонента (corr 0.28),  тип оплаты: раз в год-два или ежемесячно (corr 0.25). Дополнительные услуги слабо влияют на отказы.\n"
   ]
  },
  {
   "cell_type": "code",
   "execution_count": 51,
   "id": "ebe27a51",
   "metadata": {},
   "outputs": [
    {
     "data": {
      "image/png": "[encoded data removed]",
      "text/plain": [
       "<Figure size 432x288 with 1 Axes>"
      ]
     },
     "metadata": {
      "needs_background": "light"
     },
     "output_type": "display_data"
    }
   ],
   "source": [
    "# Рассмотрим признаки с которыми наблюдается наибольшая корреляция с целевым признаком\n",
    "# Дата начала действия договора\n",
    "begin_pivot = contract.pivot_table(index='BeginDate', values='customerID', aggfunc='count')\n",
    "\n",
    "begin_pivot['Скользящее среднее'] = begin_pivot['customerID'].rolling(50).mean()\n",
    "begin_pivot['Стандартное отклонение'] = begin_pivot['customerID'].rolling(50).std()\n",
    "begin_pivot.rename(columns={'customerID': 'Количество клиентов'}, inplace=True)\n",
    "begin_pivot.plot()\n",
    "plt.show()"
   ]
  },
  {
   "cell_type": "markdown",
   "id": "f094e2e1",
   "metadata": {},
   "source": [
    "Пик подписания контрактов - апрель 2019 года, а информация о договорах актуальна на 1 февраля 2020. Нам придётся отказаться от данного признака, так как он не объективен для наших данных."
   ]
  },
  {
   "cell_type": "code",
   "execution_count": 52,
   "id": "4deff345",
   "metadata": {
    "scrolled": false
   },
   "outputs": [
    {
     "data": {
      "image/png": "[encoded data removed]",
      "text/plain": [
       "<Figure size 432x288 with 1 Axes>"
      ]
     },
     "metadata": {
      "needs_background": "light"
     },
     "output_type": "display_data"
    }
   ],
   "source": [
    "# Тип платежа\n",
    "df.groupby('target')['PaymentMethod'].hist(bins=20, alpha=0.5)\n",
    "plt.xlabel('Типы платежей',fontsize = 12, labelpad = 5)\n",
    "plt.ylabel('Доля клиентов',fontsize = 12, labelpad = 5)\n",
    "plt.legend((['контракт не отменён', 'контракт отменён']))\n",
    "plt.show()"
   ]
  },
  {
   "cell_type": "markdown",
   "id": "846ec4f5",
   "metadata": {},
   "source": [
    "Клиенты, которые пользуются любым видом автоплатежа из представленных с меньшей вероятностью разорвут договор с компанией, в отличии от тех, кто пользуется электронным чеком."
   ]
  },
  {
   "cell_type": "code",
   "execution_count": 53,
   "id": "5bf86f0e",
   "metadata": {
    "scrolled": true
   },
   "outputs": [
    {
     "data": {
      "image/png": "[encoded data removed]",
      "text/plain": [
       "<Figure size 432x288 with 1 Axes>"
      ]
     },
     "metadata": {
      "needs_background": "light"
     },
     "output_type": "display_data"
    }
   ],
   "source": [
    "# Расходы за месяц\n",
    "df.groupby('target')['MonthlyCharges'].hist(bins=30, alpha=0.5)\n",
    "plt.xlabel('Расходы за месяц',fontsize = 12, labelpad = 5)\n",
    "plt.ylabel('Доля клиентов',fontsize = 12, labelpad = 5)\n",
    "plt.legend((['контракт не отменён', 'контракт отменён']))\n",
    "plt.show()"
   ]
  },
  {
   "cell_type": "markdown",
   "id": "e1548d20",
   "metadata": {},
   "source": [
    "Мы можем наблюдать, что клиент зависим от ежемесячных платежей. Чаще всего уходит при больших ежемесячных затратах. Большинство людей, которые не разорвали договор с компанией платят 20, но как только расходы увеличиваются до 70 - шанс расторжения договора повышается. "
   ]
  },
  {
   "cell_type": "code",
   "execution_count": 54,
   "id": "4f9f4bf1",
   "metadata": {
    "scrolled": true
   },
   "outputs": [
    {
     "data": {
      "image/png": "[encoded data removed]",
      "text/plain": [
       "<Figure size 432x288 with 1 Axes>"
      ]
     },
     "metadata": {
      "needs_background": "light"
     },
     "output_type": "display_data"
    }
   ],
   "source": [
    "# Электронный расчётный лист\n",
    "df.groupby('target')['PaperlessBilling'].hist(bins=4, alpha=0.5)\n",
    "plt.xlabel('Есть ли электронный расчётный лист',fontsize = 12, labelpad = 5)\n",
    "plt.ylabel('Доля клиентов',fontsize = 12, labelpad = 5)\n",
    "plt.legend((['контракт не отменён', 'контракт отменён']))\n",
    "plt.show()"
   ]
  },
  {
   "cell_type": "markdown",
   "id": "33cec1b7",
   "metadata": {},
   "source": [
    "Пользователи использующие электронный расчётный лист для оплаты чаще отказываются от услуг, возможно в оплате онлайн есть какие-то неудобства."
   ]
  },
  {
   "cell_type": "code",
   "execution_count": 55,
   "id": "fe9d924f",
   "metadata": {
    "scrolled": true
   },
   "outputs": [
    {
     "data": {
      "image/png": "[encoded data removed]",
      "text/plain": [
       "<Figure size 432x288 with 1 Axes>"
      ]
     },
     "metadata": {
      "needs_background": "light"
     },
     "output_type": "display_data"
    }
   ],
   "source": [
    "# Общие расходы абонента\n",
    "df.groupby('target')['TotalCharges'].hist(bins=10, alpha=0.5)\n",
    "plt.xlabel('Общие расходы абонента',fontsize = 12, labelpad = 5)\n",
    "plt.ylabel('Доля клиентов',fontsize = 12, labelpad = 5)\n",
    "plt.legend((['контракт не отменён', 'контракт отменён']))\n",
    "plt.show()"
   ]
  },
  {
   "cell_type": "markdown",
   "id": "87299e50",
   "metadata": {},
   "source": [
    "Мы видим, что человек уходит от компании буквально в первые дни подключения тарифа. Необходимо уточнить по какой причине это происходит. Также из графика можно понять, что если тариф устраивает абонента, то он пользуется им долгое время."
   ]
  },
  {
   "cell_type": "code",
   "execution_count": 56,
   "id": "d63545c3",
   "metadata": {
    "scrolled": true
   },
   "outputs": [
    {
     "data": {
      "image/png": "[encoded data removed]",
      "text/plain": [
       "<Figure size 432x288 with 1 Axes>"
      ]
     },
     "metadata": {
      "needs_background": "light"
     },
     "output_type": "display_data"
    }
   ],
   "source": [
    "# Тип оплаты: раз в год-два или ежемесячно;\n",
    "df.groupby('target')['Type'].hist(bins=10, alpha=0.5)\n",
    "plt.xlabel('Тип оплаты',fontsize = 12, labelpad = 5)\n",
    "plt.ylabel('Доля клиентов',fontsize = 12, labelpad = 5)\n",
    "plt.legend((['контракт не отменён', 'контракт отменён']))\n",
    "plt.show()"
   ]
  },
  {
   "cell_type": "markdown",
   "id": "94e7b98b",
   "metadata": {},
   "source": [
    "Доля отказов среди тех, кто использует помесячную оплату выше, чем среди тех, кто сразу платит за 1/2 года."
   ]
  },
  {
   "cell_type": "code",
   "execution_count": 57,
   "id": "f196ea30",
   "metadata": {
    "scrolled": false
   },
   "outputs": [
    {
     "data": {
      "image/png": "[encoded data removed]",
      "text/plain": [
       "<Figure size 432x288 with 1 Axes>"
      ]
     },
     "metadata": {
      "needs_background": "light"
     },
     "output_type": "display_data"
    }
   ],
   "source": [
    "# TechSupport — выделенная линия технической поддержки;\n",
    "df.groupby('target')['TechSupport'].hist(bins=10, alpha=0.5)\n",
    "plt.xlabel('Выделенная линия технической поддержки',fontsize = 12, labelpad = 5)\n",
    "plt.ylabel('Доля клиентов',fontsize = 12, labelpad = 5)\n",
    "plt.legend((['контракт не отменён', 'контракт отменён']))\n",
    "plt.show()"
   ]
  },
  {
   "cell_type": "markdown",
   "id": "18bb90a8",
   "metadata": {},
   "source": [
    "Люди без выделенной линии технической поддержки чаще разрывают контракт. Возможно это связано с долгими ответами или не решёнными вопросами, которые возникают во время возникновения проблем."
   ]
  },
  {
   "cell_type": "code",
   "execution_count": 58,
   "id": "588164f1",
   "metadata": {
    "scrolled": false
   },
   "outputs": [
    {
     "data": {
      "image/png": "[encoded data removed]",
      "text/plain": [
       "<Figure size 432x288 with 1 Axes>"
      ]
     },
     "metadata": {
      "needs_background": "light"
     },
     "output_type": "display_data"
    }
   ],
   "source": [
    "# TechSupport — выделенная линия технической поддержки;\n",
    "df.groupby('target')['OnlineSecurity'].hist(bins=10, alpha=0.5)\n",
    "plt.xlabel('Блокировка опасных сайтов',fontsize = 12, labelpad = 5)\n",
    "plt.ylabel('Доля клиентов',fontsize = 12, labelpad = 5)\n",
    "plt.legend((['контракт не отменён', 'контракт отменён']))\n",
    "plt.show()"
   ]
  },
  {
   "cell_type": "markdown",
   "id": "9e147d39",
   "metadata": {},
   "source": [
    "Доля клиентов без блокировки опасных сайтов, которые отказались от услуг провайдера, превышет обратную."
   ]
  },
  {
   "cell_type": "code",
   "execution_count": 59,
   "id": "02d51ede",
   "metadata": {},
   "outputs": [
    {
     "data": {
      "image/png": "[encoded data removed]",
      "text/plain": [
       "<Figure size 432x288 with 1 Axes>"
      ]
     },
     "metadata": {
      "needs_background": "light"
     },
     "output_type": "display_data"
    }
   ],
   "source": [
    "# Dependents есть ли у абонента дети\n",
    "df.groupby('target')['Dependents'].hist(bins=10, alpha=0.5)\n",
    "plt.xlabel('Есть ли у абонента дети',fontsize = 12, labelpad = 5)\n",
    "plt.ylabel('Доля клиентов',fontsize = 12, labelpad = 5)\n",
    "plt.legend((['контракт не отменён', 'контракт отменён']))\n",
    "plt.show()"
   ]
  },
  {
   "cell_type": "markdown",
   "id": "c5623aca",
   "metadata": {},
   "source": [
    "**ВЫВОД:**\n",
    "\n",
    "- Клиенты, которые пользуются любым видом автоплатежа из представленных с меньшей вероятностью разорвут договор с компанией, в отличии от тех, кто пользуется электронным чеком.\n",
    "- Пользователи использующие электронный расчётный лист для оплаты чаще отказываются от услуг.\n",
    "- Около 20% ушедших клиентов пользовалась услугами около месяца. Больше половины клиентов из группы оттока ушли пользуясь связью менее года. Однако, если тариф устраивает абонента, то он пользуется им долгое время.\n",
    "- Дополнительные услуги слабо влияют на отказы."
   ]
  },
  {
   "cell_type": "markdown",
   "id": "21859b5b",
   "metadata": {},
   "source": [
    "#### Исследование целевого признака"
   ]
  },
  {
   "cell_type": "code",
   "execution_count": 60,
   "id": "d144b883",
   "metadata": {},
   "outputs": [
    {
     "data": {
      "text/plain": [
       "0    5174\n",
       "1    1869\n",
       "Name: target, dtype: int64"
      ]
     },
     "execution_count": 60,
     "metadata": {},
     "output_type": "execute_result"
    }
   ],
   "source": [
    "df['target'].value_counts()"
   ]
  },
  {
   "cell_type": "markdown",
   "id": "ba2b9198",
   "metadata": {},
   "source": [
    "В колонке имются два уникальных значения \"0\" и \"1\". \"0\" - это пользователи, которые не разорвали контракт."
   ]
  },
  {
   "cell_type": "code",
   "execution_count": 61,
   "id": "91c8bcbe",
   "metadata": {
    "scrolled": false
   },
   "outputs": [
    {
     "data": {
      "image/png": "[encoded data removed]",
      "text/plain": [
       "<Figure size 576x360 with 1 Axes>"
      ]
     },
     "metadata": {
      "needs_background": "light"
     },
     "output_type": "display_data"
    }
   ],
   "source": [
    "# Визуализируем процент пользователей,которые не разорвали контракт\n",
    "plt.figure(figsize=(8,5)) \n",
    "plt.title(\"Процент пользователей использующих контракт\", fontsize = 15, pad = 8)\n",
    "sns.barplot(x=df['target'].unique(), y=df['target'].value_counts(normalize=True), palette=['red', 'green'])\n",
    "plt.xlabel(\"Статус контракта\", fontsize = 12, labelpad = 5)\n",
    "plt.ylabel(\"Процент пользователей\", fontsize = 12, labelpad = 5)\n",
    "plt.xticks(ticks=[0, 1], labels=['Не отменен', 'Отменен'])\n",
    "plt.show()"
   ]
  },
  {
   "cell_type": "markdown",
   "id": "69c7f052",
   "metadata": {},
   "source": [
    "Видно, что присутсвует дисбаланс классов."
   ]
  },
  {
   "cell_type": "markdown",
   "id": "e59bbda4",
   "metadata": {},
   "source": [
    "#### Нормализация входных данных"
   ]
  },
  {
   "cell_type": "code",
   "execution_count": 62,
   "id": "f92c4689",
   "metadata": {},
   "outputs": [
    {
     "name": "stdout",
     "output_type": "stream",
     "text": [
      "<class 'pandas.core.frame.DataFrame'>\n",
      "Int64Index: 7043 entries, 0 to 7042\n",
      "Data columns (total 17 columns):\n",
      " #   Column            Non-Null Count  Dtype  \n",
      "---  ------            --------------  -----  \n",
      " 0   SeniorCitizen     7043 non-null   object \n",
      " 1   Partner           7043 non-null   object \n",
      " 2   Type              7043 non-null   object \n",
      " 3   PaperlessBilling  7043 non-null   object \n",
      " 4   PaymentMethod     7043 non-null   object \n",
      " 5   MonthlyCharges    7043 non-null   float64\n",
      " 6   TotalCharges      7043 non-null   float64\n",
      " 7   target            7043 non-null   int64  \n",
      " 8   InternetService   7043 non-null   object \n",
      " 9   OnlineSecurity    7043 non-null   object \n",
      " 10  OnlineBackup      7043 non-null   object \n",
      " 11  DeviceProtection  7043 non-null   object \n",
      " 12  TechSupport       7043 non-null   object \n",
      " 13  StreamingTV       7043 non-null   object \n",
      " 14  StreamingMovies   7043 non-null   object \n",
      " 15  MultipleLines     7043 non-null   object \n",
      " 16  Use_days          7043 non-null   int64  \n",
      "dtypes: float64(2), int64(2), object(13)\n",
      "memory usage: 990.4+ KB\n"
     ]
    }
   ],
   "source": [
    "# Удалим столбцы времени, а также customerID\n",
    "\n",
    "del df['BeginDate']\n",
    "del df['EndDate'] \n",
    "del df['customerID']\n",
    "del df['gender']\n",
    "del df['Dependents']\n",
    "\n",
    "\n",
    "df.dropna(inplace=True)\n",
    "df.info()"
   ]
  },
  {
   "cell_type": "code",
   "execution_count": 63,
   "id": "46520086",
   "metadata": {},
   "outputs": [
    {
     "name": "stdout",
     "output_type": "stream",
     "text": [
      "(7043, 17)\n",
      "Кол-во строк в обучающей выборке: 5282\n",
      "Кол-во строк в тестовой выборке: 1761\n"
     ]
    }
   ],
   "source": [
    "# разделение на 2 выборки (обучающая и тестовая)\n",
    "df_train, df_test = train_test_split(df, test_size=0.25, random_state=RANDOM_STATE)\n",
    "\n",
    "# размер таблицы\n",
    "print(df.shape)\n",
    "print('Кол-во строк в обучающей выборке:', df_train.shape[0])\n",
    "print('Кол-во строк в тестовой выборке:', df_test.shape[0])\n",
    "\n",
    "target=['target']\n",
    "numerics_columns = ['MonthlyCharges','TotalCharges', 'Use_days']\n",
    "categorial_columns = [ 'SeniorCitizen', 'Partner', 'Type','PaperlessBilling', 'PaymentMethod','InternetService', 'OnlineSecurity', 'OnlineBackup', 'DeviceProtection', 'TechSupport', 'StreamingTV', 'StreamingMovies', 'MultipleLines' ]"
   ]
  },
  {
   "cell_type": "code",
   "execution_count": 64,
   "id": "582893f3",
   "metadata": {},
   "outputs": [
    {
     "data": {
      "text/html": [
       "<div>\n",
       "<style scoped>\n",
       "    .dataframe tbody tr th:only-of-type {\n",
       "        vertical-align: middle;\n",
       "    }\n",
       "\n",
       "    .dataframe tbody tr th {\n",
       "        vertical-align: top;\n",
       "    }\n",
       "\n",
       "    .dataframe thead th {\n",
       "        text-align: right;\n",
       "    }\n",
       "</style>\n",
       "<table border=\"1\" class=\"dataframe\">\n",
       "  <thead>\n",
       "    <tr style=\"text-align: right;\">\n",
       "      <th></th>\n",
       "      <th>SeniorCitizen_Yes</th>\n",
       "      <th>Partner_Yes</th>\n",
       "      <th>Type_One year</th>\n",
       "      <th>Type_Two year</th>\n",
       "      <th>PaperlessBilling_Yes</th>\n",
       "      <th>PaymentMethod_Credit card (automatic)</th>\n",
       "      <th>PaymentMethod_Electronic check</th>\n",
       "      <th>PaymentMethod_Mailed check</th>\n",
       "      <th>InternetService_Fiber optic</th>\n",
       "      <th>InternetService_No</th>\n",
       "      <th>OnlineSecurity_Yes</th>\n",
       "      <th>OnlineBackup_Yes</th>\n",
       "      <th>DeviceProtection_Yes</th>\n",
       "      <th>TechSupport_Yes</th>\n",
       "      <th>StreamingTV_Yes</th>\n",
       "      <th>StreamingMovies_Yes</th>\n",
       "      <th>MultipleLines_Yes</th>\n",
       "      <th>MonthlyCharges</th>\n",
       "      <th>TotalCharges</th>\n",
       "      <th>Use_days</th>\n",
       "    </tr>\n",
       "  </thead>\n",
       "  <tbody>\n",
       "    <tr>\n",
       "      <th>3448</th>\n",
       "      <td>0.0</td>\n",
       "      <td>1.0</td>\n",
       "      <td>0.0</td>\n",
       "      <td>0.0</td>\n",
       "      <td>0.0</td>\n",
       "      <td>1.0</td>\n",
       "      <td>0.0</td>\n",
       "      <td>0.0</td>\n",
       "      <td>0.0</td>\n",
       "      <td>0.0</td>\n",
       "      <td>0.0</td>\n",
       "      <td>0.0</td>\n",
       "      <td>0.0</td>\n",
       "      <td>1.0</td>\n",
       "      <td>0.0</td>\n",
       "      <td>1.0</td>\n",
       "      <td>0.0</td>\n",
       "      <td>61.45</td>\n",
       "      <td>229.55</td>\n",
       "      <td>487</td>\n",
       "    </tr>\n",
       "    <tr>\n",
       "      <th>4632</th>\n",
       "      <td>0.0</td>\n",
       "      <td>1.0</td>\n",
       "      <td>0.0</td>\n",
       "      <td>0.0</td>\n",
       "      <td>0.0</td>\n",
       "      <td>0.0</td>\n",
       "      <td>0.0</td>\n",
       "      <td>1.0</td>\n",
       "      <td>0.0</td>\n",
       "      <td>1.0</td>\n",
       "      <td>0.0</td>\n",
       "      <td>0.0</td>\n",
       "      <td>0.0</td>\n",
       "      <td>0.0</td>\n",
       "      <td>0.0</td>\n",
       "      <td>0.0</td>\n",
       "      <td>0.0</td>\n",
       "      <td>19.45</td>\n",
       "      <td>19.45</td>\n",
       "      <td>231</td>\n",
       "    </tr>\n",
       "    <tr>\n",
       "      <th>4534</th>\n",
       "      <td>0.0</td>\n",
       "      <td>0.0</td>\n",
       "      <td>0.0</td>\n",
       "      <td>0.0</td>\n",
       "      <td>0.0</td>\n",
       "      <td>1.0</td>\n",
       "      <td>0.0</td>\n",
       "      <td>0.0</td>\n",
       "      <td>0.0</td>\n",
       "      <td>0.0</td>\n",
       "      <td>0.0</td>\n",
       "      <td>0.0</td>\n",
       "      <td>0.0</td>\n",
       "      <td>1.0</td>\n",
       "      <td>0.0</td>\n",
       "      <td>0.0</td>\n",
       "      <td>0.0</td>\n",
       "      <td>49.00</td>\n",
       "      <td>49.00</td>\n",
       "      <td>142</td>\n",
       "    </tr>\n",
       "    <tr>\n",
       "      <th>4748</th>\n",
       "      <td>0.0</td>\n",
       "      <td>0.0</td>\n",
       "      <td>1.0</td>\n",
       "      <td>0.0</td>\n",
       "      <td>0.0</td>\n",
       "      <td>1.0</td>\n",
       "      <td>0.0</td>\n",
       "      <td>0.0</td>\n",
       "      <td>0.0</td>\n",
       "      <td>1.0</td>\n",
       "      <td>0.0</td>\n",
       "      <td>0.0</td>\n",
       "      <td>0.0</td>\n",
       "      <td>0.0</td>\n",
       "      <td>0.0</td>\n",
       "      <td>0.0</td>\n",
       "      <td>0.0</td>\n",
       "      <td>20.30</td>\n",
       "      <td>467.15</td>\n",
       "      <td>378</td>\n",
       "    </tr>\n",
       "    <tr>\n",
       "      <th>1048</th>\n",
       "      <td>0.0</td>\n",
       "      <td>0.0</td>\n",
       "      <td>1.0</td>\n",
       "      <td>0.0</td>\n",
       "      <td>1.0</td>\n",
       "      <td>0.0</td>\n",
       "      <td>0.0</td>\n",
       "      <td>1.0</td>\n",
       "      <td>0.0</td>\n",
       "      <td>1.0</td>\n",
       "      <td>0.0</td>\n",
       "      <td>0.0</td>\n",
       "      <td>0.0</td>\n",
       "      <td>0.0</td>\n",
       "      <td>0.0</td>\n",
       "      <td>0.0</td>\n",
       "      <td>0.0</td>\n",
       "      <td>19.80</td>\n",
       "      <td>572.20</td>\n",
       "      <td>237</td>\n",
       "    </tr>\n",
       "  </tbody>\n",
       "</table>\n",
       "</div>"
      ],
      "text/plain": [
       "      SeniorCitizen_Yes  Partner_Yes  Type_One year  Type_Two year  \\\n",
       "3448                0.0          1.0            0.0            0.0   \n",
       "4632                0.0          1.0            0.0            0.0   \n",
       "4534                0.0          0.0            0.0            0.0   \n",
       "4748                0.0          0.0            1.0            0.0   \n",
       "1048                0.0          0.0            1.0            0.0   \n",
       "\n",
       "      PaperlessBilling_Yes  PaymentMethod_Credit card (automatic)  \\\n",
       "3448                   0.0                                    1.0   \n",
       "4632                   0.0                                    0.0   \n",
       "4534                   0.0                                    1.0   \n",
       "4748                   0.0                                    1.0   \n",
       "1048                   1.0                                    0.0   \n",
       "\n",
       "      PaymentMethod_Electronic check  PaymentMethod_Mailed check  \\\n",
       "3448                             0.0                         0.0   \n",
       "4632                             0.0                         1.0   \n",
       "4534                             0.0                         0.0   \n",
       "4748                             0.0                         0.0   \n",
       "1048                             0.0                         1.0   \n",
       "\n",
       "      InternetService_Fiber optic  InternetService_No  OnlineSecurity_Yes  \\\n",
       "3448                          0.0                 0.0                 0.0   \n",
       "4632                          0.0                 1.0                 0.0   \n",
       "4534                          0.0                 0.0                 0.0   \n",
       "4748                          0.0                 1.0                 0.0   \n",
       "1048                          0.0                 1.0                 0.0   \n",
       "\n",
       "      OnlineBackup_Yes  DeviceProtection_Yes  TechSupport_Yes  \\\n",
       "3448               0.0                   0.0              1.0   \n",
       "4632               0.0                   0.0              0.0   \n",
       "4534               0.0                   0.0              1.0   \n",
       "4748               0.0                   0.0              0.0   \n",
       "1048               0.0                   0.0              0.0   \n",
       "\n",
       "      StreamingTV_Yes  StreamingMovies_Yes  MultipleLines_Yes  MonthlyCharges  \\\n",
       "3448              0.0                  1.0                0.0           61.45   \n",
       "4632              0.0                  0.0                0.0           19.45   \n",
       "4534              0.0                  0.0                0.0           49.00   \n",
       "4748              0.0                  0.0                0.0           20.30   \n",
       "1048              0.0                  0.0                0.0           19.80   \n",
       "\n",
       "      TotalCharges  Use_days  \n",
       "3448        229.55       487  \n",
       "4632         19.45       231  \n",
       "4534         49.00       142  \n",
       "4748        467.15       378  \n",
       "1048        572.20       237  "
      ]
     },
     "execution_count": 64,
     "metadata": {},
     "output_type": "execute_result"
    }
   ],
   "source": [
    "# OneHotEncoder обучающая выборка\n",
    "features_train = df_train.drop(['target'], axis=1)\n",
    "target_train = df_train['target']\n",
    "\n",
    "onehot_encoder = OneHotEncoder(sparse=False, drop='first')\n",
    "\n",
    "result_train = onehot_encoder.fit_transform(features_train[categorial_columns])\n",
    "result_train = pd.DataFrame(result_train, columns=onehot_encoder.get_feature_names(categorial_columns),\\\n",
    "                                                                        index=features_train.index)\n",
    "features_train = result_train.join(features_train[numerics_columns])\n",
    "features_train.head()"
   ]
  },
  {
   "cell_type": "code",
   "execution_count": 65,
   "id": "bf8e547b",
   "metadata": {},
   "outputs": [
    {
     "data": {
      "text/html": [
       "<div>\n",
       "<style scoped>\n",
       "    .dataframe tbody tr th:only-of-type {\n",
       "        vertical-align: middle;\n",
       "    }\n",
       "\n",
       "    .dataframe tbody tr th {\n",
       "        vertical-align: top;\n",
       "    }\n",
       "\n",
       "    .dataframe thead th {\n",
       "        text-align: right;\n",
       "    }\n",
       "</style>\n",
       "<table border=\"1\" class=\"dataframe\">\n",
       "  <thead>\n",
       "    <tr style=\"text-align: right;\">\n",
       "      <th></th>\n",
       "      <th>SeniorCitizen_Yes</th>\n",
       "      <th>Partner_Yes</th>\n",
       "      <th>Type_One year</th>\n",
       "      <th>Type_Two year</th>\n",
       "      <th>PaperlessBilling_Yes</th>\n",
       "      <th>PaymentMethod_Credit card (automatic)</th>\n",
       "      <th>PaymentMethod_Electronic check</th>\n",
       "      <th>PaymentMethod_Mailed check</th>\n",
       "      <th>InternetService_Fiber optic</th>\n",
       "      <th>InternetService_No</th>\n",
       "      <th>OnlineSecurity_Yes</th>\n",
       "      <th>OnlineBackup_Yes</th>\n",
       "      <th>DeviceProtection_Yes</th>\n",
       "      <th>TechSupport_Yes</th>\n",
       "      <th>StreamingTV_Yes</th>\n",
       "      <th>StreamingMovies_Yes</th>\n",
       "      <th>MultipleLines_Yes</th>\n",
       "      <th>MonthlyCharges</th>\n",
       "      <th>TotalCharges</th>\n",
       "      <th>Use_days</th>\n",
       "    </tr>\n",
       "  </thead>\n",
       "  <tbody>\n",
       "    <tr>\n",
       "      <th>4451</th>\n",
       "      <td>1.0</td>\n",
       "      <td>0.0</td>\n",
       "      <td>0.0</td>\n",
       "      <td>0.0</td>\n",
       "      <td>1.0</td>\n",
       "      <td>0.0</td>\n",
       "      <td>0.0</td>\n",
       "      <td>0.0</td>\n",
       "      <td>1.0</td>\n",
       "      <td>0.0</td>\n",
       "      <td>0.0</td>\n",
       "      <td>0.0</td>\n",
       "      <td>0.0</td>\n",
       "      <td>0.0</td>\n",
       "      <td>1.0</td>\n",
       "      <td>1.0</td>\n",
       "      <td>1.0</td>\n",
       "      <td>93.90</td>\n",
       "      <td>4200.25</td>\n",
       "      <td>153</td>\n",
       "    </tr>\n",
       "    <tr>\n",
       "      <th>177</th>\n",
       "      <td>1.0</td>\n",
       "      <td>0.0</td>\n",
       "      <td>0.0</td>\n",
       "      <td>0.0</td>\n",
       "      <td>0.0</td>\n",
       "      <td>0.0</td>\n",
       "      <td>0.0</td>\n",
       "      <td>0.0</td>\n",
       "      <td>1.0</td>\n",
       "      <td>0.0</td>\n",
       "      <td>1.0</td>\n",
       "      <td>0.0</td>\n",
       "      <td>0.0</td>\n",
       "      <td>0.0</td>\n",
       "      <td>0.0</td>\n",
       "      <td>0.0</td>\n",
       "      <td>0.0</td>\n",
       "      <td>76.45</td>\n",
       "      <td>503.60</td>\n",
       "      <td>366</td>\n",
       "    </tr>\n",
       "    <tr>\n",
       "      <th>2392</th>\n",
       "      <td>0.0</td>\n",
       "      <td>0.0</td>\n",
       "      <td>0.0</td>\n",
       "      <td>0.0</td>\n",
       "      <td>1.0</td>\n",
       "      <td>1.0</td>\n",
       "      <td>0.0</td>\n",
       "      <td>0.0</td>\n",
       "      <td>1.0</td>\n",
       "      <td>0.0</td>\n",
       "      <td>0.0</td>\n",
       "      <td>0.0</td>\n",
       "      <td>1.0</td>\n",
       "      <td>0.0</td>\n",
       "      <td>1.0</td>\n",
       "      <td>0.0</td>\n",
       "      <td>1.0</td>\n",
       "      <td>90.70</td>\n",
       "      <td>1781.35</td>\n",
       "      <td>442</td>\n",
       "    </tr>\n",
       "    <tr>\n",
       "      <th>3799</th>\n",
       "      <td>0.0</td>\n",
       "      <td>0.0</td>\n",
       "      <td>0.0</td>\n",
       "      <td>0.0</td>\n",
       "      <td>0.0</td>\n",
       "      <td>1.0</td>\n",
       "      <td>0.0</td>\n",
       "      <td>0.0</td>\n",
       "      <td>0.0</td>\n",
       "      <td>0.0</td>\n",
       "      <td>1.0</td>\n",
       "      <td>0.0</td>\n",
       "      <td>1.0</td>\n",
       "      <td>1.0</td>\n",
       "      <td>0.0</td>\n",
       "      <td>0.0</td>\n",
       "      <td>1.0</td>\n",
       "      <td>65.25</td>\n",
       "      <td>1994.30</td>\n",
       "      <td>257</td>\n",
       "    </tr>\n",
       "    <tr>\n",
       "      <th>1447</th>\n",
       "      <td>0.0</td>\n",
       "      <td>0.0</td>\n",
       "      <td>0.0</td>\n",
       "      <td>0.0</td>\n",
       "      <td>0.0</td>\n",
       "      <td>1.0</td>\n",
       "      <td>0.0</td>\n",
       "      <td>0.0</td>\n",
       "      <td>1.0</td>\n",
       "      <td>0.0</td>\n",
       "      <td>0.0</td>\n",
       "      <td>0.0</td>\n",
       "      <td>0.0</td>\n",
       "      <td>1.0</td>\n",
       "      <td>0.0</td>\n",
       "      <td>0.0</td>\n",
       "      <td>1.0</td>\n",
       "      <td>80.80</td>\n",
       "      <td>332.45</td>\n",
       "      <td>258</td>\n",
       "    </tr>\n",
       "  </tbody>\n",
       "</table>\n",
       "</div>"
      ],
      "text/plain": [
       "      SeniorCitizen_Yes  Partner_Yes  Type_One year  Type_Two year  \\\n",
       "4451                1.0          0.0            0.0            0.0   \n",
       "177                 1.0          0.0            0.0            0.0   \n",
       "2392                0.0          0.0            0.0            0.0   \n",
       "3799                0.0          0.0            0.0            0.0   \n",
       "1447                0.0          0.0            0.0            0.0   \n",
       "\n",
       "      PaperlessBilling_Yes  PaymentMethod_Credit card (automatic)  \\\n",
       "4451                   1.0                                    0.0   \n",
       "177                    0.0                                    0.0   \n",
       "2392                   1.0                                    1.0   \n",
       "3799                   0.0                                    1.0   \n",
       "1447                   0.0                                    1.0   \n",
       "\n",
       "      PaymentMethod_Electronic check  PaymentMethod_Mailed check  \\\n",
       "4451                             0.0                         0.0   \n",
       "177                              0.0                         0.0   \n",
       "2392                             0.0                         0.0   \n",
       "3799                             0.0                         0.0   \n",
       "1447                             0.0                         0.0   \n",
       "\n",
       "      InternetService_Fiber optic  InternetService_No  OnlineSecurity_Yes  \\\n",
       "4451                          1.0                 0.0                 0.0   \n",
       "177                           1.0                 0.0                 1.0   \n",
       "2392                          1.0                 0.0                 0.0   \n",
       "3799                          0.0                 0.0                 1.0   \n",
       "1447                          1.0                 0.0                 0.0   \n",
       "\n",
       "      OnlineBackup_Yes  DeviceProtection_Yes  TechSupport_Yes  \\\n",
       "4451               0.0                   0.0              0.0   \n",
       "177                0.0                   0.0              0.0   \n",
       "2392               0.0                   1.0              0.0   \n",
       "3799               0.0                   1.0              1.0   \n",
       "1447               0.0                   0.0              1.0   \n",
       "\n",
       "      StreamingTV_Yes  StreamingMovies_Yes  MultipleLines_Yes  MonthlyCharges  \\\n",
       "4451              1.0                  1.0                1.0           93.90   \n",
       "177               0.0                  0.0                0.0           76.45   \n",
       "2392              1.0                  0.0                1.0           90.70   \n",
       "3799              0.0                  0.0                1.0           65.25   \n",
       "1447              0.0                  0.0                1.0           80.80   \n",
       "\n",
       "      TotalCharges  Use_days  \n",
       "4451       4200.25       153  \n",
       "177         503.60       366  \n",
       "2392       1781.35       442  \n",
       "3799       1994.30       257  \n",
       "1447        332.45       258  "
      ]
     },
     "execution_count": 65,
     "metadata": {},
     "output_type": "execute_result"
    }
   ],
   "source": [
    "# тестовая\n",
    "features_test = df_test.drop(['target'], axis=1)\n",
    "target_test = df_test['target']\n",
    "\n",
    "result_test = onehot_encoder.transform(features_test[categorial_columns])\n",
    "result_test = pd.DataFrame(result_test, columns=onehot_encoder.get_feature_names(categorial_columns),\\\n",
    "                                                                        index=features_test.index)\n",
    "features_test = result_test.join(features_test[numerics_columns])\n",
    "features_test.head()"
   ]
  },
  {
   "cell_type": "code",
   "execution_count": 66,
   "id": "01069e54",
   "metadata": {},
   "outputs": [],
   "source": [
    "scaler = StandardScaler()\n",
    "scaler.fit(features_train[numerics_columns])\n",
    "features_train[numerics_columns] = scaler.transform(features_train[numerics_columns])\n",
    "features_test[numerics_columns] = scaler.transform(features_test[numerics_columns])"
   ]
  },
  {
   "cell_type": "code",
   "execution_count": 68,
   "id": "b942eb46",
   "metadata": {
    "scrolled": false
   },
   "outputs": [
    {
     "data": {
      "text/html": [
       "<div>\n",
       "<style scoped>\n",
       "    .dataframe tbody tr th:only-of-type {\n",
       "        vertical-align: middle;\n",
       "    }\n",
       "\n",
       "    .dataframe tbody tr th {\n",
       "        vertical-align: top;\n",
       "    }\n",
       "\n",
       "    .dataframe thead th {\n",
       "        text-align: right;\n",
       "    }\n",
       "</style>\n",
       "<table border=\"1\" class=\"dataframe\">\n",
       "  <thead>\n",
       "    <tr style=\"text-align: right;\">\n",
       "      <th></th>\n",
       "      <th>SeniorCitizen_Yes</th>\n",
       "      <th>Partner_Yes</th>\n",
       "      <th>Type_One year</th>\n",
       "      <th>Type_Two year</th>\n",
       "      <th>PaperlessBilling_Yes</th>\n",
       "      <th>PaymentMethod_Credit card (automatic)</th>\n",
       "      <th>PaymentMethod_Electronic check</th>\n",
       "      <th>PaymentMethod_Mailed check</th>\n",
       "      <th>InternetService_Fiber optic</th>\n",
       "      <th>InternetService_No</th>\n",
       "      <th>OnlineSecurity_Yes</th>\n",
       "      <th>OnlineBackup_Yes</th>\n",
       "      <th>DeviceProtection_Yes</th>\n",
       "      <th>TechSupport_Yes</th>\n",
       "      <th>StreamingTV_Yes</th>\n",
       "      <th>StreamingMovies_Yes</th>\n",
       "      <th>MultipleLines_Yes</th>\n",
       "      <th>MonthlyCharges</th>\n",
       "      <th>TotalCharges</th>\n",
       "      <th>Use_days</th>\n",
       "    </tr>\n",
       "  </thead>\n",
       "  <tbody>\n",
       "    <tr>\n",
       "      <th>3448</th>\n",
       "      <td>0.0</td>\n",
       "      <td>1.0</td>\n",
       "      <td>0.0</td>\n",
       "      <td>0.0</td>\n",
       "      <td>0.0</td>\n",
       "      <td>1.0</td>\n",
       "      <td>0.0</td>\n",
       "      <td>0.0</td>\n",
       "      <td>0.0</td>\n",
       "      <td>0.0</td>\n",
       "      <td>0.0</td>\n",
       "      <td>0.0</td>\n",
       "      <td>0.0</td>\n",
       "      <td>1.0</td>\n",
       "      <td>0.0</td>\n",
       "      <td>1.0</td>\n",
       "      <td>0.0</td>\n",
       "      <td>-0.124626</td>\n",
       "      <td>-0.916379</td>\n",
       "      <td>2.243477</td>\n",
       "    </tr>\n",
       "    <tr>\n",
       "      <th>4632</th>\n",
       "      <td>0.0</td>\n",
       "      <td>1.0</td>\n",
       "      <td>0.0</td>\n",
       "      <td>0.0</td>\n",
       "      <td>0.0</td>\n",
       "      <td>0.0</td>\n",
       "      <td>0.0</td>\n",
       "      <td>1.0</td>\n",
       "      <td>0.0</td>\n",
       "      <td>1.0</td>\n",
       "      <td>0.0</td>\n",
       "      <td>0.0</td>\n",
       "      <td>0.0</td>\n",
       "      <td>0.0</td>\n",
       "      <td>0.0</td>\n",
       "      <td>0.0</td>\n",
       "      <td>0.0</td>\n",
       "      <td>-1.517779</td>\n",
       "      <td>-1.008353</td>\n",
       "      <td>-0.800787</td>\n",
       "    </tr>\n",
       "    <tr>\n",
       "      <th>4534</th>\n",
       "      <td>0.0</td>\n",
       "      <td>0.0</td>\n",
       "      <td>0.0</td>\n",
       "      <td>0.0</td>\n",
       "      <td>0.0</td>\n",
       "      <td>1.0</td>\n",
       "      <td>0.0</td>\n",
       "      <td>0.0</td>\n",
       "      <td>0.0</td>\n",
       "      <td>0.0</td>\n",
       "      <td>0.0</td>\n",
       "      <td>0.0</td>\n",
       "      <td>0.0</td>\n",
       "      <td>1.0</td>\n",
       "      <td>0.0</td>\n",
       "      <td>0.0</td>\n",
       "      <td>0.0</td>\n",
       "      <td>-0.537596</td>\n",
       "      <td>-0.995417</td>\n",
       "      <td>-1.859144</td>\n",
       "    </tr>\n",
       "    <tr>\n",
       "      <th>4748</th>\n",
       "      <td>0.0</td>\n",
       "      <td>0.0</td>\n",
       "      <td>1.0</td>\n",
       "      <td>0.0</td>\n",
       "      <td>0.0</td>\n",
       "      <td>1.0</td>\n",
       "      <td>0.0</td>\n",
       "      <td>0.0</td>\n",
       "      <td>0.0</td>\n",
       "      <td>1.0</td>\n",
       "      <td>0.0</td>\n",
       "      <td>0.0</td>\n",
       "      <td>0.0</td>\n",
       "      <td>0.0</td>\n",
       "      <td>0.0</td>\n",
       "      <td>0.0</td>\n",
       "      <td>0.0</td>\n",
       "      <td>-1.489584</td>\n",
       "      <td>-0.812366</td>\n",
       "      <td>0.947287</td>\n",
       "    </tr>\n",
       "    <tr>\n",
       "      <th>1048</th>\n",
       "      <td>0.0</td>\n",
       "      <td>0.0</td>\n",
       "      <td>1.0</td>\n",
       "      <td>0.0</td>\n",
       "      <td>1.0</td>\n",
       "      <td>0.0</td>\n",
       "      <td>0.0</td>\n",
       "      <td>1.0</td>\n",
       "      <td>0.0</td>\n",
       "      <td>1.0</td>\n",
       "      <td>0.0</td>\n",
       "      <td>0.0</td>\n",
       "      <td>0.0</td>\n",
       "      <td>0.0</td>\n",
       "      <td>0.0</td>\n",
       "      <td>0.0</td>\n",
       "      <td>0.0</td>\n",
       "      <td>-1.506169</td>\n",
       "      <td>-0.766378</td>\n",
       "      <td>-0.729437</td>\n",
       "    </tr>\n",
       "    <tr>\n",
       "      <th>...</th>\n",
       "      <td>...</td>\n",
       "      <td>...</td>\n",
       "      <td>...</td>\n",
       "      <td>...</td>\n",
       "      <td>...</td>\n",
       "      <td>...</td>\n",
       "      <td>...</td>\n",
       "      <td>...</td>\n",
       "      <td>...</td>\n",
       "      <td>...</td>\n",
       "      <td>...</td>\n",
       "      <td>...</td>\n",
       "      <td>...</td>\n",
       "      <td>...</td>\n",
       "      <td>...</td>\n",
       "      <td>...</td>\n",
       "      <td>...</td>\n",
       "      <td>...</td>\n",
       "      <td>...</td>\n",
       "      <td>...</td>\n",
       "    </tr>\n",
       "    <tr>\n",
       "      <th>5928</th>\n",
       "      <td>0.0</td>\n",
       "      <td>1.0</td>\n",
       "      <td>0.0</td>\n",
       "      <td>1.0</td>\n",
       "      <td>0.0</td>\n",
       "      <td>1.0</td>\n",
       "      <td>0.0</td>\n",
       "      <td>0.0</td>\n",
       "      <td>0.0</td>\n",
       "      <td>1.0</td>\n",
       "      <td>0.0</td>\n",
       "      <td>0.0</td>\n",
       "      <td>0.0</td>\n",
       "      <td>0.0</td>\n",
       "      <td>0.0</td>\n",
       "      <td>0.0</td>\n",
       "      <td>0.0</td>\n",
       "      <td>-1.507827</td>\n",
       "      <td>-0.442695</td>\n",
       "      <td>-0.455929</td>\n",
       "    </tr>\n",
       "    <tr>\n",
       "      <th>6562</th>\n",
       "      <td>1.0</td>\n",
       "      <td>1.0</td>\n",
       "      <td>0.0</td>\n",
       "      <td>0.0</td>\n",
       "      <td>1.0</td>\n",
       "      <td>0.0</td>\n",
       "      <td>1.0</td>\n",
       "      <td>0.0</td>\n",
       "      <td>1.0</td>\n",
       "      <td>0.0</td>\n",
       "      <td>0.0</td>\n",
       "      <td>1.0</td>\n",
       "      <td>0.0</td>\n",
       "      <td>0.0</td>\n",
       "      <td>1.0</td>\n",
       "      <td>1.0</td>\n",
       "      <td>1.0</td>\n",
       "      <td>1.160724</td>\n",
       "      <td>-0.417217</td>\n",
       "      <td>0.305137</td>\n",
       "    </tr>\n",
       "    <tr>\n",
       "      <th>4918</th>\n",
       "      <td>0.0</td>\n",
       "      <td>1.0</td>\n",
       "      <td>0.0</td>\n",
       "      <td>1.0</td>\n",
       "      <td>0.0</td>\n",
       "      <td>1.0</td>\n",
       "      <td>0.0</td>\n",
       "      <td>0.0</td>\n",
       "      <td>0.0</td>\n",
       "      <td>1.0</td>\n",
       "      <td>0.0</td>\n",
       "      <td>0.0</td>\n",
       "      <td>0.0</td>\n",
       "      <td>0.0</td>\n",
       "      <td>0.0</td>\n",
       "      <td>0.0</td>\n",
       "      <td>0.0</td>\n",
       "      <td>-1.514462</td>\n",
       "      <td>-0.541126</td>\n",
       "      <td>-3.167226</td>\n",
       "    </tr>\n",
       "    <tr>\n",
       "      <th>6603</th>\n",
       "      <td>0.0</td>\n",
       "      <td>1.0</td>\n",
       "      <td>0.0</td>\n",
       "      <td>0.0</td>\n",
       "      <td>1.0</td>\n",
       "      <td>1.0</td>\n",
       "      <td>0.0</td>\n",
       "      <td>0.0</td>\n",
       "      <td>0.0</td>\n",
       "      <td>0.0</td>\n",
       "      <td>0.0</td>\n",
       "      <td>0.0</td>\n",
       "      <td>0.0</td>\n",
       "      <td>1.0</td>\n",
       "      <td>1.0</td>\n",
       "      <td>0.0</td>\n",
       "      <td>1.0</td>\n",
       "      <td>0.046201</td>\n",
       "      <td>-0.588077</td>\n",
       "      <td>1.815378</td>\n",
       "    </tr>\n",
       "    <tr>\n",
       "      <th>163</th>\n",
       "      <td>0.0</td>\n",
       "      <td>0.0</td>\n",
       "      <td>0.0</td>\n",
       "      <td>1.0</td>\n",
       "      <td>1.0</td>\n",
       "      <td>0.0</td>\n",
       "      <td>0.0</td>\n",
       "      <td>0.0</td>\n",
       "      <td>0.0</td>\n",
       "      <td>0.0</td>\n",
       "      <td>0.0</td>\n",
       "      <td>1.0</td>\n",
       "      <td>1.0</td>\n",
       "      <td>1.0</td>\n",
       "      <td>0.0</td>\n",
       "      <td>1.0</td>\n",
       "      <td>1.0</td>\n",
       "      <td>0.288345</td>\n",
       "      <td>0.715917</td>\n",
       "      <td>2.481310</td>\n",
       "    </tr>\n",
       "  </tbody>\n",
       "</table>\n",
       "<p>5282 rows × 20 columns</p>\n",
       "</div>"
      ],
      "text/plain": [
       "      SeniorCitizen_Yes  Partner_Yes  Type_One year  Type_Two year  \\\n",
       "3448                0.0          1.0            0.0            0.0   \n",
       "4632                0.0          1.0            0.0            0.0   \n",
       "4534                0.0          0.0            0.0            0.0   \n",
       "4748                0.0          0.0            1.0            0.0   \n",
       "1048                0.0          0.0            1.0            0.0   \n",
       "...                 ...          ...            ...            ...   \n",
       "5928                0.0          1.0            0.0            1.0   \n",
       "6562                1.0          1.0            0.0            0.0   \n",
       "4918                0.0          1.0            0.0            1.0   \n",
       "6603                0.0          1.0            0.0            0.0   \n",
       "163                 0.0          0.0            0.0            1.0   \n",
       "\n",
       "      PaperlessBilling_Yes  PaymentMethod_Credit card (automatic)  \\\n",
       "3448                   0.0                                    1.0   \n",
       "4632                   0.0                                    0.0   \n",
       "4534                   0.0                                    1.0   \n",
       "4748                   0.0                                    1.0   \n",
       "1048                   1.0                                    0.0   \n",
       "...                    ...                                    ...   \n",
       "5928                   0.0                                    1.0   \n",
       "6562                   1.0                                    0.0   \n",
       "4918                   0.0                                    1.0   \n",
       "6603                   1.0                                    1.0   \n",
       "163                    1.0                                    0.0   \n",
       "\n",
       "      PaymentMethod_Electronic check  PaymentMethod_Mailed check  \\\n",
       "3448                             0.0                         0.0   \n",
       "4632                             0.0                         1.0   \n",
       "4534                             0.0                         0.0   \n",
       "4748                             0.0                         0.0   \n",
       "1048                             0.0                         1.0   \n",
       "...                              ...                         ...   \n",
       "5928                             0.0                         0.0   \n",
       "6562                             1.0                         0.0   \n",
       "4918                             0.0                         0.0   \n",
       "6603                             0.0                         0.0   \n",
       "163                              0.0                         0.0   \n",
       "\n",
       "      InternetService_Fiber optic  InternetService_No  OnlineSecurity_Yes  \\\n",
       "3448                          0.0                 0.0                 0.0   \n",
       "4632                          0.0                 1.0                 0.0   \n",
       "4534                          0.0                 0.0                 0.0   \n",
       "4748                          0.0                 1.0                 0.0   \n",
       "1048                          0.0                 1.0                 0.0   \n",
       "...                           ...                 ...                 ...   \n",
       "5928                          0.0                 1.0                 0.0   \n",
       "6562                          1.0                 0.0                 0.0   \n",
       "4918                          0.0                 1.0                 0.0   \n",
       "6603                          0.0                 0.0                 0.0   \n",
       "163                           0.0                 0.0                 0.0   \n",
       "\n",
       "      OnlineBackup_Yes  DeviceProtection_Yes  TechSupport_Yes  \\\n",
       "3448               0.0                   0.0              1.0   \n",
       "4632               0.0                   0.0              0.0   \n",
       "4534               0.0                   0.0              1.0   \n",
       "4748               0.0                   0.0              0.0   \n",
       "1048               0.0                   0.0              0.0   \n",
       "...                ...                   ...              ...   \n",
       "5928               0.0                   0.0              0.0   \n",
       "6562               1.0                   0.0              0.0   \n",
       "4918               0.0                   0.0              0.0   \n",
       "6603               0.0                   0.0              1.0   \n",
       "163                1.0                   1.0              1.0   \n",
       "\n",
       "      StreamingTV_Yes  StreamingMovies_Yes  MultipleLines_Yes  MonthlyCharges  \\\n",
       "3448              0.0                  1.0                0.0       -0.124626   \n",
       "4632              0.0                  0.0                0.0       -1.517779   \n",
       "4534              0.0                  0.0                0.0       -0.537596   \n",
       "4748              0.0                  0.0                0.0       -1.489584   \n",
       "1048              0.0                  0.0                0.0       -1.506169   \n",
       "...               ...                  ...                ...             ...   \n",
       "5928              0.0                  0.0                0.0       -1.507827   \n",
       "6562              1.0                  1.0                1.0        1.160724   \n",
       "4918              0.0                  0.0                0.0       -1.514462   \n",
       "6603              1.0                  0.0                1.0        0.046201   \n",
       "163               0.0                  1.0                1.0        0.288345   \n",
       "\n",
       "      TotalCharges  Use_days  \n",
       "3448     -0.916379  2.243477  \n",
       "4632     -1.008353 -0.800787  \n",
       "4534     -0.995417 -1.859144  \n",
       "4748     -0.812366  0.947287  \n",
       "1048     -0.766378 -0.729437  \n",
       "...            ...       ...  \n",
       "5928     -0.442695 -0.455929  \n",
       "6562     -0.417217  0.305137  \n",
       "4918     -0.541126 -3.167226  \n",
       "6603     -0.588077  1.815378  \n",
       "163       0.715917  2.481310  \n",
       "\n",
       "[5282 rows x 20 columns]"
      ]
     },
     "execution_count": 68,
     "metadata": {},
     "output_type": "execute_result"
    }
   ],
   "source": [
    "features_train"
   ]
  },
  {
   "cell_type": "markdown",
   "id": "71ee2db6",
   "metadata": {},
   "source": [
    "**ВЫВОД:**\n",
    "\n",
    "**Итак, у нас имеется 4 дата-сета:** \n",
    "* contract — информация о договорах;\n",
    "* personal — персональные данные клиентов;\n",
    "* internet — информация об интернет-услугах;\n",
    "* phone — информация об услугах телефонии.**\n",
    "\n",
    "**В датасетах:**\n",
    "\n",
    "Проанализировали исходные данные. \n",
    "\n",
    "**Проверили:**\n",
    "\n",
    "- Все ли таблицы содержат данные.\n",
    "- Соответствует ли количество таблиц условию задачи.\n",
    "- Поменяли тип данных на нужный, заполнили пропуски, где это было необходимо.\n",
    "\n",
    "**В датасетах:**\n",
    "\n",
    "- Преобразовали столбец EndDate в целевую переменную\n",
    "- Объединили таблицы в одну\n",
    "- Заполнили пропуски в InternetService, OnlineSecurity, OnlineBackup, DeviceProtection, TechSupport, StreamingTV, StreamingMovies и MultipleLines.\n",
    "- Проверили, что все значения CustomerID уникальные\n",
    "- Cгенерировали новые признаки, которые могут пригодиться при обучении. Рассчитали длительность контракта абонента.\n",
    "- Посмотрели распределение значений для категориальных и количественных данных\n",
    "- Посмотрели на корреляцию признаков: наибольшая корреляция наблюдается у целевого признака с датой начала действия договора (corr 0.49), типом платежей (corr 0.45), расходами за месяц (corr 0.36), электронный расчётный лист (corr 0.30),общими расходами абонента (corr 0.28),  тип оплаты: раз в год-два или ежемесячно (corr 0.25).\n",
    "-  Отказались от признака даты начала действия договора, так как информация о договорах актуальна по условию на 1 февраля 2020\n",
    " \n",
    "**Исследовали целевой признака (is_canceled):**\n",
    "\n",
    "- Примерно 73,46 % - это пользователи, которые не разорвали контракт. Наблюдается дисбаланс классов.\n",
    "\n",
    "\n",
    "\n",
    "- Нормализовали входные данные. \n",
    "- Удалили столбцы времени, а также customerID. \n",
    "- Разделили на 2 выборки (обучающая и тестовая)\n",
    "- Применили OneHotEncoder и StandardScaler.\n"
   ]
  },
  {
   "cell_type": "markdown",
   "id": "cec82d78",
   "metadata": {},
   "source": [
    "### Обучение модели"
   ]
  },
  {
   "cell_type": "markdown",
   "id": "e3250f47",
   "metadata": {},
   "source": [
    "**Рассмотриим классы моделей:**\n",
    "\n",
    "- случайный лес,\n",
    "- LGBMClassifier,\n",
    "- CatBoost\n",
    "- Нейронные сети\n",
    "\n",
    "**Оценим качество метрикой ROC-AUC. Для интерпретируемости модели дополнительно выведим значение accuracy.**"
   ]
  },
  {
   "cell_type": "markdown",
   "id": "43da57e5",
   "metadata": {},
   "source": [
    "Перейдем к модели случайного леса. В цикле переберем значения гиперпараметра n_estimators, который отвечает за количество деревьев в лесу. Выведем на экран значение n_estimators при котором возможно получить максимальную оценку качества модели, полученную кросс-валидацией:"
   ]
  },
  {
   "cell_type": "markdown",
   "id": "f129eeee",
   "metadata": {},
   "source": [
    "#### Модель случайный лес"
   ]
  },
  {
   "cell_type": "code",
   "execution_count": 69,
   "id": "605b17e5",
   "metadata": {},
   "outputs": [
    {
     "data": {
      "text/plain": [
       "GridSearchCV(cv=5, estimator=RandomForestClassifier(random_state=50623),\n",
       "             param_grid={'criterion': ['gini', 'entropy'],\n",
       "                         'min_samples_split': range(5, 10),\n",
       "                         'n_estimators': [3, 10]},\n",
       "             refit='roc_auc', scoring=['roc_auc', 'accuracy'])"
      ]
     },
     "execution_count": 69,
     "metadata": {},
     "output_type": "execute_result"
    }
   ],
   "source": [
    "par_grid_ensemble = {'n_estimators': [3, 10],\n",
    "                     'criterion': ['gini', 'entropy'],\n",
    "                     'min_samples_split': range(5, 10)\n",
    "                    }\n",
    "\n",
    "model_RF = RandomForestClassifier(random_state=RANDOM_STATE)\n",
    "\n",
    "grid_search_RF = GridSearchCV(model_RF, par_grid_ensemble, cv=5,\n",
    "                           scoring=['roc_auc', 'accuracy'],\n",
    "                           refit='roc_auc'\n",
    "                          )\n",
    "grid_search_RF.fit(features_train, target_train)"
   ]
  },
  {
   "cell_type": "code",
   "execution_count": 70,
   "id": "261f8cae",
   "metadata": {},
   "outputs": [
    {
     "data": {
      "text/plain": [
       "{'criterion': 'entropy', 'min_samples_split': 9, 'n_estimators': 10}"
      ]
     },
     "execution_count": 70,
     "metadata": {},
     "output_type": "execute_result"
    }
   ],
   "source": [
    "grid_search_RF.best_params_"
   ]
  },
  {
   "cell_type": "code",
   "execution_count": 71,
   "id": "c2621343",
   "metadata": {},
   "outputs": [
    {
     "name": "stdout",
     "output_type": "stream",
     "text": [
      "0.8200750732985502\n"
     ]
    }
   ],
   "source": [
    "print(grid_search_RF.best_score_)"
   ]
  },
  {
   "cell_type": "code",
   "execution_count": 72,
   "id": "ad565fb3",
   "metadata": {
    "scrolled": true
   },
   "outputs": [
    {
     "data": {
      "text/plain": [
       "{'mean_fit_time': array([0.01698904, 0.03905401, 0.01397166, 0.03825679, 0.01313848,\n",
       "        0.03891001, 0.01473432, 0.03787599, 0.01278992, 0.03749566,\n",
       "        0.01663675, 0.04465027, 0.01825118, 0.04250798, 0.01544209,\n",
       "        0.04510226, 0.0144177 , 0.04219356, 0.01440568, 0.04262161]),\n",
       " 'std_fit_time': array([0.00416373, 0.00159017, 0.00035928, 0.00037819, 0.00024963,\n",
       "        0.0025943 , 0.00171123, 0.00246313, 0.00018194, 0.00102826,\n",
       "        0.00256257, 0.00111141, 0.00196762, 0.00061368, 0.00046354,\n",
       "        0.00407851, 0.00035886, 0.00140601, 0.00027982, 0.00196633]),\n",
       " 'mean_score_time': array([0.00683317, 0.01111636, 0.00692592, 0.01099176, 0.00659776,\n",
       "        0.0108696 , 0.00665512, 0.01044502, 0.00639586, 0.01069632,\n",
       "        0.00768209, 0.01125836, 0.00786257, 0.01090121, 0.00681672,\n",
       "        0.01139302, 0.00663619, 0.01069374, 0.00641251, 0.01108675]),\n",
       " 'std_score_time': array([0.00025701, 0.00033769, 0.00025621, 0.00024636, 0.00022334,\n",
       "        0.00047853, 0.00021263, 0.00023207, 0.00020245, 0.00014351,\n",
       "        0.00074434, 0.00029225, 0.00112243, 0.00021674, 0.00016964,\n",
       "        0.00046281, 0.00021343, 0.00024786, 0.00016867, 0.000407  ]),\n",
       " 'param_criterion': masked_array(data=['gini', 'gini', 'gini', 'gini', 'gini', 'gini', 'gini',\n",
       "                    'gini', 'gini', 'gini', 'entropy', 'entropy',\n",
       "                    'entropy', 'entropy', 'entropy', 'entropy', 'entropy',\n",
       "                    'entropy', 'entropy', 'entropy'],\n",
       "              mask=[False, False, False, False, False, False, False, False,\n",
       "                    False, False, False, False, False, False, False, False,\n",
       "                    False, False, False, False],\n",
       "        fill_value='?',\n",
       "             dtype=object),\n",
       " 'param_min_samples_split': masked_array(data=[5, 5, 6, 6, 7, 7, 8, 8, 9, 9, 5, 5, 6, 6, 7, 7, 8, 8,\n",
       "                    9, 9],\n",
       "              mask=[False, False, False, False, False, False, False, False,\n",
       "                    False, False, False, False, False, False, False, False,\n",
       "                    False, False, False, False],\n",
       "        fill_value='?',\n",
       "             dtype=object),\n",
       " 'param_n_estimators': masked_array(data=[3, 10, 3, 10, 3, 10, 3, 10, 3, 10, 3, 10, 3, 10, 3, 10,\n",
       "                    3, 10, 3, 10],\n",
       "              mask=[False, False, False, False, False, False, False, False,\n",
       "                    False, False, False, False, False, False, False, False,\n",
       "                    False, False, False, False],\n",
       "        fill_value='?',\n",
       "             dtype=object),\n",
       " 'params': [{'criterion': 'gini', 'min_samples_split': 5, 'n_estimators': 3},\n",
       "  {'criterion': 'gini', 'min_samples_split': 5, 'n_estimators': 10},\n",
       "  {'criterion': 'gini', 'min_samples_split': 6, 'n_estimators': 3},\n",
       "  {'criterion': 'gini', 'min_samples_split': 6, 'n_estimators': 10},\n",
       "  {'criterion': 'gini', 'min_samples_split': 7, 'n_estimators': 3},\n",
       "  {'criterion': 'gini', 'min_samples_split': 7, 'n_estimators': 10},\n",
       "  {'criterion': 'gini', 'min_samples_split': 8, 'n_estimators': 3},\n",
       "  {'criterion': 'gini', 'min_samples_split': 8, 'n_estimators': 10},\n",
       "  {'criterion': 'gini', 'min_samples_split': 9, 'n_estimators': 3},\n",
       "  {'criterion': 'gini', 'min_samples_split': 9, 'n_estimators': 10},\n",
       "  {'criterion': 'entropy', 'min_samples_split': 5, 'n_estimators': 3},\n",
       "  {'criterion': 'entropy', 'min_samples_split': 5, 'n_estimators': 10},\n",
       "  {'criterion': 'entropy', 'min_samples_split': 6, 'n_estimators': 3},\n",
       "  {'criterion': 'entropy', 'min_samples_split': 6, 'n_estimators': 10},\n",
       "  {'criterion': 'entropy', 'min_samples_split': 7, 'n_estimators': 3},\n",
       "  {'criterion': 'entropy', 'min_samples_split': 7, 'n_estimators': 10},\n",
       "  {'criterion': 'entropy', 'min_samples_split': 8, 'n_estimators': 3},\n",
       "  {'criterion': 'entropy', 'min_samples_split': 8, 'n_estimators': 10},\n",
       "  {'criterion': 'entropy', 'min_samples_split': 9, 'n_estimators': 3},\n",
       "  {'criterion': 'entropy', 'min_samples_split': 9, 'n_estimators': 10}],\n",
       " 'split0_test_roc_auc': array([0.77330259, 0.80872253, 0.77021894, 0.8217603 , 0.78297871,\n",
       "        0.81941252, 0.79313374, 0.81134597, 0.7967944 , 0.81960641,\n",
       "        0.78948241, 0.80810113, 0.79029771, 0.81926768, 0.79069018,\n",
       "        0.81261914, 0.77419264, 0.81835193, 0.7916363 , 0.83169806]),\n",
       " 'split1_test_roc_auc': array([0.7636288 , 0.79200073, 0.75552487, 0.78920909, 0.74319962,\n",
       "        0.79290246, 0.76623589, 0.8001724 , 0.75579353, 0.80259494,\n",
       "        0.74680188, 0.79112703, 0.73691317, 0.78743365, 0.75382887,\n",
       "        0.79730367, 0.76247477, 0.79094014, 0.75430543, 0.79860021]),\n",
       " 'split2_test_roc_auc': array([0.7761292 , 0.81862667, 0.769618  , 0.80396299, 0.776638  ,\n",
       "        0.81640859, 0.78196747, 0.81787168, 0.77438475, 0.82271581,\n",
       "        0.73665873, 0.80500403, 0.77438241, 0.81311431, 0.78190182,\n",
       "        0.81681423, 0.77119598, 0.81851412, 0.80615996, 0.82875338]),\n",
       " 'split3_test_roc_auc': array([0.72984975, 0.78581745, 0.7385251 , 0.7872524 , 0.76310446,\n",
       "        0.7997871 , 0.76705291, 0.79047635, 0.78136489, 0.80333462,\n",
       "        0.75951474, 0.80071325, 0.74521918, 0.79104845, 0.72733625,\n",
       "        0.799766  , 0.76330141, 0.80416932, 0.76967193, 0.80981768]),\n",
       " 'split4_test_roc_auc': array([0.76005402, 0.81760204, 0.77234722, 0.82310737, 0.79301799,\n",
       "        0.83622355, 0.77526167, 0.82070172, 0.76826981, 0.8266244 ,\n",
       "        0.75959681, 0.81930663, 0.7735688 , 0.81778024, 0.76161089,\n",
       "        0.80959728, 0.79651626, 0.83635017, 0.79361119, 0.83150604]),\n",
       " 'mean_test_roc_auc': array([0.76059287, 0.80455388, 0.76124683, 0.80505843, 0.77178776,\n",
       "        0.81294685, 0.77673034, 0.80811362, 0.77532148, 0.81497523,\n",
       "        0.75841091, 0.80485041, 0.76407626, 0.80572887, 0.7630736 ,\n",
       "        0.80722006, 0.77353621, 0.81366514, 0.78307696, 0.82007507]),\n",
       " 'std_test_roc_auc': array([0.01647763, 0.01337394, 0.01282819, 0.01532431, 0.01727522,\n",
       "        0.01530065, 0.01002439, 0.01129836, 0.01363491, 0.01005826,\n",
       "        0.01775382, 0.00921976, 0.01988624, 0.01366242, 0.02227977,\n",
       "        0.00749329, 0.01233772, 0.01527537, 0.01857177, 0.01347188]),\n",
       " 'rank_test_roc_auc': array([19, 10, 18,  8, 15,  4, 12,  5, 13,  2, 20,  9, 16,  7, 17,  6, 14,\n",
       "         3, 11,  1], dtype=int32),\n",
       " 'split0_test_accuracy': array([0.76726585, 0.78240303, 0.75496689, 0.78902554, 0.77483444,\n",
       "        0.78051088, 0.77010407, 0.78240303, 0.78997162, 0.78618732,\n",
       "        0.78145695, 0.77672658, 0.77578051, 0.77767266, 0.76253548,\n",
       "        0.77672658, 0.77956481, 0.7833491 , 0.77199622, 0.78997162]),\n",
       " 'split1_test_accuracy': array([0.75591296, 0.78240303, 0.75496689, 0.78618732, 0.75118259,\n",
       "        0.78051088, 0.7615894 , 0.77578051, 0.75402081, 0.77672658,\n",
       "        0.77388836, 0.78240303, 0.73982971, 0.77483444, 0.75402081,\n",
       "        0.7871334 , 0.76915799, 0.76726585, 0.75875118, 0.77672658]),\n",
       " 'split2_test_accuracy': array([0.76988636, 0.79545455, 0.76799242, 0.78882576, 0.76799242,\n",
       "        0.79450758, 0.77272727, 0.78503788, 0.76799242, 0.79640152,\n",
       "        0.75568182, 0.77746212, 0.77746212, 0.79640152, 0.77840909,\n",
       "        0.78598485, 0.75852273, 0.80397727, 0.78787879, 0.79166667]),\n",
       " 'split3_test_accuracy': array([0.75284091, 0.78125   , 0.76988636, 0.78314394, 0.76609848,\n",
       "        0.77367424, 0.76420455, 0.78030303, 0.76988636, 0.78598485,\n",
       "        0.76704545, 0.79356061, 0.75757576, 0.77840909, 0.75284091,\n",
       "        0.78787879, 0.75662879, 0.78314394, 0.76420455, 0.78977273]),\n",
       " 'split4_test_accuracy': array([0.75284091, 0.78219697, 0.77272727, 0.78314394, 0.77462121,\n",
       "        0.80018939, 0.76704545, 0.78693182, 0.77651515, 0.79166667,\n",
       "        0.77367424, 0.78977273, 0.76420455, 0.77272727, 0.75284091,\n",
       "        0.78030303, 0.77651515, 0.78409091, 0.77746212, 0.79261364]),\n",
       " 'mean_test_accuracy': array([0.7597494 , 0.78474151, 0.76410797, 0.7860653 , 0.76694583,\n",
       "        0.78587859, 0.76713415, 0.78209125, 0.77167727, 0.78739339,\n",
       "        0.77034937, 0.78398501, 0.76297053, 0.78000899, 0.76012944,\n",
       "        0.78360533, 0.76807789, 0.78436541, 0.77205857, 0.78815025]),\n",
       " 'std_test_accuracy': array([0.00734068, 0.00537348, 0.00761433, 0.00258715, 0.00861899,\n",
       "        0.00985727, 0.00398593, 0.00387902, 0.01171857, 0.0065822 ,\n",
       "        0.00863725, 0.0066772 , 0.01371296, 0.00844432, 0.00983357,\n",
       "        0.00434958, 0.00923782, 0.01165865, 0.0101809 , 0.00580925]),\n",
       " 'rank_test_accuracy': array([20,  5, 17,  3, 16,  4, 15,  9, 12,  2, 13,  7, 18, 10, 19,  8, 14,\n",
       "         6, 11,  1], dtype=int32)}"
      ]
     },
     "execution_count": 72,
     "metadata": {},
     "output_type": "execute_result"
    }
   ],
   "source": [
    "grid_search_RF.cv_results_"
   ]
  },
  {
   "cell_type": "markdown",
   "id": "560ce78b",
   "metadata": {},
   "source": [
    "#### LightGBM"
   ]
  },
  {
   "cell_type": "code",
   "execution_count": 73,
   "id": "6c36bb36",
   "metadata": {
    "scrolled": true
   },
   "outputs": [
    {
     "data": {
      "text/plain": [
       "{'max_depth': 5, 'n_estimators': 10}"
      ]
     },
     "execution_count": 73,
     "metadata": {},
     "output_type": "execute_result"
    }
   ],
   "source": [
    "parameters = {'max_depth': np.arange(5,10,20),\n",
    "              'n_estimators': np.arange(10, 50, 100)\n",
    "             }\n",
    "\n",
    "grid_search_LightGBM = GridSearchCV(LGBMClassifier(random_state=RANDOM_STATE), \n",
    "                  parameters,\n",
    "                  cv=5,\n",
    "                  scoring=['roc_auc', 'accuracy'],\n",
    "                           refit='roc_auc'\n",
    "                                   )\n",
    "\n",
    "# обучение\n",
    "grid_search_LightGBM.fit(features_train, target_train)\n",
    "# просмотр лучших параметров\n",
    "grid_search_LightGBM.best_params_"
   ]
  },
  {
   "cell_type": "code",
   "execution_count": 74,
   "id": "891cbd2c",
   "metadata": {},
   "outputs": [
    {
     "name": "stdout",
     "output_type": "stream",
     "text": [
      "0.8355135203119708\n"
     ]
    }
   ],
   "source": [
    "print(grid_search_LightGBM.best_score_)"
   ]
  },
  {
   "cell_type": "code",
   "execution_count": 75,
   "id": "960dda36",
   "metadata": {
    "scrolled": false
   },
   "outputs": [
    {
     "data": {
      "text/plain": [
       "{'mean_fit_time': array([26.72920289]),\n",
       " 'std_fit_time': array([2.41636771]),\n",
       " 'mean_score_time': array([0.15126495]),\n",
       " 'std_score_time': array([0.03830023]),\n",
       " 'param_max_depth': masked_array(data=[5],\n",
       "              mask=[False],\n",
       "        fill_value='?',\n",
       "             dtype=object),\n",
       " 'param_n_estimators': masked_array(data=[10],\n",
       "              mask=[False],\n",
       "        fill_value='?',\n",
       "             dtype=object),\n",
       " 'params': [{'max_depth': 5, 'n_estimators': 10}],\n",
       " 'split0_test_roc_auc': array([0.84454194]),\n",
       " 'split1_test_roc_auc': array([0.82135615]),\n",
       " 'split2_test_roc_auc': array([0.83733493]),\n",
       " 'split3_test_roc_auc': array([0.8257428]),\n",
       " 'split4_test_roc_auc': array([0.84859178]),\n",
       " 'mean_test_roc_auc': array([0.83551352]),\n",
       " 'std_test_roc_auc': array([0.01050494]),\n",
       " 'rank_test_roc_auc': array([1], dtype=int32),\n",
       " 'split0_test_accuracy': array([0.77388836]),\n",
       " 'split1_test_accuracy': array([0.78051088]),\n",
       " 'split2_test_accuracy': array([0.78693182]),\n",
       " 'split3_test_accuracy': array([0.78977273]),\n",
       " 'split4_test_accuracy': array([0.78693182]),\n",
       " 'mean_test_accuracy': array([0.78360712]),\n",
       " 'std_test_accuracy': array([0.00572997]),\n",
       " 'rank_test_accuracy': array([1], dtype=int32)}"
      ]
     },
     "execution_count": 75,
     "metadata": {},
     "output_type": "execute_result"
    }
   ],
   "source": [
    "grid_search_LightGBM.cv_results_"
   ]
  },
  {
   "cell_type": "markdown",
   "id": "b2679a44",
   "metadata": {},
   "source": [
    "#### CatBoostClassifier"
   ]
  },
  {
   "cell_type": "code",
   "execution_count": 76,
   "id": "a5168538",
   "metadata": {},
   "outputs": [
    {
     "name": "stdout",
     "output_type": "stream",
     "text": [
      "{'iterations': 50, 'l2_leaf_reg': 3, 'learning_rate': 0.1}\n"
     ]
    }
   ],
   "source": [
    "param_grid = {\n",
    "    'learning_rate': [0.1, 0.3],\n",
    "    'iterations': [50, 100],\n",
    "    'l2_leaf_reg': [3, 9]\n",
    "}\n",
    "\n",
    "model_CatBoost = CatBoostClassifier(random_state=RANDOM_STATE, verbose=0)\n",
    "\n",
    "search_CatBoost = GridSearchCV(model_CatBoost, param_grid, cv=5,  scoring=['roc_auc', 'accuracy'],\n",
    "                           refit='roc_auc'\n",
    "                              )\n",
    "search_CatBoost.fit(features_train, target_train)\n",
    "\n",
    "print(search_CatBoost.best_params_)\n"
   ]
  },
  {
   "cell_type": "code",
   "execution_count": 77,
   "id": "71b8994f",
   "metadata": {},
   "outputs": [
    {
     "name": "stdout",
     "output_type": "stream",
     "text": [
      "0.843606980910496\n"
     ]
    }
   ],
   "source": [
    "print(search_CatBoost.best_score_)"
   ]
  },
  {
   "cell_type": "code",
   "execution_count": 78,
   "id": "b0cc202a",
   "metadata": {
    "scrolled": false
   },
   "outputs": [
    {
     "data": {
      "text/plain": [
       "{'mean_fit_time': array([0.77409616, 1.0040626 , 0.98903151, 0.80527825, 0.91971645,\n",
       "        0.99748254, 0.96598983, 0.97468824]),\n",
       " 'std_fit_time': array([0.08146448, 0.48789487, 0.25139152, 0.07352042, 0.07734153,\n",
       "        0.11181276, 0.09578698, 0.09739732]),\n",
       " 'mean_score_time': array([0.0058198 , 0.00519333, 0.00545049, 0.00518842, 0.00495763,\n",
       "        0.00639477, 0.00546031, 0.00521064]),\n",
       " 'std_score_time': array([0.00166716, 0.00013894, 0.00109126, 0.00047322, 0.00018196,\n",
       "        0.00142277, 0.00055032, 0.00042378]),\n",
       " 'param_iterations': masked_array(data=[50, 50, 50, 50, 100, 100, 100, 100],\n",
       "              mask=[False, False, False, False, False, False, False, False],\n",
       "        fill_value='?',\n",
       "             dtype=object),\n",
       " 'param_l2_leaf_reg': masked_array(data=[3, 3, 9, 9, 3, 3, 9, 9],\n",
       "              mask=[False, False, False, False, False, False, False, False],\n",
       "        fill_value='?',\n",
       "             dtype=object),\n",
       " 'param_learning_rate': masked_array(data=[0.1, 0.3, 0.1, 0.3, 0.1, 0.3, 0.1, 0.3],\n",
       "              mask=[False, False, False, False, False, False, False, False],\n",
       "        fill_value='?',\n",
       "             dtype=object),\n",
       " 'params': [{'iterations': 50, 'l2_leaf_reg': 3, 'learning_rate': 0.1},\n",
       "  {'iterations': 50, 'l2_leaf_reg': 3, 'learning_rate': 0.3},\n",
       "  {'iterations': 50, 'l2_leaf_reg': 9, 'learning_rate': 0.1},\n",
       "  {'iterations': 50, 'l2_leaf_reg': 9, 'learning_rate': 0.3},\n",
       "  {'iterations': 100, 'l2_leaf_reg': 3, 'learning_rate': 0.1},\n",
       "  {'iterations': 100, 'l2_leaf_reg': 3, 'learning_rate': 0.3},\n",
       "  {'iterations': 100, 'l2_leaf_reg': 9, 'learning_rate': 0.1},\n",
       "  {'iterations': 100, 'l2_leaf_reg': 9, 'learning_rate': 0.3}],\n",
       " 'split0_test_roc_auc': array([0.84850163, 0.83858956, 0.8472705 , 0.84213108, 0.84437841,\n",
       "        0.82851162, 0.84667713, 0.82939467]),\n",
       " 'split1_test_roc_auc': array([0.83133597, 0.81800852, 0.83280537, 0.82539293, 0.8270539 ,\n",
       "        0.80894446, 0.82779911, 0.81688719]),\n",
       " 'split2_test_roc_auc': array([0.84894348, 0.8406386 , 0.84939132, 0.83844163, 0.84662928,\n",
       "        0.83557173, 0.84885673, 0.83467137]),\n",
       " 'split3_test_roc_auc': array([0.83400079, 0.82460093, 0.83355999, 0.82864787, 0.83060568,\n",
       "        0.81292439, 0.832737  , 0.8208002 ]),\n",
       " 'split4_test_roc_auc': array([0.85525304, 0.83898559, 0.8548052 , 0.84309349, 0.85062462,\n",
       "        0.83511217, 0.8528849 , 0.83666435]),\n",
       " 'mean_test_roc_auc': array([0.84360698, 0.83216464, 0.84356648, 0.8355414 , 0.83985838,\n",
       "        0.82421287, 0.84179098, 0.82768356]),\n",
       " 'std_test_roc_auc': array([0.00928357, 0.00913475, 0.0088305 , 0.00720252, 0.00929252,\n",
       "        0.01119689, 0.00974291, 0.00769876]),\n",
       " 'rank_test_roc_auc': array([1, 6, 2, 5, 4, 8, 3, 7], dtype=int32),\n",
       " 'split0_test_accuracy': array([0.80605487, 0.80227058, 0.80321665, 0.79943236, 0.79375591,\n",
       "        0.79091769, 0.80605487, 0.79564806]),\n",
       " 'split1_test_accuracy': array([0.80605487, 0.79280984, 0.80416272, 0.79659413, 0.79848628,\n",
       "        0.7833491 , 0.79848628, 0.78997162]),\n",
       " 'split2_test_accuracy': array([0.81060606, 0.79829545, 0.80871212, 0.79734848, 0.80871212,\n",
       "        0.79640152, 0.81344697, 0.78882576]),\n",
       " 'split3_test_accuracy': array([0.80018939, 0.78314394, 0.79924242, 0.79261364, 0.79734848,\n",
       "        0.76704545, 0.7907197 , 0.78409091]),\n",
       " 'split4_test_accuracy': array([0.80587121, 0.79829545, 0.80492424, 0.79829545, 0.80587121,\n",
       "        0.78125   , 0.80397727, 0.78977273]),\n",
       " 'mean_test_accuracy': array([0.80575528, 0.79496305, 0.80405163, 0.79685681, 0.8008348 ,\n",
       "        0.78379275, 0.80253702, 0.78966181]),\n",
       " 'std_test_accuracy': array([0.00330763, 0.00663231, 0.00304367, 0.00232458, 0.00557132,\n",
       "        0.00996875, 0.00760965, 0.00367906]),\n",
       " 'rank_test_accuracy': array([1, 6, 2, 5, 4, 8, 3, 7], dtype=int32)}"
      ]
     },
     "execution_count": 78,
     "metadata": {},
     "output_type": "execute_result"
    }
   ],
   "source": [
    "search_CatBoost.cv_results_"
   ]
  },
  {
   "cell_type": "markdown",
   "id": "a789bdc4",
   "metadata": {},
   "source": [
    "#### Нейронные сети"
   ]
  },
  {
   "cell_type": "code",
   "execution_count": 79,
   "id": "7d3e8372",
   "metadata": {},
   "outputs": [],
   "source": [
    "class CustomEarlyStopping():\n",
    "    \"\"\"\n",
    "    Ранняя остановка, чтобы остановить тренировку, когда потеря не улучшается после определенной эпохи.\n",
    "    \"\"\"\n",
    "    def __init__(self, patience=5, min_delta=0):\n",
    "        \"\"\"\n",
    "        :param patience: сколько эпох ждать, прежде чем остановиться, когда потеря не улучшается\n",
    "        :param min_delta: минимальная разница между loss/метриками, если улучшений нет, то остановим обучение\n",
    "        \"\"\"\n",
    "        self.patience = patience\n",
    "        self.min_delta = min_delta\n",
    "        self.counter = 0\n",
    "        self.best_loss = None\n",
    "        self.early_stop = False\n",
    "\n",
    "    def __call__(self, val_loss):\n",
    "        if self.best_loss == None:\n",
    "            self.best_loss = val_loss\n",
    "        elif self.best_loss - val_loss > self.min_delta:\n",
    "            self.best_loss = val_loss\n",
    "            # reset counter if validation loss improves\n",
    "            self.counter = 0\n",
    "        elif self.best_loss - val_loss < self.min_delta:\n",
    "            self.counter += 1\n",
    "            print(f\"INFO: Early stopping counter {self.counter} of {self.patience}\")\n",
    "            if self.counter >= self.patience:\n",
    "                print('INFO: Early stopping')\n",
    "                self.early_stop = True"
   ]
  },
  {
   "cell_type": "code",
   "execution_count": 80,
   "id": "a7c4fc06",
   "metadata": {},
   "outputs": [],
   "source": [
    "# Переведём выборки в тензоры\n",
    "X_train = torch.FloatTensor(np.array(features_train))\n",
    "X_test = torch.FloatTensor(np.array(features_test))\n",
    "y_train = torch.FloatTensor(np.array(target_train))\n",
    "y_test = torch.FloatTensor(np.array(target_test))"
   ]
  },
  {
   "cell_type": "code",
   "execution_count": 81,
   "id": "bf73844c",
   "metadata": {},
   "outputs": [],
   "source": [
    "class Net(nn.Module):\n",
    "    def __init__(self, n_in_neurons, n_hidden_neurons_1, n_hidden_neurons_2, n_out_neurons):\n",
    "            super(Net, self).__init__()\n",
    "            \n",
    "            self.fc1 = nn.Linear(n_in_neurons, n_hidden_neurons_1)\n",
    "            self.bn1 = nn.BatchNorm1d(n_hidden_neurons_1)\n",
    "            self.act1 = nn.ReLU()\n",
    "            self.dp2 = nn.Dropout(p=0.2)\n",
    "            self.fc2 = nn.Linear(n_hidden_neurons_1, n_hidden_neurons_2)\n",
    "            self.act2 = nn.ReLU()\n",
    "            self.fc3 = nn.Linear(n_hidden_neurons_2, n_out_neurons)\n",
    "            self.act3 = nn.Sigmoid()\n",
    "            \n",
    "    def forward(self, x):\n",
    "        x = self.fc1(x)\n",
    "        x = self.bn1(x)\n",
    "        x = self.act1(x)\n",
    "        x = self.dp2(x)\n",
    "        x = self.fc2(x)\n",
    "        x = self.act2(x)\n",
    "        x = self.fc3(x)\n",
    "        x = self.act3(x)\n",
    "        \n",
    "        return x"
   ]
  },
  {
   "cell_type": "code",
   "execution_count": 82,
   "id": "d7dc9d82",
   "metadata": {},
   "outputs": [],
   "source": [
    "# Настраиваем количество нейронов на слоях сети\n",
    "n_in_neurons = X_train.shape[1]\n",
    "n_hidden_neurons_1 = 24\n",
    "n_hidden_neurons_2 = 10\n",
    "n_out_neurons = 1"
   ]
  },
  {
   "cell_type": "code",
   "execution_count": 83,
   "id": "ce68a065",
   "metadata": {},
   "outputs": [],
   "source": [
    "net = Net(n_in_neurons, n_hidden_neurons_1, n_hidden_neurons_2, n_out_neurons)\n",
    "optimizer = torch.optim.Adam(net.parameters(), lr=1e-3)\n",
    "loss = nn.BCEWithLogitsLoss()"
   ]
  },
  {
   "cell_type": "code",
   "execution_count": 84,
   "id": "e96b139d",
   "metadata": {},
   "outputs": [],
   "source": [
    "dataset_train = torch.utils.data.TensorDataset(X_train, y_train)\n",
    "dataset_test = torch.utils.data.TensorDataset(X_test, y_test)\n",
    "\n",
    "train_dataloader = DataLoader(dataset_train, batch_size=40, shuffle=True,\n",
    "                              num_workers=0)\n",
    "test_dataloader = DataLoader(dataset_test, batch_size=40, num_workers=0)   "
   ]
  },
  {
   "cell_type": "code",
   "execution_count": null,
   "id": "3fd5e2a2",
   "metadata": {},
   "outputs": [
    {
     "name": "stdout",
     "output_type": "stream",
     "text": [
      "epoch:0, ROC_AUC test: 0.8041612009223346\n"
     ]
    }
   ],
   "source": [
    "early_stopping = CustomEarlyStopping(patience=5, min_delta=20)\n",
    "\n",
    "num_epochs = 100001\n",
    "for epoch in range(num_epochs):\n",
    "    net.train()\n",
    "    for batch in train_dataloader:\n",
    "        data_train, temperature_train = batch # просто выгружаем данные \n",
    "        optimizer.zero_grad()\n",
    "\n",
    "        preds = net.forward(data_train).flatten()\n",
    "\n",
    "        loss_value = loss(preds, temperature_train)\n",
    "        loss_value.backward()\n",
    "        optimizer.step()\n",
    "\n",
    "    if epoch % 5 == 0:\n",
    "        predicted_temp = [] \n",
    "        with torch.no_grad():\n",
    "            net.eval()\n",
    "            for batch in test_dataloader:\n",
    "                data_test, temperature_test = batch # просто выгружаем данные\n",
    "\n",
    "                test_preds = net.forward(data_test).flatten()\n",
    "                predicted_temp.append(test_preds)\n",
    "                BCE_loss = loss(test_preds, temperature_test)\n",
    "\n",
    "        predicted_temp = torch.cat(predicted_temp).detach().numpy()\n",
    "        ROC_AUC = roc_auc_score(y_test, predicted_temp)\n",
    "        early_stopping(BCE_loss)\n",
    "        if early_stopping.counter == 0:\n",
    "            best_roc = ROC_AUC\n",
    "            best_predicted_temp = predicted_temp\n",
    "        print(f\"epoch:{epoch}, ROC_AUC test: {ROC_AUC}\")\n",
    "\n",
    "        if early_stopping.early_stop:\n",
    "            print('Early Stoppning!!!')\n",
    "            print(f'Best ROC_AUC test {best_roc}')\n",
    "            break "
   ]
  },
  {
   "cell_type": "code",
   "execution_count": null,
   "id": "80257f3c",
   "metadata": {
    "scrolled": true
   },
   "outputs": [],
   "source": [
    "print('Модель случайный лес:', 0.82)\n",
    "print('LightGBM:', 0.83)\n",
    "print('CatBoostClassifier:', 0.84)\n",
    "print('Нейронные сети:', 0.81)"
   ]
  },
  {
   "cell_type": "markdown",
   "id": "65f84b62",
   "metadata": {},
   "source": [
    "**ВЫВОД**\n",
    "\n",
    "Модель CatBoostClassifier лучшая.Теперь проверим ее на тестовой выборке. "
   ]
  },
  {
   "cell_type": "markdown",
   "id": "9c93e96c",
   "metadata": {},
   "source": [
    "### Протестируем модель и продемонстрируем её работу"
   ]
  },
  {
   "cell_type": "code",
   "execution_count": null,
   "id": "4afd7d4e",
   "metadata": {
    "scrolled": true
   },
   "outputs": [],
   "source": [
    "search_CatBoost.best_params_  "
   ]
  },
  {
   "cell_type": "code",
   "execution_count": null,
   "id": "82a03519",
   "metadata": {},
   "outputs": [],
   "source": [
    "model = CatBoostClassifier(iterations = 50, \n",
    "                               l2_leaf_reg = 3,\n",
    "                               learning_rate = 0.1).fit(features_train, target_train)\n",
    "predictions = model.predict(features_test)"
   ]
  },
  {
   "cell_type": "code",
   "execution_count": null,
   "id": "5a59a26c",
   "metadata": {},
   "outputs": [],
   "source": [
    "y_pred_proba = model.predict_proba(features_test)[:, 1]"
   ]
  },
  {
   "cell_type": "code",
   "execution_count": null,
   "id": "9b9f3337",
   "metadata": {},
   "outputs": [],
   "source": [
    "roc_auc_test = roc_auc_score(target_test,y_pred_proba)\n",
    "accuracy = accuracy_score(target_test,predictions, normalize=False)\n",
    "\n",
    "print(\"ROC_auc\")\n",
    "print(\"Test set:\", roc_auc_test)\n",
    "print(\"accuracy\")\n",
    "print(\"Test set:\", accuracy)"
   ]
  },
  {
   "cell_type": "code",
   "execution_count": null,
   "id": "57f37e4d",
   "metadata": {},
   "outputs": [],
   "source": [
    "predicted_probalities = model.predict_proba(features_test)[:, 1]"
   ]
  },
  {
   "cell_type": "code",
   "execution_count": null,
   "id": "8ac33110",
   "metadata": {},
   "outputs": [],
   "source": [
    "# Отчета о классификации \n",
    "print(classification_report(target_test,predictions))"
   ]
  },
  {
   "cell_type": "markdown",
   "id": "d425c70e",
   "metadata": {},
   "source": [
    "Из приведенного выше отчета о классификации мы видим, что модель дает достойную оценку для прогнозирования ухода клиента."
   ]
  },
  {
   "cell_type": "code",
   "execution_count": null,
   "id": "2d775f54",
   "metadata": {},
   "outputs": [],
   "source": [
    "# Построим матрицу ошибок \n",
    "# Построим матрицу ошибок \n",
    "clf = SVC(random_state=RANDOM_STATE)\n",
    "clf.fit(X_train, y_train)\n",
    "SVC(random_state=RANDOM_STATE)\n",
    "predictions = clf.predict(X_test)\n",
    "cm = confusion_matrix(y_test, predictions, labels=clf.classes_)\n",
    "disp = ConfusionMatrixDisplay(confusion_matrix=cm,\n",
    "                             display_labels=clf.classes_)\n",
    "disp.plot()\n",
    "plt.title(\"Матрица ошибок\", size=18)\n",
    "plt.xlabel('predictions', size=18)\n",
    "plt.ylabel('target', size=18)\n",
    "plt.show()"
   ]
  },
  {
   "cell_type": "code",
   "execution_count": null,
   "id": "8be02e08",
   "metadata": {},
   "outputs": [],
   "source": [
    "# Отобразим полноту и точность модели на графике\n",
    "fpr, tpr, thresholds = roc_curve(target_test, predicted_probalities)\n",
    "\n",
    "plt.figure(figsize=(6, 4))\n",
    "plt.plot(fpr, tpr)\n",
    "plt.plot([0, 1], [0, 1], linestyle='--')\n",
    "plt.xlim([0.0, 1.0])\n",
    "plt.ylim([0.0, 1.0])\n",
    "\n",
    "plt.xlabel('False Positive Rate')\n",
    "plt.ylabel('True Positive Rate')\n",
    "plt.title('ROC-кривая')\n",
    "\n",
    "plt.show()"
   ]
  },
  {
   "cell_type": "markdown",
   "id": "e7260d7a",
   "metadata": {},
   "source": [
    "График ROC показывает TPR(скорость, с которой модель предсказывает количество клиентов, ушедших до истинно ушедших клиентов) по сравнению с FPR, когда модель предсказывает количество ушедших клиентов, но на самом деле они не уходят. Чем дальше кривая от средней линии и ближе к верхнему левому углу, тем выше точность этой модели"
   ]
  },
  {
   "cell_type": "code",
   "execution_count": null,
   "id": "66981acc",
   "metadata": {},
   "outputs": [],
   "source": [
    "# Получаем точность, полноту и соответствующие пороги \n",
    "precision, recall, threshold = precision_recall_curve(target_test, y_pred_proba)\n",
    "\n",
    "# Строим PR-кривую\n",
    "plt.plot(recall, precision)\n",
    "\n",
    "# Добавляем подписи осей и заголовок графика\n",
    "plt.xlabel('Recall')\n",
    "plt.ylabel('Precision')\n",
    "plt.title('PR-кривая')\n",
    "\n",
    "plt.show()"
   ]
  },
  {
   "cell_type": "markdown",
   "id": "28ef7ed6",
   "metadata": {},
   "source": [
    "Избавиться от проблемы с несбалансированными классами можно, перейдя от ROC-кривой к PR-кривой. Она определяется аналогично ROC-кривой, только по осям откладываются не FPR и TPR, а полнота (по оси абсцисс) и точность (по оси ординат). Критерием качества семейства алгоритмов выступает площадь под PR-кривой (англ. Area Under the Curve — AUC-PR)"
   ]
  },
  {
   "cell_type": "code",
   "execution_count": null,
   "id": "b8fa55a3",
   "metadata": {},
   "outputs": [],
   "source": [
    "importances_df = pd.DataFrame(grid_search_RF.best_estimator_.feature_importances_, index = features_test.columns, columns=['importances'])\n",
    "importances_df = importances_df.sort_values(by='importances', ascending=False)\n",
    "importances_df"
   ]
  },
  {
   "cell_type": "code",
   "execution_count": null,
   "id": "3a9490ad",
   "metadata": {},
   "outputs": [],
   "source": [
    "importances_df.plot(kind='bar', figsize=(10, 5), title='Важность факторов')\n",
    "plt.show()"
   ]
  },
  {
   "cell_type": "markdown",
   "id": "0652d17a",
   "metadata": {},
   "source": [
    "Самые важные факторы - общие и ежемесячные расходы абонента, а так же количество дней пользования услугами."
   ]
  },
  {
   "cell_type": "markdown",
   "id": "d7c0e808",
   "metadata": {},
   "source": [
    "**ОБЩИЙ ВЫВОД**\n",
    "\n",
    "\n",
    "* В данной работе проведена работа по предсказанию того, откажется ли клиент от услуг оператора сотовой связи или нет\n",
    "* Данные были загружены и по ним были сделаны предварительные выводы\n",
    "* После этого была произведена первичная обработка данных - изменены типы данных,  проверены и заполнены  пропуски, где это необходимо\n",
    "* Были добавлен новый столбец - целевой признак target, который означает отказался ли клиент от услуг и UseDays, который обозначает сколько по времени пользователь пользовался услугами\n",
    "* После этого был проведен исследовательский анализ данных - проанализированы количественные и категориальные признаки, проведена попытка найти связь между ними и целевым признаком\n",
    "* Были сделаны следующие выводы: со временем вероятность отказа от услуг снижается и обычно отказывались от услуг те, кто платил больше\n",
    "* Наибольшая корреляция наблюдается у целевого признака с датой начала действия договора (corr 0.49), типом платежей (corr 0.45), расходами за месяц (corr 0.36)\n",
    "* После этого была проведена подготовка данных к обучению моделей: удалены ненужные столбцы, применена техника OHE, датафрейм был разделен на обучающую и тестовую выборки, проведено масштабирование количественных признаков и проведен upsample\n",
    "* Затем на данных были обучены 3 модели: случайный лес, LGBMClassifier, CatBoost\n",
    "* Лучший результат показала модель  CatBoostClassifier ROC AUC 0.84\n",
    "* Модель на тесте показала ROC_auc\n",
    "Test set: 0.85\n",
    "* Самые важные факторы - общие и ежемесячные расходы абонента, а так же количество дней пользования услугами.\n",
    "\n",
    "\n",
    "**Способы для дальнейшего улучшения модели и бизнес-рекомендации заказчику:**\n",
    "\n",
    "*Способы для дальнейшего улучшения модели:*\n",
    "\n",
    "- Мы видим, что человек уходит от компании буквально в первые дни подключения тарифа. Необходимо запросить дополнительные данные по какой причине это происходит.\n",
    "\n",
    "- Необходимо уточнить тарифы для каждого клиента, добавить описание тарифов, значит и корректировать рекламный бюджет надо будет в пользу определенных тарифов.\n",
    "\n",
    "- Необходимо добавить данные, более длительный дедлайн по сбору\n",
    "\n",
    "- Провести опрос среди клиентов, что явилось причиной разрыва контракта\n",
    "\n",
    "- Необходимо проанализировать какой тариф привлекает больше клиентов и приносит большую долю выручки \n",
    "\n",
    "\n",
    "*Бизнес-рекомендации заказчику:*\n",
    "\n",
    "- это общие и ежемесячные расходы абонента (обычно отказывались от услуг те, кто платил больше). Разработать более лояльные условия оплаты тарифов.\n",
    "\n",
    "- количество дней пользования услугами (со временем вероятность отказа от услуг снижается). Если тариф устраивает абонента, то он пользуется им долгое время. Разработать систему привелегий для \"старых\" клиентов (использующих тариф более 300 дней). \n",
    "\n",
    "- Мы видим, что человек уходит от компании буквально в первые дни подключения тарифа. Необходимо уточнить по какой причине это происходит и найти решение. \n",
    "\n",
    "- Доля отказов среди тех, кто использует помесячную оплату выше, чем среди тех, кто сразу платит за 1/2 года. Сделать привилегии для тех абонентов, которые оплачивают сразу за год или два.\n",
    "\n",
    "- Видно, что остальные факторов - слабозначимые для модели. Т.е. не значительно влияют на целевую переменную. Обратить внимание заказчика, что эти факторы не влияют на уход клиента.\n",
    "\n"
   ]
  },
  {
   "cell_type": "code",
   "execution_count": null,
   "id": "1064e906",
   "metadata": {},
   "outputs": [],
   "source": []
  }
 ],
 "metadata": {
  "ExecuteTimeLog": [
   {
    "duration": 134,
    "start_time": "2023-06-16T20:36:18.174Z"
   },
   {
    "duration": 132,
    "start_time": "2023-06-16T20:38:14.280Z"
   },
   {
    "duration": 108,
    "start_time": "2023-06-16T20:39:26.787Z"
   },
   {
    "duration": 2354,
    "start_time": "2023-06-16T20:49:13.942Z"
   },
   {
    "duration": 4830,
    "start_time": "2023-06-16T20:51:06.123Z"
   },
   {
    "duration": 138034,
    "start_time": "2023-06-16T20:51:10.956Z"
   },
   {
    "duration": 0,
    "start_time": "2023-06-16T20:53:28.997Z"
   },
   {
    "duration": 0,
    "start_time": "2023-06-16T20:53:29.000Z"
   },
   {
    "duration": 0,
    "start_time": "2023-06-16T20:53:29.049Z"
   },
   {
    "duration": 0,
    "start_time": "2023-06-16T20:53:29.050Z"
   },
   {
    "duration": 0,
    "start_time": "2023-06-16T20:53:29.050Z"
   },
   {
    "duration": 0,
    "start_time": "2023-06-16T20:53:29.051Z"
   },
   {
    "duration": 0,
    "start_time": "2023-06-16T20:53:29.052Z"
   },
   {
    "duration": 0,
    "start_time": "2023-06-16T20:53:29.053Z"
   },
   {
    "duration": 0,
    "start_time": "2023-06-16T20:53:29.053Z"
   },
   {
    "duration": 0,
    "start_time": "2023-06-16T20:53:29.054Z"
   },
   {
    "duration": 0,
    "start_time": "2023-06-16T20:53:29.079Z"
   },
   {
    "duration": 0,
    "start_time": "2023-06-16T20:53:29.081Z"
   },
   {
    "duration": 0,
    "start_time": "2023-06-16T20:53:29.083Z"
   },
   {
    "duration": 0,
    "start_time": "2023-06-16T20:53:29.084Z"
   },
   {
    "duration": 0,
    "start_time": "2023-06-16T20:53:29.085Z"
   },
   {
    "duration": 0,
    "start_time": "2023-06-16T20:53:29.086Z"
   },
   {
    "duration": 0,
    "start_time": "2023-06-16T20:53:29.132Z"
   },
   {
    "duration": 1,
    "start_time": "2023-06-16T20:53:29.133Z"
   },
   {
    "duration": 0,
    "start_time": "2023-06-16T20:53:29.135Z"
   },
   {
    "duration": 0,
    "start_time": "2023-06-16T20:53:29.136Z"
   },
   {
    "duration": 0,
    "start_time": "2023-06-16T20:53:29.137Z"
   },
   {
    "duration": 0,
    "start_time": "2023-06-16T20:53:29.138Z"
   },
   {
    "duration": 0,
    "start_time": "2023-06-16T20:53:29.140Z"
   },
   {
    "duration": 0,
    "start_time": "2023-06-16T20:53:29.143Z"
   },
   {
    "duration": 0,
    "start_time": "2023-06-16T20:53:29.144Z"
   },
   {
    "duration": 0,
    "start_time": "2023-06-16T20:53:29.145Z"
   },
   {
    "duration": 0,
    "start_time": "2023-06-16T20:53:29.147Z"
   },
   {
    "duration": 0,
    "start_time": "2023-06-16T20:53:29.148Z"
   },
   {
    "duration": 0,
    "start_time": "2023-06-16T20:53:29.151Z"
   },
   {
    "duration": 0,
    "start_time": "2023-06-16T20:53:29.153Z"
   },
   {
    "duration": 0,
    "start_time": "2023-06-16T20:53:29.154Z"
   },
   {
    "duration": 0,
    "start_time": "2023-06-16T20:53:29.155Z"
   },
   {
    "duration": 0,
    "start_time": "2023-06-16T20:53:29.156Z"
   },
   {
    "duration": 0,
    "start_time": "2023-06-16T20:53:29.157Z"
   },
   {
    "duration": 0,
    "start_time": "2023-06-16T20:53:29.159Z"
   },
   {
    "duration": 0,
    "start_time": "2023-06-16T20:53:29.162Z"
   },
   {
    "duration": 0,
    "start_time": "2023-06-16T20:53:29.163Z"
   },
   {
    "duration": 0,
    "start_time": "2023-06-16T20:53:29.165Z"
   },
   {
    "duration": 0,
    "start_time": "2023-06-16T20:53:29.166Z"
   },
   {
    "duration": 0,
    "start_time": "2023-06-16T20:53:29.167Z"
   },
   {
    "duration": 0,
    "start_time": "2023-06-16T20:53:29.168Z"
   },
   {
    "duration": 0,
    "start_time": "2023-06-16T20:53:29.170Z"
   },
   {
    "duration": 0,
    "start_time": "2023-06-16T20:53:29.173Z"
   },
   {
    "duration": 0,
    "start_time": "2023-06-16T20:53:29.174Z"
   },
   {
    "duration": 1,
    "start_time": "2023-06-16T20:53:29.175Z"
   },
   {
    "duration": 0,
    "start_time": "2023-06-16T20:53:29.177Z"
   },
   {
    "duration": 0,
    "start_time": "2023-06-16T20:53:29.178Z"
   },
   {
    "duration": 0,
    "start_time": "2023-06-16T20:53:29.182Z"
   },
   {
    "duration": 0,
    "start_time": "2023-06-16T20:53:29.183Z"
   },
   {
    "duration": 0,
    "start_time": "2023-06-16T20:53:29.184Z"
   },
   {
    "duration": 0,
    "start_time": "2023-06-16T20:53:29.186Z"
   },
   {
    "duration": 0,
    "start_time": "2023-06-16T20:53:29.189Z"
   },
   {
    "duration": 0,
    "start_time": "2023-06-16T20:53:29.191Z"
   },
   {
    "duration": 0,
    "start_time": "2023-06-16T20:53:29.192Z"
   },
   {
    "duration": 0,
    "start_time": "2023-06-16T20:53:29.193Z"
   },
   {
    "duration": 0,
    "start_time": "2023-06-16T20:53:29.234Z"
   },
   {
    "duration": 0,
    "start_time": "2023-06-16T20:53:29.235Z"
   },
   {
    "duration": 0,
    "start_time": "2023-06-16T20:53:29.235Z"
   },
   {
    "duration": 0,
    "start_time": "2023-06-16T20:53:29.236Z"
   },
   {
    "duration": 0,
    "start_time": "2023-06-16T20:53:29.241Z"
   },
   {
    "duration": 0,
    "start_time": "2023-06-16T20:53:29.245Z"
   },
   {
    "duration": 0,
    "start_time": "2023-06-16T20:53:29.246Z"
   },
   {
    "duration": 0,
    "start_time": "2023-06-16T20:53:29.248Z"
   },
   {
    "duration": 0,
    "start_time": "2023-06-16T20:53:29.249Z"
   },
   {
    "duration": 0,
    "start_time": "2023-06-16T20:53:29.250Z"
   },
   {
    "duration": 0,
    "start_time": "2023-06-16T20:53:29.258Z"
   },
   {
    "duration": 0,
    "start_time": "2023-06-16T20:53:29.259Z"
   },
   {
    "duration": 0,
    "start_time": "2023-06-16T20:53:29.260Z"
   },
   {
    "duration": 0,
    "start_time": "2023-06-16T20:53:29.261Z"
   },
   {
    "duration": 1,
    "start_time": "2023-06-16T20:53:29.262Z"
   },
   {
    "duration": 0,
    "start_time": "2023-06-16T20:53:29.264Z"
   },
   {
    "duration": 0,
    "start_time": "2023-06-16T20:53:29.268Z"
   },
   {
    "duration": 0,
    "start_time": "2023-06-16T20:53:29.270Z"
   },
   {
    "duration": 0,
    "start_time": "2023-06-16T20:53:29.274Z"
   },
   {
    "duration": 0,
    "start_time": "2023-06-16T20:53:29.275Z"
   },
   {
    "duration": 0,
    "start_time": "2023-06-16T20:53:29.276Z"
   },
   {
    "duration": 0,
    "start_time": "2023-06-16T20:53:29.278Z"
   },
   {
    "duration": 0,
    "start_time": "2023-06-16T20:53:29.333Z"
   },
   {
    "duration": 0,
    "start_time": "2023-06-16T20:53:29.335Z"
   },
   {
    "duration": 0,
    "start_time": "2023-06-16T20:53:29.338Z"
   },
   {
    "duration": 0,
    "start_time": "2023-06-16T20:53:29.340Z"
   },
   {
    "duration": 0,
    "start_time": "2023-06-16T20:53:29.341Z"
   },
   {
    "duration": 0,
    "start_time": "2023-06-16T20:53:29.342Z"
   },
   {
    "duration": 0,
    "start_time": "2023-06-16T20:53:29.346Z"
   },
   {
    "duration": 0,
    "start_time": "2023-06-16T20:53:29.347Z"
   },
   {
    "duration": 0,
    "start_time": "2023-06-16T20:53:29.348Z"
   },
   {
    "duration": 0,
    "start_time": "2023-06-16T20:53:29.351Z"
   },
   {
    "duration": 0,
    "start_time": "2023-06-16T20:53:29.353Z"
   },
   {
    "duration": 0,
    "start_time": "2023-06-16T20:53:29.354Z"
   },
   {
    "duration": 0,
    "start_time": "2023-06-16T20:53:29.362Z"
   },
   {
    "duration": 0,
    "start_time": "2023-06-16T20:53:29.363Z"
   },
   {
    "duration": 0,
    "start_time": "2023-06-16T20:53:29.364Z"
   },
   {
    "duration": 0,
    "start_time": "2023-06-16T20:53:29.366Z"
   },
   {
    "duration": 0,
    "start_time": "2023-06-16T20:53:29.367Z"
   },
   {
    "duration": 0,
    "start_time": "2023-06-16T20:53:29.369Z"
   },
   {
    "duration": 0,
    "start_time": "2023-06-16T20:53:29.375Z"
   },
   {
    "duration": 3247,
    "start_time": "2023-06-16T20:53:35.366Z"
   },
   {
    "duration": 4,
    "start_time": "2023-06-16T20:53:38.615Z"
   },
   {
    "duration": 13208,
    "start_time": "2023-06-16T20:53:38.621Z"
   },
   {
    "duration": 6,
    "start_time": "2023-06-16T20:53:51.833Z"
   },
   {
    "duration": 567,
    "start_time": "2023-06-16T20:53:51.849Z"
   },
   {
    "duration": 32,
    "start_time": "2023-06-16T20:53:52.420Z"
   },
   {
    "duration": 47,
    "start_time": "2023-06-16T20:53:52.458Z"
   },
   {
    "duration": 39,
    "start_time": "2023-06-16T20:53:52.506Z"
   },
   {
    "duration": 52,
    "start_time": "2023-06-16T20:53:52.551Z"
   },
   {
    "duration": 7,
    "start_time": "2023-06-16T20:53:52.605Z"
   },
   {
    "duration": 25,
    "start_time": "2023-06-16T20:53:52.614Z"
   },
   {
    "duration": 27,
    "start_time": "2023-06-16T20:53:52.640Z"
   },
   {
    "duration": 21,
    "start_time": "2023-06-16T20:53:52.669Z"
   },
   {
    "duration": 16,
    "start_time": "2023-06-16T20:53:52.695Z"
   },
   {
    "duration": 205,
    "start_time": "2023-06-16T20:53:52.713Z"
   },
   {
    "duration": 34,
    "start_time": "2023-06-16T20:53:52.920Z"
   },
   {
    "duration": 37,
    "start_time": "2023-06-16T20:53:52.968Z"
   },
   {
    "duration": 62,
    "start_time": "2023-06-16T20:53:53.007Z"
   },
   {
    "duration": 36,
    "start_time": "2023-06-16T20:53:53.070Z"
   },
   {
    "duration": 30,
    "start_time": "2023-06-16T20:53:53.108Z"
   },
   {
    "duration": 55,
    "start_time": "2023-06-16T20:53:53.140Z"
   },
   {
    "duration": 119,
    "start_time": "2023-06-16T20:53:53.197Z"
   },
   {
    "duration": 13,
    "start_time": "2023-06-16T20:53:53.317Z"
   },
   {
    "duration": 70,
    "start_time": "2023-06-16T20:53:53.336Z"
   },
   {
    "duration": 95,
    "start_time": "2023-06-16T20:53:53.408Z"
   },
   {
    "duration": 12,
    "start_time": "2023-06-16T20:53:53.505Z"
   },
   {
    "duration": 29,
    "start_time": "2023-06-16T20:53:53.518Z"
   },
   {
    "duration": 137,
    "start_time": "2023-06-16T20:53:53.549Z"
   },
   {
    "duration": 60,
    "start_time": "2023-06-16T20:53:53.689Z"
   },
   {
    "duration": 63,
    "start_time": "2023-06-16T20:53:53.759Z"
   },
   {
    "duration": 24,
    "start_time": "2023-06-16T20:53:53.824Z"
   },
   {
    "duration": 64,
    "start_time": "2023-06-16T20:53:53.849Z"
   },
   {
    "duration": 83,
    "start_time": "2023-06-16T20:53:53.914Z"
   },
   {
    "duration": 25,
    "start_time": "2023-06-16T20:53:53.999Z"
   },
   {
    "duration": 92,
    "start_time": "2023-06-16T20:53:54.026Z"
   },
   {
    "duration": 4,
    "start_time": "2023-06-16T20:53:54.120Z"
   },
   {
    "duration": 89,
    "start_time": "2023-06-16T20:53:54.126Z"
   },
   {
    "duration": 3,
    "start_time": "2023-06-16T20:53:54.217Z"
   },
   {
    "duration": 122287,
    "start_time": "2023-06-16T20:53:54.222Z"
   },
   {
    "duration": 3286,
    "start_time": "2023-06-16T20:55:56.511Z"
   },
   {
    "duration": 183,
    "start_time": "2023-06-16T20:55:59.802Z"
   },
   {
    "duration": 202,
    "start_time": "2023-06-16T20:55:59.992Z"
   },
   {
    "duration": 208,
    "start_time": "2023-06-16T20:56:00.197Z"
   },
   {
    "duration": 344,
    "start_time": "2023-06-16T20:56:00.407Z"
   },
   {
    "duration": 30,
    "start_time": "2023-06-16T20:56:00.754Z"
   },
   {
    "duration": 400,
    "start_time": "2023-06-16T20:56:00.788Z"
   },
   {
    "duration": 94931,
    "start_time": "2023-06-16T20:56:01.191Z"
   },
   {
    "duration": 17,
    "start_time": "2023-06-16T20:57:36.124Z"
   },
   {
    "duration": 4966,
    "start_time": "2023-06-16T20:57:36.144Z"
   },
   {
    "duration": 357,
    "start_time": "2023-06-16T20:57:41.112Z"
   },
   {
    "duration": 239,
    "start_time": "2023-06-16T20:57:41.473Z"
   },
   {
    "duration": 293,
    "start_time": "2023-06-16T20:57:41.714Z"
   },
   {
    "duration": 210,
    "start_time": "2023-06-16T20:57:42.009Z"
   },
   {
    "duration": 264,
    "start_time": "2023-06-16T20:57:42.221Z"
   },
   {
    "duration": 178,
    "start_time": "2023-06-16T20:57:42.486Z"
   },
   {
    "duration": 192,
    "start_time": "2023-06-16T20:57:42.666Z"
   },
   {
    "duration": 191,
    "start_time": "2023-06-16T20:57:42.860Z"
   },
   {
    "duration": 198,
    "start_time": "2023-06-16T20:57:43.057Z"
   },
   {
    "duration": 19,
    "start_time": "2023-06-16T20:57:43.264Z"
   },
   {
    "duration": 147,
    "start_time": "2023-06-16T20:57:43.286Z"
   },
   {
    "duration": 43,
    "start_time": "2023-06-16T20:57:43.446Z"
   },
   {
    "duration": 28,
    "start_time": "2023-06-16T20:57:43.491Z"
   },
   {
    "duration": 254,
    "start_time": "2023-06-16T20:57:43.521Z"
   },
   {
    "duration": 45,
    "start_time": "2023-06-16T20:57:43.781Z"
   },
   {
    "duration": 33,
    "start_time": "2023-06-16T20:57:43.827Z"
   },
   {
    "duration": 26,
    "start_time": "2023-06-16T20:57:43.871Z"
   },
   {
    "duration": 30,
    "start_time": "2023-06-16T20:57:43.899Z"
   },
   {
    "duration": 184,
    "start_time": "2023-06-16T20:57:43.930Z"
   },
   {
    "duration": 0,
    "start_time": "2023-06-16T20:57:44.116Z"
   },
   {
    "duration": 0,
    "start_time": "2023-06-16T20:57:44.118Z"
   },
   {
    "duration": 0,
    "start_time": "2023-06-16T20:57:44.119Z"
   },
   {
    "duration": 0,
    "start_time": "2023-06-16T20:57:44.142Z"
   },
   {
    "duration": 0,
    "start_time": "2023-06-16T20:57:44.143Z"
   },
   {
    "duration": 0,
    "start_time": "2023-06-16T20:57:44.144Z"
   },
   {
    "duration": 0,
    "start_time": "2023-06-16T20:57:44.145Z"
   },
   {
    "duration": 0,
    "start_time": "2023-06-16T20:57:44.145Z"
   },
   {
    "duration": 0,
    "start_time": "2023-06-16T20:57:44.146Z"
   },
   {
    "duration": 0,
    "start_time": "2023-06-16T20:57:44.147Z"
   },
   {
    "duration": 0,
    "start_time": "2023-06-16T20:57:44.147Z"
   },
   {
    "duration": 0,
    "start_time": "2023-06-16T20:57:44.148Z"
   },
   {
    "duration": 0,
    "start_time": "2023-06-16T20:57:44.148Z"
   },
   {
    "duration": 0,
    "start_time": "2023-06-16T20:57:44.149Z"
   },
   {
    "duration": 0,
    "start_time": "2023-06-16T20:57:44.149Z"
   },
   {
    "duration": 0,
    "start_time": "2023-06-16T20:57:44.150Z"
   },
   {
    "duration": 0,
    "start_time": "2023-06-16T20:57:44.150Z"
   },
   {
    "duration": 0,
    "start_time": "2023-06-16T20:57:44.155Z"
   },
   {
    "duration": 0,
    "start_time": "2023-06-16T20:57:44.156Z"
   },
   {
    "duration": 0,
    "start_time": "2023-06-16T20:57:44.157Z"
   },
   {
    "duration": 0,
    "start_time": "2023-06-16T20:57:44.158Z"
   },
   {
    "duration": 0,
    "start_time": "2023-06-16T20:57:44.158Z"
   },
   {
    "duration": 0,
    "start_time": "2023-06-16T20:57:44.162Z"
   },
   {
    "duration": 0,
    "start_time": "2023-06-16T20:57:44.163Z"
   },
   {
    "duration": 0,
    "start_time": "2023-06-16T20:57:44.164Z"
   },
   {
    "duration": 0,
    "start_time": "2023-06-16T20:57:44.165Z"
   },
   {
    "duration": 0,
    "start_time": "2023-06-16T20:57:44.166Z"
   },
   {
    "duration": 2536,
    "start_time": "2023-06-16T20:58:49.585Z"
   },
   {
    "duration": 3,
    "start_time": "2023-06-16T20:58:52.123Z"
   },
   {
    "duration": 13336,
    "start_time": "2023-06-16T20:58:52.151Z"
   },
   {
    "duration": 9,
    "start_time": "2023-06-16T20:59:05.497Z"
   },
   {
    "duration": 487,
    "start_time": "2023-06-16T20:59:05.508Z"
   },
   {
    "duration": 18,
    "start_time": "2023-06-16T20:59:05.996Z"
   },
   {
    "duration": 32,
    "start_time": "2023-06-16T20:59:06.015Z"
   },
   {
    "duration": 45,
    "start_time": "2023-06-16T20:59:06.051Z"
   },
   {
    "duration": 25,
    "start_time": "2023-06-16T20:59:06.099Z"
   },
   {
    "duration": 72,
    "start_time": "2023-06-16T20:59:06.126Z"
   },
   {
    "duration": 18,
    "start_time": "2023-06-16T20:59:06.199Z"
   },
   {
    "duration": 26,
    "start_time": "2023-06-16T20:59:06.219Z"
   },
   {
    "duration": 51,
    "start_time": "2023-06-16T20:59:06.247Z"
   },
   {
    "duration": 33,
    "start_time": "2023-06-16T20:59:06.303Z"
   },
   {
    "duration": 221,
    "start_time": "2023-06-16T20:59:06.338Z"
   },
   {
    "duration": 22,
    "start_time": "2023-06-16T20:59:06.561Z"
   },
   {
    "duration": 36,
    "start_time": "2023-06-16T20:59:06.585Z"
   },
   {
    "duration": 81,
    "start_time": "2023-06-16T20:59:06.624Z"
   },
   {
    "duration": 41,
    "start_time": "2023-06-16T20:59:06.707Z"
   },
   {
    "duration": 59,
    "start_time": "2023-06-16T20:59:06.749Z"
   },
   {
    "duration": 25,
    "start_time": "2023-06-16T20:59:06.810Z"
   },
   {
    "duration": 202,
    "start_time": "2023-06-16T20:59:06.836Z"
   },
   {
    "duration": 22,
    "start_time": "2023-06-16T20:59:07.049Z"
   },
   {
    "duration": 37,
    "start_time": "2023-06-16T20:59:07.072Z"
   },
   {
    "duration": 80,
    "start_time": "2023-06-16T20:59:07.111Z"
   },
   {
    "duration": 9,
    "start_time": "2023-06-16T20:59:07.192Z"
   },
   {
    "duration": 15,
    "start_time": "2023-06-16T20:59:07.202Z"
   },
   {
    "duration": 99,
    "start_time": "2023-06-16T20:59:07.218Z"
   },
   {
    "duration": 48,
    "start_time": "2023-06-16T20:59:07.319Z"
   },
   {
    "duration": 61,
    "start_time": "2023-06-16T20:59:07.371Z"
   },
   {
    "duration": 33,
    "start_time": "2023-06-16T20:59:07.436Z"
   },
   {
    "duration": 45,
    "start_time": "2023-06-16T20:59:07.470Z"
   },
   {
    "duration": 40,
    "start_time": "2023-06-16T20:59:07.517Z"
   },
   {
    "duration": 38,
    "start_time": "2023-06-16T20:59:07.566Z"
   },
   {
    "duration": 47,
    "start_time": "2023-06-16T20:59:07.606Z"
   },
   {
    "duration": 5,
    "start_time": "2023-06-16T20:59:07.660Z"
   },
   {
    "duration": 51,
    "start_time": "2023-06-16T20:59:07.667Z"
   },
   {
    "duration": 4,
    "start_time": "2023-06-16T20:59:07.720Z"
   },
   {
    "duration": 2827,
    "start_time": "2023-06-16T20:59:20.986Z"
   },
   {
    "duration": 4,
    "start_time": "2023-06-16T20:59:23.815Z"
   },
   {
    "duration": 12693,
    "start_time": "2023-06-16T20:59:23.821Z"
   },
   {
    "duration": 2,
    "start_time": "2023-06-16T20:59:36.517Z"
   },
   {
    "duration": 629,
    "start_time": "2023-06-16T20:59:36.522Z"
   },
   {
    "duration": 30,
    "start_time": "2023-06-16T20:59:37.168Z"
   },
   {
    "duration": 15,
    "start_time": "2023-06-16T20:59:37.200Z"
   },
   {
    "duration": 24,
    "start_time": "2023-06-16T20:59:37.217Z"
   },
   {
    "duration": 73,
    "start_time": "2023-06-16T20:59:37.243Z"
   },
   {
    "duration": 24,
    "start_time": "2023-06-16T20:59:37.319Z"
   },
   {
    "duration": 68,
    "start_time": "2023-06-16T20:59:37.346Z"
   },
   {
    "duration": 8,
    "start_time": "2023-06-16T20:59:37.416Z"
   },
   {
    "duration": 22,
    "start_time": "2023-06-16T20:59:37.425Z"
   },
   {
    "duration": 60,
    "start_time": "2023-06-16T20:59:37.452Z"
   },
   {
    "duration": 229,
    "start_time": "2023-06-16T20:59:37.515Z"
   },
   {
    "duration": 24,
    "start_time": "2023-06-16T20:59:37.753Z"
   },
   {
    "duration": 37,
    "start_time": "2023-06-16T20:59:37.779Z"
   },
   {
    "duration": 12,
    "start_time": "2023-06-16T20:59:37.818Z"
   },
   {
    "duration": 11,
    "start_time": "2023-06-16T20:59:37.831Z"
   },
   {
    "duration": 63,
    "start_time": "2023-06-16T20:59:37.843Z"
   },
   {
    "duration": 10,
    "start_time": "2023-06-16T20:59:37.908Z"
   },
   {
    "duration": 88,
    "start_time": "2023-06-16T20:59:37.920Z"
   },
   {
    "duration": 13,
    "start_time": "2023-06-16T20:59:38.010Z"
   },
   {
    "duration": 55,
    "start_time": "2023-06-16T20:59:38.025Z"
   },
   {
    "duration": 47,
    "start_time": "2023-06-16T20:59:38.084Z"
   },
   {
    "duration": 27,
    "start_time": "2023-06-16T20:59:38.135Z"
   },
   {
    "duration": 37,
    "start_time": "2023-06-16T20:59:38.164Z"
   },
   {
    "duration": 108,
    "start_time": "2023-06-16T20:59:38.202Z"
   },
   {
    "duration": 40,
    "start_time": "2023-06-16T20:59:38.313Z"
   },
   {
    "duration": 60,
    "start_time": "2023-06-16T20:59:38.355Z"
   },
   {
    "duration": 24,
    "start_time": "2023-06-16T20:59:38.417Z"
   },
   {
    "duration": 47,
    "start_time": "2023-06-16T20:59:38.447Z"
   },
   {
    "duration": 19,
    "start_time": "2023-06-16T20:59:38.496Z"
   },
   {
    "duration": 6,
    "start_time": "2023-06-16T20:59:38.517Z"
   },
   {
    "duration": 50,
    "start_time": "2023-06-16T20:59:38.524Z"
   },
   {
    "duration": 19,
    "start_time": "2023-06-16T20:59:38.575Z"
   },
   {
    "duration": 20,
    "start_time": "2023-06-16T20:59:38.596Z"
   },
   {
    "duration": 3,
    "start_time": "2023-06-16T20:59:38.618Z"
   },
   {
    "duration": 120402,
    "start_time": "2023-06-16T20:59:38.623Z"
   },
   {
    "duration": 3177,
    "start_time": "2023-06-16T21:01:39.027Z"
   },
   {
    "duration": 198,
    "start_time": "2023-06-16T21:01:42.212Z"
   },
   {
    "duration": 172,
    "start_time": "2023-06-16T21:01:42.412Z"
   },
   {
    "duration": 159,
    "start_time": "2023-06-16T21:01:42.586Z"
   },
   {
    "duration": 365,
    "start_time": "2023-06-16T21:01:42.746Z"
   },
   {
    "duration": 51,
    "start_time": "2023-06-16T21:01:43.113Z"
   },
   {
    "duration": 403,
    "start_time": "2023-06-16T21:01:43.171Z"
   },
   {
    "duration": 89765,
    "start_time": "2023-06-16T21:01:43.578Z"
   },
   {
    "duration": 14,
    "start_time": "2023-06-16T21:03:13.353Z"
   },
   {
    "duration": 5148,
    "start_time": "2023-06-16T21:03:13.374Z"
   },
   {
    "duration": 338,
    "start_time": "2023-06-16T21:03:18.531Z"
   },
   {
    "duration": 229,
    "start_time": "2023-06-16T21:03:18.871Z"
   },
   {
    "duration": 260,
    "start_time": "2023-06-16T21:03:19.101Z"
   },
   {
    "duration": 296,
    "start_time": "2023-06-16T21:03:19.363Z"
   },
   {
    "duration": 231,
    "start_time": "2023-06-16T21:03:19.664Z"
   },
   {
    "duration": 186,
    "start_time": "2023-06-16T21:03:19.896Z"
   },
   {
    "duration": 199,
    "start_time": "2023-06-16T21:03:20.085Z"
   },
   {
    "duration": 193,
    "start_time": "2023-06-16T21:03:20.285Z"
   },
   {
    "duration": 205,
    "start_time": "2023-06-16T21:03:20.482Z"
   },
   {
    "duration": 5,
    "start_time": "2023-06-16T21:03:20.690Z"
   },
   {
    "duration": 169,
    "start_time": "2023-06-16T21:03:20.697Z"
   },
   {
    "duration": 36,
    "start_time": "2023-06-16T21:03:20.870Z"
   },
   {
    "duration": 43,
    "start_time": "2023-06-16T21:03:20.908Z"
   },
   {
    "duration": 115,
    "start_time": "2023-06-16T21:03:20.954Z"
   },
   {
    "duration": 46,
    "start_time": "2023-06-16T21:03:21.071Z"
   },
   {
    "duration": 23,
    "start_time": "2023-06-16T21:03:21.118Z"
   },
   {
    "duration": 45,
    "start_time": "2023-06-16T21:03:21.155Z"
   },
   {
    "duration": 37,
    "start_time": "2023-06-16T21:03:21.202Z"
   },
   {
    "duration": 4844,
    "start_time": "2023-06-16T21:03:21.245Z"
   },
   {
    "duration": 4,
    "start_time": "2023-06-16T21:03:26.092Z"
   },
   {
    "duration": 15,
    "start_time": "2023-06-16T21:03:26.098Z"
   },
   {
    "duration": 74,
    "start_time": "2023-06-16T21:03:26.115Z"
   },
   {
    "duration": 167779,
    "start_time": "2023-06-16T21:03:26.191Z"
   },
   {
    "duration": 4,
    "start_time": "2023-06-16T21:06:13.979Z"
   },
   {
    "duration": 23,
    "start_time": "2023-06-16T21:06:13.987Z"
   },
   {
    "duration": 46866,
    "start_time": "2023-06-16T21:06:14.012Z"
   },
   {
    "duration": 3,
    "start_time": "2023-06-16T21:07:00.879Z"
   },
   {
    "duration": 65,
    "start_time": "2023-06-16T21:07:00.884Z"
   },
   {
    "duration": 824,
    "start_time": "2023-06-16T21:07:00.954Z"
   },
   {
    "duration": 205,
    "start_time": "2023-06-16T21:07:01.780Z"
   },
   {
    "duration": 309,
    "start_time": "2023-06-16T21:07:01.987Z"
   },
   {
    "duration": 95,
    "start_time": "2023-06-16T21:07:02.297Z"
   },
   {
    "duration": 77,
    "start_time": "2023-06-16T21:07:02.394Z"
   },
   {
    "duration": 127,
    "start_time": "2023-06-16T21:07:02.472Z"
   },
   {
    "duration": 0,
    "start_time": "2023-06-16T21:07:02.601Z"
   },
   {
    "duration": 0,
    "start_time": "2023-06-16T21:07:02.602Z"
   },
   {
    "duration": 0,
    "start_time": "2023-06-16T21:07:02.603Z"
   },
   {
    "duration": 0,
    "start_time": "2023-06-16T21:07:02.604Z"
   },
   {
    "duration": 0,
    "start_time": "2023-06-16T21:07:02.605Z"
   },
   {
    "duration": 0,
    "start_time": "2023-06-16T21:07:02.606Z"
   },
   {
    "duration": 0,
    "start_time": "2023-06-16T21:07:02.607Z"
   },
   {
    "duration": 0,
    "start_time": "2023-06-16T21:07:02.608Z"
   },
   {
    "duration": 0,
    "start_time": "2023-06-16T21:07:02.609Z"
   },
   {
    "duration": 0,
    "start_time": "2023-06-16T21:07:02.610Z"
   },
   {
    "duration": 0,
    "start_time": "2023-06-16T21:07:02.612Z"
   },
   {
    "duration": 0,
    "start_time": "2023-06-16T21:07:02.613Z"
   },
   {
    "duration": 2358,
    "start_time": "2023-06-16T21:11:59.575Z"
   },
   {
    "duration": 6,
    "start_time": "2023-06-16T21:12:01.936Z"
   },
   {
    "duration": 14181,
    "start_time": "2023-06-16T21:12:01.946Z"
   },
   {
    "duration": 3,
    "start_time": "2023-06-16T21:12:16.128Z"
   },
   {
    "duration": 490,
    "start_time": "2023-06-16T21:12:16.139Z"
   },
   {
    "duration": 25,
    "start_time": "2023-06-16T21:12:16.631Z"
   },
   {
    "duration": 50,
    "start_time": "2023-06-16T21:12:16.658Z"
   },
   {
    "duration": 9,
    "start_time": "2023-06-16T21:12:16.709Z"
   },
   {
    "duration": 16,
    "start_time": "2023-06-16T21:12:16.719Z"
   },
   {
    "duration": 62,
    "start_time": "2023-06-16T21:12:16.752Z"
   },
   {
    "duration": 56,
    "start_time": "2023-06-16T21:12:16.815Z"
   },
   {
    "duration": 25,
    "start_time": "2023-06-16T21:12:16.873Z"
   },
   {
    "duration": 9,
    "start_time": "2023-06-16T21:12:16.900Z"
   },
   {
    "duration": 22,
    "start_time": "2023-06-16T21:12:16.912Z"
   },
   {
    "duration": 191,
    "start_time": "2023-06-16T21:12:16.938Z"
   },
   {
    "duration": 30,
    "start_time": "2023-06-16T21:12:17.131Z"
   },
   {
    "duration": 41,
    "start_time": "2023-06-16T21:12:17.163Z"
   },
   {
    "duration": 12,
    "start_time": "2023-06-16T21:12:17.205Z"
   },
   {
    "duration": 21,
    "start_time": "2023-06-16T21:12:17.218Z"
   },
   {
    "duration": 50,
    "start_time": "2023-06-16T21:12:17.243Z"
   },
   {
    "duration": 13,
    "start_time": "2023-06-16T21:12:17.295Z"
   },
   {
    "duration": 88,
    "start_time": "2023-06-16T21:12:17.309Z"
   },
   {
    "duration": 13,
    "start_time": "2023-06-16T21:12:17.399Z"
   },
   {
    "duration": 16,
    "start_time": "2023-06-16T21:12:17.414Z"
   },
   {
    "duration": 95,
    "start_time": "2023-06-16T21:12:17.431Z"
   },
   {
    "duration": 41,
    "start_time": "2023-06-16T21:12:17.528Z"
   },
   {
    "duration": 32,
    "start_time": "2023-06-16T21:12:17.571Z"
   },
   {
    "duration": 102,
    "start_time": "2023-06-16T21:12:17.605Z"
   },
   {
    "duration": 52,
    "start_time": "2023-06-16T21:12:17.709Z"
   },
   {
    "duration": 53,
    "start_time": "2023-06-16T21:12:17.773Z"
   },
   {
    "duration": 51,
    "start_time": "2023-06-16T21:12:17.827Z"
   },
   {
    "duration": 25,
    "start_time": "2023-06-16T21:12:17.881Z"
   },
   {
    "duration": 24,
    "start_time": "2023-06-16T21:12:17.908Z"
   },
   {
    "duration": 53,
    "start_time": "2023-06-16T21:12:17.934Z"
   },
   {
    "duration": 30,
    "start_time": "2023-06-16T21:12:17.989Z"
   },
   {
    "duration": 4,
    "start_time": "2023-06-16T21:12:18.020Z"
   },
   {
    "duration": 75,
    "start_time": "2023-06-16T21:12:18.026Z"
   },
   {
    "duration": 16,
    "start_time": "2023-06-16T21:12:18.102Z"
   },
   {
    "duration": 122172,
    "start_time": "2023-06-16T21:12:18.120Z"
   },
   {
    "duration": 4196,
    "start_time": "2023-06-16T21:14:20.296Z"
   },
   {
    "duration": 209,
    "start_time": "2023-06-16T21:14:24.499Z"
   },
   {
    "duration": 226,
    "start_time": "2023-06-16T21:14:24.711Z"
   },
   {
    "duration": 498,
    "start_time": "2023-06-16T21:14:24.939Z"
   },
   {
    "duration": 672,
    "start_time": "2023-06-16T21:14:25.439Z"
   },
   {
    "duration": 70,
    "start_time": "2023-06-16T21:14:26.113Z"
   },
   {
    "duration": 453,
    "start_time": "2023-06-16T21:14:26.185Z"
   },
   {
    "duration": 89254,
    "start_time": "2023-06-16T21:14:26.641Z"
   },
   {
    "duration": 4,
    "start_time": "2023-06-16T21:15:55.897Z"
   },
   {
    "duration": 4612,
    "start_time": "2023-06-16T21:15:55.903Z"
   },
   {
    "duration": 337,
    "start_time": "2023-06-16T21:16:00.516Z"
   },
   {
    "duration": 242,
    "start_time": "2023-06-16T21:16:00.862Z"
   },
   {
    "duration": 275,
    "start_time": "2023-06-16T21:16:01.105Z"
   },
   {
    "duration": 298,
    "start_time": "2023-06-16T21:16:01.381Z"
   },
   {
    "duration": 238,
    "start_time": "2023-06-16T21:16:01.684Z"
   },
   {
    "duration": 198,
    "start_time": "2023-06-16T21:16:01.924Z"
   },
   {
    "duration": 217,
    "start_time": "2023-06-16T21:16:02.123Z"
   },
   {
    "duration": 230,
    "start_time": "2023-06-16T21:16:02.342Z"
   },
   {
    "duration": 174,
    "start_time": "2023-06-16T21:16:02.574Z"
   },
   {
    "duration": 6,
    "start_time": "2023-06-16T21:16:02.750Z"
   },
   {
    "duration": 166,
    "start_time": "2023-06-16T21:16:02.764Z"
   },
   {
    "duration": 53,
    "start_time": "2023-06-16T21:16:02.932Z"
   },
   {
    "duration": 20,
    "start_time": "2023-06-16T21:16:02.990Z"
   },
   {
    "duration": 89,
    "start_time": "2023-06-16T21:16:03.012Z"
   },
   {
    "duration": 65,
    "start_time": "2023-06-16T21:16:03.102Z"
   },
   {
    "duration": 25,
    "start_time": "2023-06-16T21:16:03.169Z"
   },
   {
    "duration": 59,
    "start_time": "2023-06-16T21:16:03.196Z"
   },
   {
    "duration": 61,
    "start_time": "2023-06-16T21:16:03.260Z"
   },
   {
    "duration": 4402,
    "start_time": "2023-06-16T21:16:03.323Z"
   },
   {
    "duration": 7,
    "start_time": "2023-06-16T21:16:07.737Z"
   },
   {
    "duration": 43,
    "start_time": "2023-06-16T21:16:07.751Z"
   },
   {
    "duration": 13,
    "start_time": "2023-06-16T21:16:07.796Z"
   },
   {
    "duration": 69832,
    "start_time": "2023-06-16T21:16:07.811Z"
   },
   {
    "duration": 16,
    "start_time": "2023-06-16T21:17:17.646Z"
   },
   {
    "duration": 39,
    "start_time": "2023-06-16T21:17:17.664Z"
   },
   {
    "duration": 49909,
    "start_time": "2023-06-16T21:17:17.704Z"
   },
   {
    "duration": 3,
    "start_time": "2023-06-16T21:18:07.614Z"
   },
   {
    "duration": 52,
    "start_time": "2023-06-16T21:18:07.619Z"
   },
   {
    "duration": 17,
    "start_time": "2023-06-16T21:18:07.679Z"
   },
   {
    "duration": 17,
    "start_time": "2023-06-16T21:18:07.697Z"
   },
   {
    "duration": 8,
    "start_time": "2023-06-16T21:18:07.716Z"
   },
   {
    "duration": 62,
    "start_time": "2023-06-16T21:18:07.725Z"
   },
   {
    "duration": 9,
    "start_time": "2023-06-16T21:18:07.788Z"
   },
   {
    "duration": 7,
    "start_time": "2023-06-16T21:18:07.799Z"
   },
   {
    "duration": 18,
    "start_time": "2023-06-16T21:18:07.808Z"
   },
   {
    "duration": 117,
    "start_time": "2023-06-16T21:18:07.828Z"
   },
   {
    "duration": 12,
    "start_time": "2023-06-16T21:18:07.950Z"
   },
   {
    "duration": 31,
    "start_time": "2023-06-16T21:18:07.964Z"
   },
   {
    "duration": 24,
    "start_time": "2023-06-16T21:18:07.997Z"
   },
   {
    "duration": 8,
    "start_time": "2023-06-16T21:18:08.023Z"
   },
   {
    "duration": 177,
    "start_time": "2023-06-16T21:18:08.046Z"
   },
   {
    "duration": 0,
    "start_time": "2023-06-16T21:18:08.225Z"
   },
   {
    "duration": 0,
    "start_time": "2023-06-16T21:18:08.226Z"
   },
   {
    "duration": 0,
    "start_time": "2023-06-16T21:18:08.227Z"
   },
   {
    "duration": 0,
    "start_time": "2023-06-16T21:18:08.237Z"
   },
   {
    "duration": 14,
    "start_time": "2023-06-17T22:17:30.582Z"
   },
   {
    "duration": 45,
    "start_time": "2023-06-18T04:39:49.807Z"
   },
   {
    "duration": 1683,
    "start_time": "2023-06-18T04:40:15.104Z"
   },
   {
    "duration": 0,
    "start_time": "2023-06-18T04:40:16.792Z"
   },
   {
    "duration": 0,
    "start_time": "2023-06-18T04:40:16.793Z"
   },
   {
    "duration": 0,
    "start_time": "2023-06-18T04:40:16.794Z"
   },
   {
    "duration": 0,
    "start_time": "2023-06-18T04:40:16.795Z"
   },
   {
    "duration": 0,
    "start_time": "2023-06-18T04:40:16.796Z"
   },
   {
    "duration": 0,
    "start_time": "2023-06-18T04:40:16.797Z"
   },
   {
    "duration": 0,
    "start_time": "2023-06-18T04:40:16.798Z"
   },
   {
    "duration": 0,
    "start_time": "2023-06-18T04:40:16.799Z"
   },
   {
    "duration": 0,
    "start_time": "2023-06-18T04:40:16.800Z"
   },
   {
    "duration": 0,
    "start_time": "2023-06-18T04:40:16.801Z"
   },
   {
    "duration": 0,
    "start_time": "2023-06-18T04:40:16.802Z"
   },
   {
    "duration": 0,
    "start_time": "2023-06-18T04:40:16.803Z"
   },
   {
    "duration": 0,
    "start_time": "2023-06-18T04:40:16.804Z"
   },
   {
    "duration": 0,
    "start_time": "2023-06-18T04:40:16.805Z"
   },
   {
    "duration": 0,
    "start_time": "2023-06-18T04:40:16.806Z"
   },
   {
    "duration": 0,
    "start_time": "2023-06-18T04:40:16.832Z"
   },
   {
    "duration": 0,
    "start_time": "2023-06-18T04:40:16.833Z"
   },
   {
    "duration": 0,
    "start_time": "2023-06-18T04:40:16.834Z"
   },
   {
    "duration": 0,
    "start_time": "2023-06-18T04:40:16.835Z"
   },
   {
    "duration": 0,
    "start_time": "2023-06-18T04:40:16.836Z"
   },
   {
    "duration": 0,
    "start_time": "2023-06-18T04:40:16.837Z"
   },
   {
    "duration": 0,
    "start_time": "2023-06-18T04:40:16.837Z"
   },
   {
    "duration": 0,
    "start_time": "2023-06-18T04:40:16.839Z"
   },
   {
    "duration": 0,
    "start_time": "2023-06-18T04:40:16.840Z"
   },
   {
    "duration": 1,
    "start_time": "2023-06-18T04:40:16.840Z"
   },
   {
    "duration": 0,
    "start_time": "2023-06-18T04:40:16.841Z"
   },
   {
    "duration": 0,
    "start_time": "2023-06-18T04:40:16.842Z"
   },
   {
    "duration": 0,
    "start_time": "2023-06-18T04:40:16.843Z"
   },
   {
    "duration": 0,
    "start_time": "2023-06-18T04:40:16.844Z"
   },
   {
    "duration": 0,
    "start_time": "2023-06-18T04:40:16.845Z"
   },
   {
    "duration": 1,
    "start_time": "2023-06-18T04:40:16.845Z"
   },
   {
    "duration": 0,
    "start_time": "2023-06-18T04:40:16.846Z"
   },
   {
    "duration": 0,
    "start_time": "2023-06-18T04:40:16.848Z"
   },
   {
    "duration": 0,
    "start_time": "2023-06-18T04:40:16.848Z"
   },
   {
    "duration": 0,
    "start_time": "2023-06-18T04:40:16.850Z"
   },
   {
    "duration": 0,
    "start_time": "2023-06-18T04:40:16.850Z"
   },
   {
    "duration": 0,
    "start_time": "2023-06-18T04:40:16.851Z"
   },
   {
    "duration": 0,
    "start_time": "2023-06-18T04:40:16.852Z"
   },
   {
    "duration": 0,
    "start_time": "2023-06-18T04:40:16.854Z"
   },
   {
    "duration": 0,
    "start_time": "2023-06-18T04:40:16.855Z"
   },
   {
    "duration": 0,
    "start_time": "2023-06-18T04:40:16.855Z"
   },
   {
    "duration": 0,
    "start_time": "2023-06-18T04:40:16.856Z"
   },
   {
    "duration": 0,
    "start_time": "2023-06-18T04:40:16.857Z"
   },
   {
    "duration": 0,
    "start_time": "2023-06-18T04:40:16.859Z"
   },
   {
    "duration": 0,
    "start_time": "2023-06-18T04:40:16.859Z"
   },
   {
    "duration": 0,
    "start_time": "2023-06-18T04:40:16.860Z"
   },
   {
    "duration": 0,
    "start_time": "2023-06-18T04:40:16.862Z"
   },
   {
    "duration": 0,
    "start_time": "2023-06-18T04:40:16.863Z"
   },
   {
    "duration": 0,
    "start_time": "2023-06-18T04:40:16.864Z"
   },
   {
    "duration": 0,
    "start_time": "2023-06-18T04:40:16.865Z"
   },
   {
    "duration": 0,
    "start_time": "2023-06-18T04:40:16.866Z"
   },
   {
    "duration": 0,
    "start_time": "2023-06-18T04:40:16.867Z"
   },
   {
    "duration": 0,
    "start_time": "2023-06-18T04:40:16.868Z"
   },
   {
    "duration": 0,
    "start_time": "2023-06-18T04:40:16.932Z"
   },
   {
    "duration": 0,
    "start_time": "2023-06-18T04:40:16.933Z"
   },
   {
    "duration": 0,
    "start_time": "2023-06-18T04:40:16.934Z"
   },
   {
    "duration": 0,
    "start_time": "2023-06-18T04:40:16.935Z"
   },
   {
    "duration": 0,
    "start_time": "2023-06-18T04:40:16.936Z"
   },
   {
    "duration": 0,
    "start_time": "2023-06-18T04:40:16.937Z"
   },
   {
    "duration": 0,
    "start_time": "2023-06-18T04:40:16.938Z"
   },
   {
    "duration": 0,
    "start_time": "2023-06-18T04:40:16.939Z"
   },
   {
    "duration": 0,
    "start_time": "2023-06-18T04:40:16.940Z"
   },
   {
    "duration": 0,
    "start_time": "2023-06-18T04:40:16.941Z"
   },
   {
    "duration": 0,
    "start_time": "2023-06-18T04:40:16.942Z"
   },
   {
    "duration": 0,
    "start_time": "2023-06-18T04:40:16.943Z"
   },
   {
    "duration": 0,
    "start_time": "2023-06-18T04:40:16.944Z"
   },
   {
    "duration": 0,
    "start_time": "2023-06-18T04:40:16.945Z"
   },
   {
    "duration": 0,
    "start_time": "2023-06-18T04:40:16.946Z"
   },
   {
    "duration": 0,
    "start_time": "2023-06-18T04:40:16.947Z"
   },
   {
    "duration": 0,
    "start_time": "2023-06-18T04:40:16.948Z"
   },
   {
    "duration": 0,
    "start_time": "2023-06-18T04:40:16.949Z"
   },
   {
    "duration": 0,
    "start_time": "2023-06-18T04:40:16.950Z"
   },
   {
    "duration": 0,
    "start_time": "2023-06-18T04:40:16.950Z"
   },
   {
    "duration": 0,
    "start_time": "2023-06-18T04:40:16.951Z"
   },
   {
    "duration": 0,
    "start_time": "2023-06-18T04:40:16.952Z"
   },
   {
    "duration": 0,
    "start_time": "2023-06-18T04:40:16.953Z"
   },
   {
    "duration": 0,
    "start_time": "2023-06-18T04:40:16.954Z"
   },
   {
    "duration": 0,
    "start_time": "2023-06-18T04:40:16.955Z"
   },
   {
    "duration": 0,
    "start_time": "2023-06-18T04:40:16.957Z"
   },
   {
    "duration": 1,
    "start_time": "2023-06-18T04:40:16.957Z"
   },
   {
    "duration": 0,
    "start_time": "2023-06-18T04:40:16.959Z"
   },
   {
    "duration": 0,
    "start_time": "2023-06-18T04:40:16.960Z"
   },
   {
    "duration": 0,
    "start_time": "2023-06-18T04:40:16.961Z"
   },
   {
    "duration": 0,
    "start_time": "2023-06-18T04:40:16.961Z"
   },
   {
    "duration": 0,
    "start_time": "2023-06-18T04:40:16.962Z"
   },
   {
    "duration": 0,
    "start_time": "2023-06-18T04:40:16.963Z"
   },
   {
    "duration": 0,
    "start_time": "2023-06-18T04:40:16.964Z"
   },
   {
    "duration": 0,
    "start_time": "2023-06-18T04:40:16.965Z"
   },
   {
    "duration": 0,
    "start_time": "2023-06-18T04:40:16.966Z"
   },
   {
    "duration": 0,
    "start_time": "2023-06-18T04:40:16.967Z"
   },
   {
    "duration": 0,
    "start_time": "2023-06-18T04:40:16.968Z"
   },
   {
    "duration": 0,
    "start_time": "2023-06-18T04:40:17.032Z"
   },
   {
    "duration": 0,
    "start_time": "2023-06-18T04:40:17.033Z"
   },
   {
    "duration": 0,
    "start_time": "2023-06-18T04:40:17.034Z"
   },
   {
    "duration": 1681,
    "start_time": "2023-06-18T04:40:55.385Z"
   },
   {
    "duration": 0,
    "start_time": "2023-06-18T04:40:57.071Z"
   },
   {
    "duration": 0,
    "start_time": "2023-06-18T04:40:57.072Z"
   },
   {
    "duration": 0,
    "start_time": "2023-06-18T04:40:57.073Z"
   },
   {
    "duration": 0,
    "start_time": "2023-06-18T04:40:57.074Z"
   },
   {
    "duration": 0,
    "start_time": "2023-06-18T04:40:57.075Z"
   },
   {
    "duration": 0,
    "start_time": "2023-06-18T04:40:57.076Z"
   },
   {
    "duration": 0,
    "start_time": "2023-06-18T04:40:57.077Z"
   },
   {
    "duration": 0,
    "start_time": "2023-06-18T04:40:57.078Z"
   },
   {
    "duration": 0,
    "start_time": "2023-06-18T04:40:57.079Z"
   },
   {
    "duration": 0,
    "start_time": "2023-06-18T04:40:57.080Z"
   },
   {
    "duration": 0,
    "start_time": "2023-06-18T04:40:57.081Z"
   },
   {
    "duration": 0,
    "start_time": "2023-06-18T04:40:57.082Z"
   },
   {
    "duration": 0,
    "start_time": "2023-06-18T04:40:57.083Z"
   },
   {
    "duration": 0,
    "start_time": "2023-06-18T04:40:57.083Z"
   },
   {
    "duration": 0,
    "start_time": "2023-06-18T04:40:57.084Z"
   },
   {
    "duration": 0,
    "start_time": "2023-06-18T04:40:57.085Z"
   },
   {
    "duration": 0,
    "start_time": "2023-06-18T04:40:57.086Z"
   },
   {
    "duration": 0,
    "start_time": "2023-06-18T04:40:57.087Z"
   },
   {
    "duration": 0,
    "start_time": "2023-06-18T04:40:57.088Z"
   },
   {
    "duration": 0,
    "start_time": "2023-06-18T04:40:57.089Z"
   },
   {
    "duration": 0,
    "start_time": "2023-06-18T04:40:57.090Z"
   },
   {
    "duration": 0,
    "start_time": "2023-06-18T04:40:57.091Z"
   },
   {
    "duration": 0,
    "start_time": "2023-06-18T04:40:57.092Z"
   },
   {
    "duration": 0,
    "start_time": "2023-06-18T04:40:57.092Z"
   },
   {
    "duration": 0,
    "start_time": "2023-06-18T04:40:57.132Z"
   },
   {
    "duration": 0,
    "start_time": "2023-06-18T04:40:57.133Z"
   },
   {
    "duration": 0,
    "start_time": "2023-06-18T04:40:57.133Z"
   },
   {
    "duration": 0,
    "start_time": "2023-06-18T04:40:57.134Z"
   },
   {
    "duration": 0,
    "start_time": "2023-06-18T04:40:57.135Z"
   },
   {
    "duration": 0,
    "start_time": "2023-06-18T04:40:57.136Z"
   },
   {
    "duration": 0,
    "start_time": "2023-06-18T04:40:57.137Z"
   },
   {
    "duration": 0,
    "start_time": "2023-06-18T04:40:57.138Z"
   },
   {
    "duration": 0,
    "start_time": "2023-06-18T04:40:57.139Z"
   },
   {
    "duration": 0,
    "start_time": "2023-06-18T04:40:57.140Z"
   },
   {
    "duration": 0,
    "start_time": "2023-06-18T04:40:57.141Z"
   },
   {
    "duration": 0,
    "start_time": "2023-06-18T04:40:57.141Z"
   },
   {
    "duration": 0,
    "start_time": "2023-06-18T04:40:57.142Z"
   },
   {
    "duration": 0,
    "start_time": "2023-06-18T04:40:57.143Z"
   },
   {
    "duration": 0,
    "start_time": "2023-06-18T04:40:57.144Z"
   },
   {
    "duration": 0,
    "start_time": "2023-06-18T04:40:57.145Z"
   },
   {
    "duration": 0,
    "start_time": "2023-06-18T04:40:57.146Z"
   },
   {
    "duration": 0,
    "start_time": "2023-06-18T04:40:57.147Z"
   },
   {
    "duration": 0,
    "start_time": "2023-06-18T04:40:57.148Z"
   },
   {
    "duration": 0,
    "start_time": "2023-06-18T04:40:57.148Z"
   },
   {
    "duration": 0,
    "start_time": "2023-06-18T04:40:57.149Z"
   },
   {
    "duration": 0,
    "start_time": "2023-06-18T04:40:57.151Z"
   },
   {
    "duration": 0,
    "start_time": "2023-06-18T04:40:57.151Z"
   },
   {
    "duration": 0,
    "start_time": "2023-06-18T04:40:57.153Z"
   },
   {
    "duration": 0,
    "start_time": "2023-06-18T04:40:57.154Z"
   },
   {
    "duration": 0,
    "start_time": "2023-06-18T04:40:57.155Z"
   },
   {
    "duration": 0,
    "start_time": "2023-06-18T04:40:57.156Z"
   },
   {
    "duration": 0,
    "start_time": "2023-06-18T04:40:57.157Z"
   },
   {
    "duration": 0,
    "start_time": "2023-06-18T04:40:57.158Z"
   },
   {
    "duration": 0,
    "start_time": "2023-06-18T04:40:57.160Z"
   },
   {
    "duration": 0,
    "start_time": "2023-06-18T04:40:57.161Z"
   },
   {
    "duration": 0,
    "start_time": "2023-06-18T04:40:57.162Z"
   },
   {
    "duration": 0,
    "start_time": "2023-06-18T04:40:57.163Z"
   },
   {
    "duration": 0,
    "start_time": "2023-06-18T04:40:57.165Z"
   },
   {
    "duration": 0,
    "start_time": "2023-06-18T04:40:57.166Z"
   },
   {
    "duration": 0,
    "start_time": "2023-06-18T04:40:57.167Z"
   },
   {
    "duration": 0,
    "start_time": "2023-06-18T04:40:57.168Z"
   },
   {
    "duration": 0,
    "start_time": "2023-06-18T04:40:57.170Z"
   },
   {
    "duration": 0,
    "start_time": "2023-06-18T04:40:57.231Z"
   },
   {
    "duration": 0,
    "start_time": "2023-06-18T04:40:57.232Z"
   },
   {
    "duration": 0,
    "start_time": "2023-06-18T04:40:57.234Z"
   },
   {
    "duration": 0,
    "start_time": "2023-06-18T04:40:57.235Z"
   },
   {
    "duration": 0,
    "start_time": "2023-06-18T04:40:57.236Z"
   },
   {
    "duration": 0,
    "start_time": "2023-06-18T04:40:57.238Z"
   },
   {
    "duration": 0,
    "start_time": "2023-06-18T04:40:57.239Z"
   },
   {
    "duration": 0,
    "start_time": "2023-06-18T04:40:57.241Z"
   },
   {
    "duration": 0,
    "start_time": "2023-06-18T04:40:57.241Z"
   },
   {
    "duration": 0,
    "start_time": "2023-06-18T04:40:57.243Z"
   },
   {
    "duration": 0,
    "start_time": "2023-06-18T04:40:57.244Z"
   },
   {
    "duration": 0,
    "start_time": "2023-06-18T04:40:57.245Z"
   },
   {
    "duration": 0,
    "start_time": "2023-06-18T04:40:57.247Z"
   },
   {
    "duration": 0,
    "start_time": "2023-06-18T04:40:57.248Z"
   },
   {
    "duration": 0,
    "start_time": "2023-06-18T04:40:57.249Z"
   },
   {
    "duration": 0,
    "start_time": "2023-06-18T04:40:57.250Z"
   },
   {
    "duration": 0,
    "start_time": "2023-06-18T04:40:57.252Z"
   },
   {
    "duration": 0,
    "start_time": "2023-06-18T04:40:57.253Z"
   },
   {
    "duration": 0,
    "start_time": "2023-06-18T04:40:57.254Z"
   },
   {
    "duration": 0,
    "start_time": "2023-06-18T04:40:57.256Z"
   },
   {
    "duration": 0,
    "start_time": "2023-06-18T04:40:57.257Z"
   },
   {
    "duration": 0,
    "start_time": "2023-06-18T04:40:57.258Z"
   },
   {
    "duration": 0,
    "start_time": "2023-06-18T04:40:57.259Z"
   },
   {
    "duration": 0,
    "start_time": "2023-06-18T04:40:57.260Z"
   },
   {
    "duration": 0,
    "start_time": "2023-06-18T04:40:57.262Z"
   },
   {
    "duration": 0,
    "start_time": "2023-06-18T04:40:57.263Z"
   },
   {
    "duration": 0,
    "start_time": "2023-06-18T04:40:57.264Z"
   },
   {
    "duration": 0,
    "start_time": "2023-06-18T04:40:57.266Z"
   },
   {
    "duration": 0,
    "start_time": "2023-06-18T04:40:57.267Z"
   },
   {
    "duration": 0,
    "start_time": "2023-06-18T04:40:57.268Z"
   },
   {
    "duration": 0,
    "start_time": "2023-06-18T04:40:57.270Z"
   },
   {
    "duration": 0,
    "start_time": "2023-06-18T04:40:57.271Z"
   },
   {
    "duration": 3435,
    "start_time": "2023-06-18T04:41:55.493Z"
   },
   {
    "duration": 1954,
    "start_time": "2023-06-18T04:41:58.930Z"
   },
   {
    "duration": 4,
    "start_time": "2023-06-18T04:42:00.885Z"
   },
   {
    "duration": 16778,
    "start_time": "2023-06-18T04:42:00.890Z"
   },
   {
    "duration": 2,
    "start_time": "2023-06-18T04:42:17.670Z"
   },
   {
    "duration": 315,
    "start_time": "2023-06-18T04:42:17.674Z"
   },
   {
    "duration": 18,
    "start_time": "2023-06-18T04:42:17.990Z"
   },
   {
    "duration": 13,
    "start_time": "2023-06-18T04:42:18.010Z"
   },
   {
    "duration": 28,
    "start_time": "2023-06-18T04:42:18.024Z"
   },
   {
    "duration": 12,
    "start_time": "2023-06-18T04:42:18.055Z"
   },
   {
    "duration": 18,
    "start_time": "2023-06-18T04:42:18.068Z"
   },
   {
    "duration": 28,
    "start_time": "2023-06-18T04:42:18.087Z"
   },
   {
    "duration": 14,
    "start_time": "2023-06-18T04:42:18.116Z"
   },
   {
    "duration": 11,
    "start_time": "2023-06-18T04:42:18.131Z"
   },
   {
    "duration": 24,
    "start_time": "2023-06-18T04:42:18.143Z"
   },
   {
    "duration": 139,
    "start_time": "2023-06-18T04:42:18.168Z"
   },
   {
    "duration": 10,
    "start_time": "2023-06-18T04:42:18.309Z"
   },
   {
    "duration": 25,
    "start_time": "2023-06-18T04:42:18.321Z"
   },
   {
    "duration": 19,
    "start_time": "2023-06-18T04:42:18.348Z"
   },
   {
    "duration": 11,
    "start_time": "2023-06-18T04:42:18.368Z"
   },
   {
    "duration": 24,
    "start_time": "2023-06-18T04:42:18.380Z"
   },
   {
    "duration": 11,
    "start_time": "2023-06-18T04:42:18.406Z"
   },
   {
    "duration": 69,
    "start_time": "2023-06-18T04:42:18.419Z"
   },
   {
    "duration": 12,
    "start_time": "2023-06-18T04:42:18.490Z"
   },
   {
    "duration": 14,
    "start_time": "2023-06-18T04:42:18.503Z"
   },
   {
    "duration": 44,
    "start_time": "2023-06-18T04:42:18.518Z"
   },
   {
    "duration": 8,
    "start_time": "2023-06-18T04:42:18.563Z"
   },
   {
    "duration": 10,
    "start_time": "2023-06-18T04:42:18.575Z"
   },
   {
    "duration": 54,
    "start_time": "2023-06-18T04:42:18.586Z"
   },
   {
    "duration": 30,
    "start_time": "2023-06-18T04:42:18.641Z"
   },
   {
    "duration": 41,
    "start_time": "2023-06-18T04:42:18.673Z"
   },
   {
    "duration": 17,
    "start_time": "2023-06-18T04:42:18.731Z"
   },
   {
    "duration": 14,
    "start_time": "2023-06-18T04:42:18.750Z"
   },
   {
    "duration": 27,
    "start_time": "2023-06-18T04:42:18.766Z"
   },
   {
    "duration": 5,
    "start_time": "2023-06-18T04:42:18.795Z"
   },
   {
    "duration": 45,
    "start_time": "2023-06-18T04:42:18.802Z"
   },
   {
    "duration": 4,
    "start_time": "2023-06-18T04:42:18.848Z"
   },
   {
    "duration": 25,
    "start_time": "2023-06-18T04:42:18.854Z"
   },
   {
    "duration": 9,
    "start_time": "2023-06-18T04:42:18.880Z"
   },
   {
    "duration": 93251,
    "start_time": "2023-06-18T04:42:18.890Z"
   },
   {
    "duration": 2098,
    "start_time": "2023-06-18T04:43:52.142Z"
   },
   {
    "duration": 137,
    "start_time": "2023-06-18T04:43:54.242Z"
   },
   {
    "duration": 121,
    "start_time": "2023-06-18T04:43:54.381Z"
   },
   {
    "duration": 171,
    "start_time": "2023-06-18T04:43:54.503Z"
   },
   {
    "duration": 240,
    "start_time": "2023-06-18T04:43:54.676Z"
   },
   {
    "duration": 26,
    "start_time": "2023-06-18T04:43:54.917Z"
   },
   {
    "duration": 131,
    "start_time": "2023-06-18T04:43:54.944Z"
   },
   {
    "duration": 69767,
    "start_time": "2023-06-18T04:43:55.077Z"
   },
   {
    "duration": 5,
    "start_time": "2023-06-18T04:45:04.845Z"
   },
   {
    "duration": 3663,
    "start_time": "2023-06-18T04:45:04.851Z"
   },
   {
    "duration": 269,
    "start_time": "2023-06-18T04:45:08.516Z"
   },
   {
    "duration": 188,
    "start_time": "2023-06-18T04:45:08.787Z"
   },
   {
    "duration": 204,
    "start_time": "2023-06-18T04:45:08.976Z"
   },
   {
    "duration": 124,
    "start_time": "2023-06-18T04:45:09.182Z"
   },
   {
    "duration": 172,
    "start_time": "2023-06-18T04:45:09.307Z"
   },
   {
    "duration": 151,
    "start_time": "2023-06-18T04:45:09.480Z"
   },
   {
    "duration": 149,
    "start_time": "2023-06-18T04:45:09.633Z"
   },
   {
    "duration": 267,
    "start_time": "2023-06-18T04:45:09.783Z"
   },
   {
    "duration": 147,
    "start_time": "2023-06-18T04:45:10.052Z"
   },
   {
    "duration": 4,
    "start_time": "2023-06-18T04:45:10.201Z"
   },
   {
    "duration": 120,
    "start_time": "2023-06-18T04:45:10.207Z"
   },
   {
    "duration": 27,
    "start_time": "2023-06-18T04:45:10.329Z"
   },
   {
    "duration": 8,
    "start_time": "2023-06-18T04:45:10.357Z"
   },
   {
    "duration": 74,
    "start_time": "2023-06-18T04:45:10.366Z"
   },
   {
    "duration": 37,
    "start_time": "2023-06-18T04:45:10.442Z"
   },
   {
    "duration": 14,
    "start_time": "2023-06-18T04:45:10.481Z"
   },
   {
    "duration": 38,
    "start_time": "2023-06-18T04:45:10.496Z"
   },
   {
    "duration": 43,
    "start_time": "2023-06-18T04:45:10.536Z"
   },
   {
    "duration": 3553,
    "start_time": "2023-06-18T04:45:10.581Z"
   },
   {
    "duration": 5,
    "start_time": "2023-06-18T04:45:14.136Z"
   },
   {
    "duration": 24,
    "start_time": "2023-06-18T04:45:14.143Z"
   },
   {
    "duration": 26,
    "start_time": "2023-06-18T04:45:14.168Z"
   },
   {
    "duration": 1850,
    "start_time": "2023-06-18T04:45:14.196Z"
   },
   {
    "duration": 3,
    "start_time": "2023-06-18T04:45:16.132Z"
   },
   {
    "duration": 13,
    "start_time": "2023-06-18T04:45:16.136Z"
   },
   {
    "duration": 51449,
    "start_time": "2023-06-18T04:45:16.150Z"
   },
   {
    "duration": 3,
    "start_time": "2023-06-18T04:46:07.600Z"
   },
   {
    "duration": 14,
    "start_time": "2023-06-18T04:46:07.605Z"
   },
   {
    "duration": 44,
    "start_time": "2023-06-18T04:46:07.621Z"
   },
   {
    "duration": 9,
    "start_time": "2023-06-18T04:46:07.667Z"
   },
   {
    "duration": 13,
    "start_time": "2023-06-18T04:46:07.677Z"
   },
   {
    "duration": 17,
    "start_time": "2023-06-18T04:46:07.695Z"
   },
   {
    "duration": 7,
    "start_time": "2023-06-18T04:46:07.713Z"
   },
   {
    "duration": 11,
    "start_time": "2023-06-18T04:46:07.722Z"
   },
   {
    "duration": 180,
    "start_time": "2023-06-18T04:46:07.735Z"
   },
   {
    "duration": 0,
    "start_time": "2023-06-18T04:46:07.917Z"
   },
   {
    "duration": 0,
    "start_time": "2023-06-18T04:46:07.918Z"
   },
   {
    "duration": 0,
    "start_time": "2023-06-18T04:46:07.919Z"
   },
   {
    "duration": 0,
    "start_time": "2023-06-18T04:46:07.919Z"
   },
   {
    "duration": 0,
    "start_time": "2023-06-18T04:46:07.920Z"
   },
   {
    "duration": 0,
    "start_time": "2023-06-18T04:46:07.921Z"
   },
   {
    "duration": 0,
    "start_time": "2023-06-18T04:46:07.922Z"
   },
   {
    "duration": 0,
    "start_time": "2023-06-18T04:46:07.931Z"
   },
   {
    "duration": 0,
    "start_time": "2023-06-18T04:46:07.932Z"
   },
   {
    "duration": 0,
    "start_time": "2023-06-18T04:46:07.933Z"
   },
   {
    "duration": 0,
    "start_time": "2023-06-18T04:46:07.934Z"
   },
   {
    "duration": 2080,
    "start_time": "2023-06-18T04:50:14.300Z"
   },
   {
    "duration": 2120,
    "start_time": "2023-06-18T04:50:16.382Z"
   },
   {
    "duration": 4,
    "start_time": "2023-06-18T04:50:18.503Z"
   },
   {
    "duration": 19615,
    "start_time": "2023-06-18T04:50:18.508Z"
   },
   {
    "duration": 2,
    "start_time": "2023-06-18T04:50:38.124Z"
   },
   {
    "duration": 312,
    "start_time": "2023-06-18T04:50:38.128Z"
   },
   {
    "duration": 18,
    "start_time": "2023-06-18T04:50:38.442Z"
   },
   {
    "duration": 12,
    "start_time": "2023-06-18T04:50:38.461Z"
   },
   {
    "duration": 25,
    "start_time": "2023-06-18T04:50:38.474Z"
   },
   {
    "duration": 12,
    "start_time": "2023-06-18T04:50:38.502Z"
   },
   {
    "duration": 33,
    "start_time": "2023-06-18T04:50:38.516Z"
   },
   {
    "duration": 38,
    "start_time": "2023-06-18T04:50:38.550Z"
   },
   {
    "duration": 18,
    "start_time": "2023-06-18T04:50:38.590Z"
   },
   {
    "duration": 27,
    "start_time": "2023-06-18T04:50:38.610Z"
   },
   {
    "duration": 31,
    "start_time": "2023-06-18T04:50:38.639Z"
   },
   {
    "duration": 143,
    "start_time": "2023-06-18T04:50:38.672Z"
   },
   {
    "duration": 10,
    "start_time": "2023-06-18T04:50:38.817Z"
   },
   {
    "duration": 16,
    "start_time": "2023-06-18T04:50:38.832Z"
   },
   {
    "duration": 11,
    "start_time": "2023-06-18T04:50:38.849Z"
   },
   {
    "duration": 25,
    "start_time": "2023-06-18T04:50:38.862Z"
   },
   {
    "duration": 10,
    "start_time": "2023-06-18T04:50:38.888Z"
   },
   {
    "duration": 15,
    "start_time": "2023-06-18T04:50:38.899Z"
   },
   {
    "duration": 53,
    "start_time": "2023-06-18T04:50:38.916Z"
   },
   {
    "duration": 11,
    "start_time": "2023-06-18T04:50:38.971Z"
   },
   {
    "duration": 18,
    "start_time": "2023-06-18T04:50:38.984Z"
   },
   {
    "duration": 51,
    "start_time": "2023-06-18T04:50:39.003Z"
   },
   {
    "duration": 8,
    "start_time": "2023-06-18T04:50:39.056Z"
   },
   {
    "duration": 11,
    "start_time": "2023-06-18T04:50:39.068Z"
   },
   {
    "duration": 62,
    "start_time": "2023-06-18T04:50:39.081Z"
   },
   {
    "duration": 31,
    "start_time": "2023-06-18T04:50:39.144Z"
   },
   {
    "duration": 34,
    "start_time": "2023-06-18T04:50:39.177Z"
   },
   {
    "duration": 17,
    "start_time": "2023-06-18T04:50:39.231Z"
   },
   {
    "duration": 14,
    "start_time": "2023-06-18T04:50:39.250Z"
   },
   {
    "duration": 20,
    "start_time": "2023-06-18T04:50:39.265Z"
   },
   {
    "duration": 4,
    "start_time": "2023-06-18T04:50:39.286Z"
   },
   {
    "duration": 50,
    "start_time": "2023-06-18T04:50:39.291Z"
   },
   {
    "duration": 3,
    "start_time": "2023-06-18T04:50:39.343Z"
   },
   {
    "duration": 26,
    "start_time": "2023-06-18T04:50:39.348Z"
   },
   {
    "duration": 13,
    "start_time": "2023-06-18T04:50:39.375Z"
   },
   {
    "duration": 21971,
    "start_time": "2023-06-18T04:50:39.390Z"
   },
   {
    "duration": 0,
    "start_time": "2023-06-18T04:51:01.364Z"
   },
   {
    "duration": 0,
    "start_time": "2023-06-18T04:51:01.366Z"
   },
   {
    "duration": 0,
    "start_time": "2023-06-18T04:51:01.367Z"
   },
   {
    "duration": 0,
    "start_time": "2023-06-18T04:51:01.368Z"
   },
   {
    "duration": 0,
    "start_time": "2023-06-18T04:51:01.370Z"
   },
   {
    "duration": 0,
    "start_time": "2023-06-18T04:51:01.371Z"
   },
   {
    "duration": 0,
    "start_time": "2023-06-18T04:51:01.373Z"
   },
   {
    "duration": 0,
    "start_time": "2023-06-18T04:51:01.374Z"
   },
   {
    "duration": 0,
    "start_time": "2023-06-18T04:51:01.375Z"
   },
   {
    "duration": 0,
    "start_time": "2023-06-18T04:51:01.377Z"
   },
   {
    "duration": 0,
    "start_time": "2023-06-18T04:51:01.378Z"
   },
   {
    "duration": 0,
    "start_time": "2023-06-18T04:51:01.379Z"
   },
   {
    "duration": 0,
    "start_time": "2023-06-18T04:51:01.381Z"
   },
   {
    "duration": 0,
    "start_time": "2023-06-18T04:51:01.383Z"
   },
   {
    "duration": 0,
    "start_time": "2023-06-18T04:51:01.384Z"
   },
   {
    "duration": 0,
    "start_time": "2023-06-18T04:51:01.386Z"
   },
   {
    "duration": 0,
    "start_time": "2023-06-18T04:51:01.387Z"
   },
   {
    "duration": 0,
    "start_time": "2023-06-18T04:51:01.389Z"
   },
   {
    "duration": 0,
    "start_time": "2023-06-18T04:51:01.431Z"
   },
   {
    "duration": 0,
    "start_time": "2023-06-18T04:51:01.433Z"
   },
   {
    "duration": 0,
    "start_time": "2023-06-18T04:51:01.435Z"
   },
   {
    "duration": 0,
    "start_time": "2023-06-18T04:51:01.436Z"
   },
   {
    "duration": 1,
    "start_time": "2023-06-18T04:51:01.437Z"
   },
   {
    "duration": 0,
    "start_time": "2023-06-18T04:51:01.438Z"
   },
   {
    "duration": 0,
    "start_time": "2023-06-18T04:51:01.440Z"
   },
   {
    "duration": 0,
    "start_time": "2023-06-18T04:51:01.441Z"
   },
   {
    "duration": 0,
    "start_time": "2023-06-18T04:51:01.443Z"
   },
   {
    "duration": 0,
    "start_time": "2023-06-18T04:51:01.444Z"
   },
   {
    "duration": 0,
    "start_time": "2023-06-18T04:51:01.445Z"
   },
   {
    "duration": 0,
    "start_time": "2023-06-18T04:51:01.447Z"
   },
   {
    "duration": 0,
    "start_time": "2023-06-18T04:51:01.448Z"
   },
   {
    "duration": 0,
    "start_time": "2023-06-18T04:51:01.449Z"
   },
   {
    "duration": 0,
    "start_time": "2023-06-18T04:51:01.451Z"
   },
   {
    "duration": 0,
    "start_time": "2023-06-18T04:51:01.452Z"
   },
   {
    "duration": 0,
    "start_time": "2023-06-18T04:51:01.454Z"
   },
   {
    "duration": 0,
    "start_time": "2023-06-18T04:51:01.455Z"
   },
   {
    "duration": 0,
    "start_time": "2023-06-18T04:51:01.456Z"
   },
   {
    "duration": 0,
    "start_time": "2023-06-18T04:51:01.457Z"
   },
   {
    "duration": 0,
    "start_time": "2023-06-18T04:51:01.458Z"
   },
   {
    "duration": 0,
    "start_time": "2023-06-18T04:51:01.459Z"
   },
   {
    "duration": 0,
    "start_time": "2023-06-18T04:51:01.460Z"
   },
   {
    "duration": 0,
    "start_time": "2023-06-18T04:51:01.461Z"
   },
   {
    "duration": 0,
    "start_time": "2023-06-18T04:51:01.462Z"
   },
   {
    "duration": 0,
    "start_time": "2023-06-18T04:51:01.462Z"
   },
   {
    "duration": 0,
    "start_time": "2023-06-18T04:51:01.463Z"
   },
   {
    "duration": 0,
    "start_time": "2023-06-18T04:51:01.464Z"
   },
   {
    "duration": 0,
    "start_time": "2023-06-18T04:51:01.466Z"
   },
   {
    "duration": 0,
    "start_time": "2023-06-18T04:51:01.467Z"
   },
   {
    "duration": 0,
    "start_time": "2023-06-18T04:51:01.468Z"
   },
   {
    "duration": 0,
    "start_time": "2023-06-18T04:51:01.469Z"
   },
   {
    "duration": 0,
    "start_time": "2023-06-18T04:51:01.470Z"
   },
   {
    "duration": 0,
    "start_time": "2023-06-18T04:51:01.471Z"
   },
   {
    "duration": 0,
    "start_time": "2023-06-18T04:51:01.532Z"
   },
   {
    "duration": 0,
    "start_time": "2023-06-18T04:51:01.534Z"
   },
   {
    "duration": 0,
    "start_time": "2023-06-18T04:51:01.535Z"
   },
   {
    "duration": 0,
    "start_time": "2023-06-18T04:51:01.537Z"
   },
   {
    "duration": 0,
    "start_time": "2023-06-18T04:51:01.538Z"
   },
   {
    "duration": 2033,
    "start_time": "2023-06-18T04:53:05.966Z"
   },
   {
    "duration": 2088,
    "start_time": "2023-06-18T04:53:08.001Z"
   },
   {
    "duration": 3,
    "start_time": "2023-06-18T04:53:10.091Z"
   },
   {
    "duration": 22370,
    "start_time": "2023-06-18T04:53:10.096Z"
   },
   {
    "duration": 3,
    "start_time": "2023-06-18T04:53:32.468Z"
   },
   {
    "duration": 310,
    "start_time": "2023-06-18T04:53:32.472Z"
   },
   {
    "duration": 16,
    "start_time": "2023-06-18T04:53:32.784Z"
   },
   {
    "duration": 49,
    "start_time": "2023-06-18T04:53:32.802Z"
   },
   {
    "duration": 34,
    "start_time": "2023-06-18T04:53:32.853Z"
   },
   {
    "duration": 19,
    "start_time": "2023-06-18T04:53:32.891Z"
   },
   {
    "duration": 6,
    "start_time": "2023-06-18T04:53:32.912Z"
   },
   {
    "duration": 52,
    "start_time": "2023-06-18T04:53:32.919Z"
   },
   {
    "duration": 8,
    "start_time": "2023-06-18T04:53:32.973Z"
   },
   {
    "duration": 31,
    "start_time": "2023-06-18T04:53:32.983Z"
   },
   {
    "duration": 21,
    "start_time": "2023-06-18T04:53:33.016Z"
   },
   {
    "duration": 173,
    "start_time": "2023-06-18T04:53:33.038Z"
   },
   {
    "duration": 11,
    "start_time": "2023-06-18T04:53:33.213Z"
   },
   {
    "duration": 29,
    "start_time": "2023-06-18T04:53:33.226Z"
   },
   {
    "duration": 17,
    "start_time": "2023-06-18T04:53:33.256Z"
   },
   {
    "duration": 36,
    "start_time": "2023-06-18T04:53:33.274Z"
   },
   {
    "duration": 28,
    "start_time": "2023-06-18T04:53:33.312Z"
   },
   {
    "duration": 49,
    "start_time": "2023-06-18T04:53:33.343Z"
   },
   {
    "duration": 76,
    "start_time": "2023-06-18T04:53:33.394Z"
   },
   {
    "duration": 12,
    "start_time": "2023-06-18T04:53:33.472Z"
   },
   {
    "duration": 42,
    "start_time": "2023-06-18T04:53:33.486Z"
   },
   {
    "duration": 54,
    "start_time": "2023-06-18T04:53:33.529Z"
   },
   {
    "duration": 9,
    "start_time": "2023-06-18T04:53:33.584Z"
   },
   {
    "duration": 28,
    "start_time": "2023-06-18T04:53:33.599Z"
   },
   {
    "duration": 103,
    "start_time": "2023-06-18T04:53:33.629Z"
   },
   {
    "duration": 30,
    "start_time": "2023-06-18T04:53:33.733Z"
   },
   {
    "duration": 38,
    "start_time": "2023-06-18T04:53:33.765Z"
   },
   {
    "duration": 39,
    "start_time": "2023-06-18T04:53:33.804Z"
   },
   {
    "duration": 29,
    "start_time": "2023-06-18T04:53:33.844Z"
   },
   {
    "duration": 39,
    "start_time": "2023-06-18T04:53:33.875Z"
   },
   {
    "duration": 40,
    "start_time": "2023-06-18T04:53:33.916Z"
   },
   {
    "duration": 66,
    "start_time": "2023-06-18T04:53:33.958Z"
   },
   {
    "duration": 4,
    "start_time": "2023-06-18T04:53:34.025Z"
   },
   {
    "duration": 33,
    "start_time": "2023-06-18T04:53:34.031Z"
   },
   {
    "duration": 20,
    "start_time": "2023-06-18T04:53:34.066Z"
   },
   {
    "duration": 94291,
    "start_time": "2023-06-18T04:53:34.090Z"
   },
   {
    "duration": 2182,
    "start_time": "2023-06-18T04:55:08.383Z"
   },
   {
    "duration": 149,
    "start_time": "2023-06-18T04:55:10.566Z"
   },
   {
    "duration": 123,
    "start_time": "2023-06-18T04:55:10.716Z"
   },
   {
    "duration": 141,
    "start_time": "2023-06-18T04:55:10.841Z"
   },
   {
    "duration": 260,
    "start_time": "2023-06-18T04:55:10.984Z"
   },
   {
    "duration": 18,
    "start_time": "2023-06-18T04:55:11.246Z"
   },
   {
    "duration": 140,
    "start_time": "2023-06-18T04:55:11.266Z"
   },
   {
    "duration": 70521,
    "start_time": "2023-06-18T04:55:11.407Z"
   },
   {
    "duration": 4,
    "start_time": "2023-06-18T04:56:21.932Z"
   },
   {
    "duration": 4085,
    "start_time": "2023-06-18T04:56:21.938Z"
   },
   {
    "duration": 297,
    "start_time": "2023-06-18T04:56:26.032Z"
   },
   {
    "duration": 217,
    "start_time": "2023-06-18T04:56:26.332Z"
   },
   {
    "duration": 245,
    "start_time": "2023-06-18T04:56:26.551Z"
   },
   {
    "duration": 146,
    "start_time": "2023-06-18T04:56:26.798Z"
   },
   {
    "duration": 208,
    "start_time": "2023-06-18T04:56:26.945Z"
   },
   {
    "duration": 171,
    "start_time": "2023-06-18T04:56:27.155Z"
   },
   {
    "duration": 178,
    "start_time": "2023-06-18T04:56:27.332Z"
   },
   {
    "duration": 323,
    "start_time": "2023-06-18T04:56:27.512Z"
   },
   {
    "duration": 188,
    "start_time": "2023-06-18T04:56:27.837Z"
   },
   {
    "duration": 7,
    "start_time": "2023-06-18T04:56:28.032Z"
   },
   {
    "duration": 142,
    "start_time": "2023-06-18T04:56:28.041Z"
   },
   {
    "duration": 31,
    "start_time": "2023-06-18T04:56:28.185Z"
   },
   {
    "duration": 22,
    "start_time": "2023-06-18T04:56:28.217Z"
   },
   {
    "duration": 66,
    "start_time": "2023-06-18T04:56:28.242Z"
   },
   {
    "duration": 50,
    "start_time": "2023-06-18T04:56:28.311Z"
   },
   {
    "duration": 15,
    "start_time": "2023-06-18T04:56:28.363Z"
   },
   {
    "duration": 12,
    "start_time": "2023-06-18T04:56:28.380Z"
   },
   {
    "duration": 55,
    "start_time": "2023-06-18T04:56:28.394Z"
   },
   {
    "duration": 3953,
    "start_time": "2023-06-18T04:56:28.452Z"
   },
   {
    "duration": 3,
    "start_time": "2023-06-18T04:56:32.407Z"
   },
   {
    "duration": 27,
    "start_time": "2023-06-18T04:56:32.412Z"
   },
   {
    "duration": 91,
    "start_time": "2023-06-18T04:56:32.441Z"
   },
   {
    "duration": 135612,
    "start_time": "2023-06-18T04:56:32.534Z"
   },
   {
    "duration": 3,
    "start_time": "2023-06-18T04:58:48.147Z"
   },
   {
    "duration": 7,
    "start_time": "2023-06-18T04:58:48.232Z"
   },
   {
    "duration": 35788,
    "start_time": "2023-06-18T04:58:48.241Z"
   },
   {
    "duration": 4,
    "start_time": "2023-06-18T04:59:24.031Z"
   },
   {
    "duration": 98,
    "start_time": "2023-06-18T04:59:24.036Z"
   },
   {
    "duration": 15,
    "start_time": "2023-06-18T04:59:24.136Z"
   },
   {
    "duration": 22,
    "start_time": "2023-06-18T04:59:24.153Z"
   },
   {
    "duration": 8,
    "start_time": "2023-06-18T04:59:24.177Z"
   },
   {
    "duration": 7,
    "start_time": "2023-06-18T04:59:24.191Z"
   },
   {
    "duration": 10,
    "start_time": "2023-06-18T04:59:24.199Z"
   },
   {
    "duration": 14,
    "start_time": "2023-06-18T04:59:24.210Z"
   },
   {
    "duration": 23708,
    "start_time": "2023-06-18T04:59:24.226Z"
   },
   {
    "duration": 157,
    "start_time": "2023-06-18T04:59:47.936Z"
   },
   {
    "duration": 0,
    "start_time": "2023-06-18T04:59:48.094Z"
   },
   {
    "duration": 0,
    "start_time": "2023-06-18T04:59:48.095Z"
   },
   {
    "duration": 0,
    "start_time": "2023-06-18T04:59:48.096Z"
   },
   {
    "duration": 0,
    "start_time": "2023-06-18T04:59:48.098Z"
   },
   {
    "duration": 0,
    "start_time": "2023-06-18T04:59:48.098Z"
   },
   {
    "duration": 0,
    "start_time": "2023-06-18T04:59:48.099Z"
   },
   {
    "duration": 0,
    "start_time": "2023-06-18T04:59:48.100Z"
   },
   {
    "duration": 0,
    "start_time": "2023-06-18T04:59:48.101Z"
   },
   {
    "duration": 0,
    "start_time": "2023-06-18T04:59:48.102Z"
   },
   {
    "duration": 0,
    "start_time": "2023-06-18T04:59:48.103Z"
   },
   {
    "duration": 0,
    "start_time": "2023-06-18T04:59:48.104Z"
   },
   {
    "duration": 14,
    "start_time": "2023-06-18T04:59:55.508Z"
   },
   {
    "duration": 12,
    "start_time": "2023-06-18T05:00:08.444Z"
   },
   {
    "duration": 227,
    "start_time": "2023-06-18T05:00:25.662Z"
   },
   {
    "duration": 79,
    "start_time": "2023-06-18T05:01:19.962Z"
   },
   {
    "duration": 79,
    "start_time": "2023-06-18T05:01:55.111Z"
   },
   {
    "duration": 65,
    "start_time": "2023-06-18T05:02:06.920Z"
   },
   {
    "duration": 81,
    "start_time": "2023-06-18T05:02:23.457Z"
   },
   {
    "duration": 4,
    "start_time": "2023-06-18T05:02:51.916Z"
   },
   {
    "duration": 2203,
    "start_time": "2023-06-18T05:07:11.792Z"
   },
   {
    "duration": 2052,
    "start_time": "2023-06-18T05:07:13.998Z"
   },
   {
    "duration": 4,
    "start_time": "2023-06-18T05:07:16.052Z"
   },
   {
    "duration": 9089,
    "start_time": "2023-06-18T05:07:16.059Z"
   },
   {
    "duration": 2,
    "start_time": "2023-06-18T05:07:25.150Z"
   },
   {
    "duration": 333,
    "start_time": "2023-06-18T05:07:25.154Z"
   },
   {
    "duration": 18,
    "start_time": "2023-06-18T05:07:25.489Z"
   },
   {
    "duration": 22,
    "start_time": "2023-06-18T05:07:25.508Z"
   },
   {
    "duration": 32,
    "start_time": "2023-06-18T05:07:25.532Z"
   },
   {
    "duration": 34,
    "start_time": "2023-06-18T05:07:25.566Z"
   },
   {
    "duration": 39,
    "start_time": "2023-06-18T05:07:25.602Z"
   },
   {
    "duration": 24,
    "start_time": "2023-06-18T05:07:25.642Z"
   },
   {
    "duration": 8,
    "start_time": "2023-06-18T05:07:25.668Z"
   },
   {
    "duration": 30,
    "start_time": "2023-06-18T05:07:25.677Z"
   },
   {
    "duration": 42,
    "start_time": "2023-06-18T05:07:25.709Z"
   },
   {
    "duration": 140,
    "start_time": "2023-06-18T05:07:25.753Z"
   },
   {
    "duration": 12,
    "start_time": "2023-06-18T05:07:25.895Z"
   },
   {
    "duration": 56,
    "start_time": "2023-06-18T05:07:25.909Z"
   },
   {
    "duration": 15,
    "start_time": "2023-06-18T05:07:25.967Z"
   },
   {
    "duration": 23,
    "start_time": "2023-06-18T05:07:25.984Z"
   },
   {
    "duration": 8,
    "start_time": "2023-06-18T05:07:26.009Z"
   },
   {
    "duration": 42,
    "start_time": "2023-06-18T05:07:26.019Z"
   },
   {
    "duration": 68,
    "start_time": "2023-06-18T05:07:26.063Z"
   },
   {
    "duration": 13,
    "start_time": "2023-06-18T05:07:26.133Z"
   },
   {
    "duration": 25,
    "start_time": "2023-06-18T05:07:26.148Z"
   },
   {
    "duration": 53,
    "start_time": "2023-06-18T05:07:26.174Z"
   },
   {
    "duration": 8,
    "start_time": "2023-06-18T05:07:26.229Z"
   },
   {
    "duration": 21,
    "start_time": "2023-06-18T05:07:26.242Z"
   },
   {
    "duration": 77,
    "start_time": "2023-06-18T05:07:26.265Z"
   },
   {
    "duration": 33,
    "start_time": "2023-06-18T05:07:26.343Z"
   },
   {
    "duration": 54,
    "start_time": "2023-06-18T05:07:26.378Z"
   },
   {
    "duration": 19,
    "start_time": "2023-06-18T05:07:26.434Z"
   },
   {
    "duration": 13,
    "start_time": "2023-06-18T05:07:26.455Z"
   },
   {
    "duration": 47,
    "start_time": "2023-06-18T05:07:26.469Z"
   },
   {
    "duration": 21,
    "start_time": "2023-06-18T05:07:26.518Z"
   },
   {
    "duration": 49,
    "start_time": "2023-06-18T05:07:26.540Z"
   },
   {
    "duration": 4,
    "start_time": "2023-06-18T05:07:26.591Z"
   },
   {
    "duration": 29,
    "start_time": "2023-06-18T05:07:26.596Z"
   },
   {
    "duration": 6,
    "start_time": "2023-06-18T05:07:26.626Z"
   },
   {
    "duration": 101860,
    "start_time": "2023-06-18T05:07:26.633Z"
   },
   {
    "duration": 2456,
    "start_time": "2023-06-18T05:09:08.494Z"
   },
   {
    "duration": 175,
    "start_time": "2023-06-18T05:09:10.952Z"
   },
   {
    "duration": 130,
    "start_time": "2023-06-18T05:09:11.131Z"
   },
   {
    "duration": 173,
    "start_time": "2023-06-18T05:09:11.263Z"
   },
   {
    "duration": 318,
    "start_time": "2023-06-18T05:09:11.438Z"
   },
   {
    "duration": 21,
    "start_time": "2023-06-18T05:09:11.757Z"
   },
   {
    "duration": 143,
    "start_time": "2023-06-18T05:09:11.780Z"
   },
   {
    "duration": 73407,
    "start_time": "2023-06-18T05:09:11.924Z"
   },
   {
    "duration": 5,
    "start_time": "2023-06-18T05:10:25.333Z"
   },
   {
    "duration": 4542,
    "start_time": "2023-06-18T05:10:25.341Z"
   },
   {
    "duration": 298,
    "start_time": "2023-06-18T05:10:29.885Z"
   },
   {
    "duration": 226,
    "start_time": "2023-06-18T05:10:30.185Z"
   },
   {
    "duration": 222,
    "start_time": "2023-06-18T05:10:30.413Z"
   },
   {
    "duration": 139,
    "start_time": "2023-06-18T05:10:30.637Z"
   },
   {
    "duration": 190,
    "start_time": "2023-06-18T05:10:30.779Z"
   },
   {
    "duration": 186,
    "start_time": "2023-06-18T05:10:30.970Z"
   },
   {
    "duration": 184,
    "start_time": "2023-06-18T05:10:31.157Z"
   },
   {
    "duration": 301,
    "start_time": "2023-06-18T05:10:31.343Z"
   },
   {
    "duration": 173,
    "start_time": "2023-06-18T05:10:31.646Z"
   },
   {
    "duration": 11,
    "start_time": "2023-06-18T05:10:31.821Z"
   },
   {
    "duration": 175,
    "start_time": "2023-06-18T05:10:31.835Z"
   },
   {
    "duration": 51,
    "start_time": "2023-06-18T05:10:32.011Z"
   },
   {
    "duration": 95,
    "start_time": "2023-06-18T05:10:32.064Z"
   },
   {
    "duration": 67,
    "start_time": "2023-06-18T05:10:32.161Z"
   },
   {
    "duration": 37,
    "start_time": "2023-06-18T05:10:32.230Z"
   },
   {
    "duration": 32,
    "start_time": "2023-06-18T05:10:32.269Z"
   },
   {
    "duration": 77,
    "start_time": "2023-06-18T05:10:32.303Z"
   },
   {
    "duration": 114,
    "start_time": "2023-06-18T05:10:32.382Z"
   },
   {
    "duration": 4439,
    "start_time": "2023-06-18T05:10:32.498Z"
   },
   {
    "duration": 4,
    "start_time": "2023-06-18T05:10:36.938Z"
   },
   {
    "duration": 20,
    "start_time": "2023-06-18T05:10:36.944Z"
   },
   {
    "duration": 23,
    "start_time": "2023-06-18T05:10:36.966Z"
   },
   {
    "duration": 133048,
    "start_time": "2023-06-18T05:10:36.991Z"
   },
   {
    "duration": 3,
    "start_time": "2023-06-18T05:12:50.042Z"
   },
   {
    "duration": 47,
    "start_time": "2023-06-18T05:12:50.047Z"
   },
   {
    "duration": 37216,
    "start_time": "2023-06-18T05:12:50.097Z"
   },
   {
    "duration": 3,
    "start_time": "2023-06-18T05:13:27.315Z"
   },
   {
    "duration": 14,
    "start_time": "2023-06-18T05:13:27.320Z"
   },
   {
    "duration": 7,
    "start_time": "2023-06-18T05:13:27.335Z"
   },
   {
    "duration": 10,
    "start_time": "2023-06-18T05:13:27.345Z"
   },
   {
    "duration": 7,
    "start_time": "2023-06-18T05:13:27.357Z"
   },
   {
    "duration": 4,
    "start_time": "2023-06-18T05:13:27.370Z"
   },
   {
    "duration": 7,
    "start_time": "2023-06-18T05:13:27.376Z"
   },
   {
    "duration": 5,
    "start_time": "2023-06-18T05:13:27.385Z"
   },
   {
    "duration": 26247,
    "start_time": "2023-06-18T05:13:27.392Z"
   },
   {
    "duration": 5,
    "start_time": "2023-06-18T05:13:53.641Z"
   },
   {
    "duration": 13,
    "start_time": "2023-06-18T05:13:53.647Z"
   },
   {
    "duration": 1079,
    "start_time": "2023-06-18T05:13:53.661Z"
   },
   {
    "duration": 4,
    "start_time": "2023-06-18T05:13:54.742Z"
   },
   {
    "duration": 18,
    "start_time": "2023-06-18T05:13:54.748Z"
   },
   {
    "duration": 22,
    "start_time": "2023-06-18T05:13:54.768Z"
   },
   {
    "duration": 18,
    "start_time": "2023-06-18T05:13:54.791Z"
   },
   {
    "duration": 145,
    "start_time": "2023-06-18T05:13:54.811Z"
   },
   {
    "duration": 0,
    "start_time": "2023-06-18T05:13:54.957Z"
   },
   {
    "duration": 0,
    "start_time": "2023-06-18T05:13:54.959Z"
   },
   {
    "duration": 0,
    "start_time": "2023-06-18T05:13:54.960Z"
   },
   {
    "duration": 1,
    "start_time": "2023-06-18T05:13:54.961Z"
   },
   {
    "duration": 5,
    "start_time": "2023-06-18T05:14:18.534Z"
   },
   {
    "duration": 4,
    "start_time": "2023-06-18T05:14:22.534Z"
   },
   {
    "duration": 879,
    "start_time": "2023-06-18T05:14:22.924Z"
   },
   {
    "duration": 4,
    "start_time": "2023-06-18T05:14:23.806Z"
   },
   {
    "duration": 6,
    "start_time": "2023-06-18T05:14:23.998Z"
   },
   {
    "duration": 4,
    "start_time": "2023-06-18T05:14:24.957Z"
   },
   {
    "duration": 10,
    "start_time": "2023-06-18T05:14:25.165Z"
   },
   {
    "duration": 11,
    "start_time": "2023-06-18T05:14:25.570Z"
   },
   {
    "duration": 151,
    "start_time": "2023-06-18T05:14:26.217Z"
   },
   {
    "duration": 2960,
    "start_time": "2023-06-19T05:24:42.445Z"
   },
   {
    "duration": 2317,
    "start_time": "2023-06-19T05:24:45.408Z"
   },
   {
    "duration": 3,
    "start_time": "2023-06-19T05:24:47.728Z"
   },
   {
    "duration": 9056,
    "start_time": "2023-06-19T05:24:47.733Z"
   },
   {
    "duration": 2,
    "start_time": "2023-06-19T05:24:56.791Z"
   },
   {
    "duration": 326,
    "start_time": "2023-06-19T05:24:56.795Z"
   },
   {
    "duration": 19,
    "start_time": "2023-06-19T05:24:57.123Z"
   },
   {
    "duration": 22,
    "start_time": "2023-06-19T05:24:57.144Z"
   },
   {
    "duration": 29,
    "start_time": "2023-06-19T05:24:57.167Z"
   },
   {
    "duration": 17,
    "start_time": "2023-06-19T05:24:57.199Z"
   },
   {
    "duration": 19,
    "start_time": "2023-06-19T05:24:57.217Z"
   },
   {
    "duration": 17,
    "start_time": "2023-06-19T05:24:57.237Z"
   },
   {
    "duration": 10,
    "start_time": "2023-06-19T05:24:57.256Z"
   },
   {
    "duration": 38,
    "start_time": "2023-06-19T05:24:57.268Z"
   },
   {
    "duration": 32,
    "start_time": "2023-06-19T05:24:57.307Z"
   },
   {
    "duration": 131,
    "start_time": "2023-06-19T05:24:57.340Z"
   },
   {
    "duration": 12,
    "start_time": "2023-06-19T05:24:57.472Z"
   },
   {
    "duration": 40,
    "start_time": "2023-06-19T05:24:57.486Z"
   },
   {
    "duration": 25,
    "start_time": "2023-06-19T05:24:57.528Z"
   },
   {
    "duration": 10,
    "start_time": "2023-06-19T05:24:57.555Z"
   },
   {
    "duration": 23,
    "start_time": "2023-06-19T05:24:57.567Z"
   },
   {
    "duration": 23,
    "start_time": "2023-06-19T05:24:57.592Z"
   },
   {
    "duration": 87,
    "start_time": "2023-06-19T05:24:57.617Z"
   },
   {
    "duration": 12,
    "start_time": "2023-06-19T05:24:57.706Z"
   },
   {
    "duration": 31,
    "start_time": "2023-06-19T05:24:57.720Z"
   },
   {
    "duration": 67,
    "start_time": "2023-06-19T05:24:57.753Z"
   },
   {
    "duration": 9,
    "start_time": "2023-06-19T05:24:57.822Z"
   },
   {
    "duration": 43,
    "start_time": "2023-06-19T05:24:57.834Z"
   },
   {
    "duration": 75,
    "start_time": "2023-06-19T05:24:57.878Z"
   },
   {
    "duration": 28,
    "start_time": "2023-06-19T05:24:57.954Z"
   },
   {
    "duration": 51,
    "start_time": "2023-06-19T05:24:57.984Z"
   },
   {
    "duration": 17,
    "start_time": "2023-06-19T05:24:58.036Z"
   },
   {
    "duration": 58,
    "start_time": "2023-06-19T05:24:58.055Z"
   },
   {
    "duration": 83,
    "start_time": "2023-06-19T05:24:58.115Z"
   },
   {
    "duration": 8,
    "start_time": "2023-06-19T05:24:58.199Z"
   },
   {
    "duration": 37,
    "start_time": "2023-06-19T05:24:58.209Z"
   },
   {
    "duration": 4,
    "start_time": "2023-06-19T05:24:58.248Z"
   },
   {
    "duration": 27,
    "start_time": "2023-06-19T05:24:58.253Z"
   },
   {
    "duration": 4,
    "start_time": "2023-06-19T05:24:58.281Z"
   },
   {
    "duration": 87864,
    "start_time": "2023-06-19T05:24:58.287Z"
   },
   {
    "duration": 2247,
    "start_time": "2023-06-19T05:26:26.152Z"
   },
   {
    "duration": 165,
    "start_time": "2023-06-19T05:26:28.402Z"
   },
   {
    "duration": 124,
    "start_time": "2023-06-19T05:26:28.569Z"
   },
   {
    "duration": 149,
    "start_time": "2023-06-19T05:26:28.695Z"
   },
   {
    "duration": 271,
    "start_time": "2023-06-19T05:26:28.845Z"
   },
   {
    "duration": 17,
    "start_time": "2023-06-19T05:26:29.117Z"
   },
   {
    "duration": 173,
    "start_time": "2023-06-19T05:26:29.136Z"
   },
   {
    "duration": 70740,
    "start_time": "2023-06-19T05:26:29.311Z"
   },
   {
    "duration": 5,
    "start_time": "2023-06-19T05:27:40.053Z"
   },
   {
    "duration": 3442,
    "start_time": "2023-06-19T05:27:40.060Z"
   },
   {
    "duration": 263,
    "start_time": "2023-06-19T05:27:43.504Z"
   },
   {
    "duration": 196,
    "start_time": "2023-06-19T05:27:43.768Z"
   },
   {
    "duration": 208,
    "start_time": "2023-06-19T05:27:43.966Z"
   },
   {
    "duration": 128,
    "start_time": "2023-06-19T05:27:44.175Z"
   },
   {
    "duration": 171,
    "start_time": "2023-06-19T05:27:44.304Z"
   },
   {
    "duration": 143,
    "start_time": "2023-06-19T05:27:44.477Z"
   },
   {
    "duration": 151,
    "start_time": "2023-06-19T05:27:44.621Z"
   },
   {
    "duration": 262,
    "start_time": "2023-06-19T05:27:44.774Z"
   },
   {
    "duration": 164,
    "start_time": "2023-06-19T05:27:45.038Z"
   },
   {
    "duration": 16,
    "start_time": "2023-06-19T05:27:45.204Z"
   },
   {
    "duration": 147,
    "start_time": "2023-06-19T05:27:45.221Z"
   },
   {
    "duration": 34,
    "start_time": "2023-06-19T05:27:45.369Z"
   },
   {
    "duration": 35,
    "start_time": "2023-06-19T05:27:45.406Z"
   },
   {
    "duration": 68,
    "start_time": "2023-06-19T05:27:45.443Z"
   },
   {
    "duration": 34,
    "start_time": "2023-06-19T05:27:45.513Z"
   },
   {
    "duration": 33,
    "start_time": "2023-06-19T05:27:45.549Z"
   },
   {
    "duration": 39,
    "start_time": "2023-06-19T05:27:45.584Z"
   },
   {
    "duration": 41,
    "start_time": "2023-06-19T05:27:45.625Z"
   },
   {
    "duration": 3915,
    "start_time": "2023-06-19T05:27:45.668Z"
   },
   {
    "duration": 4,
    "start_time": "2023-06-19T05:27:49.585Z"
   },
   {
    "duration": 18,
    "start_time": "2023-06-19T05:27:49.591Z"
   },
   {
    "duration": 15,
    "start_time": "2023-06-19T05:27:49.610Z"
   },
   {
    "duration": 1298,
    "start_time": "2023-06-19T05:27:49.627Z"
   },
   {
    "duration": 3,
    "start_time": "2023-06-19T05:27:50.927Z"
   },
   {
    "duration": 92,
    "start_time": "2023-06-19T05:27:50.931Z"
   },
   {
    "duration": 33155,
    "start_time": "2023-06-19T05:27:51.025Z"
   },
   {
    "duration": 4,
    "start_time": "2023-06-19T05:28:24.182Z"
   },
   {
    "duration": 10,
    "start_time": "2023-06-19T05:28:24.188Z"
   },
   {
    "duration": 8,
    "start_time": "2023-06-19T05:28:24.200Z"
   },
   {
    "duration": 7,
    "start_time": "2023-06-19T05:28:24.210Z"
   },
   {
    "duration": 27,
    "start_time": "2023-06-19T05:28:24.219Z"
   },
   {
    "duration": 15,
    "start_time": "2023-06-19T05:28:24.251Z"
   },
   {
    "duration": 14,
    "start_time": "2023-06-19T05:28:24.268Z"
   },
   {
    "duration": 8,
    "start_time": "2023-06-19T05:28:24.283Z"
   },
   {
    "duration": 34729,
    "start_time": "2023-06-19T05:28:24.293Z"
   },
   {
    "duration": 9,
    "start_time": "2023-06-19T05:28:59.023Z"
   },
   {
    "duration": 27,
    "start_time": "2023-06-19T05:28:59.037Z"
   },
   {
    "duration": 726,
    "start_time": "2023-06-19T05:28:59.066Z"
   },
   {
    "duration": 3,
    "start_time": "2023-06-19T05:28:59.794Z"
   },
   {
    "duration": 10,
    "start_time": "2023-06-19T05:28:59.799Z"
   },
   {
    "duration": 9,
    "start_time": "2023-06-19T05:28:59.811Z"
   },
   {
    "duration": 17,
    "start_time": "2023-06-19T05:28:59.823Z"
   },
   {
    "duration": 166,
    "start_time": "2023-06-19T05:28:59.842Z"
   },
   {
    "duration": 0,
    "start_time": "2023-06-19T05:29:00.010Z"
   },
   {
    "duration": 0,
    "start_time": "2023-06-19T05:29:00.021Z"
   },
   {
    "duration": 0,
    "start_time": "2023-06-19T05:29:00.022Z"
   },
   {
    "duration": 0,
    "start_time": "2023-06-19T05:29:00.023Z"
   },
   {
    "duration": 2025,
    "start_time": "2023-06-19T05:39:04.843Z"
   },
   {
    "duration": 2035,
    "start_time": "2023-06-19T05:39:06.870Z"
   },
   {
    "duration": 3,
    "start_time": "2023-06-19T05:39:08.907Z"
   },
   {
    "duration": 9957,
    "start_time": "2023-06-19T05:39:08.912Z"
   },
   {
    "duration": 2,
    "start_time": "2023-06-19T05:39:18.871Z"
   },
   {
    "duration": 312,
    "start_time": "2023-06-19T05:39:18.874Z"
   },
   {
    "duration": 18,
    "start_time": "2023-06-19T05:39:19.187Z"
   },
   {
    "duration": 11,
    "start_time": "2023-06-19T05:39:19.206Z"
   },
   {
    "duration": 16,
    "start_time": "2023-06-19T05:39:19.219Z"
   },
   {
    "duration": 32,
    "start_time": "2023-06-19T05:39:19.236Z"
   },
   {
    "duration": 13,
    "start_time": "2023-06-19T05:39:19.269Z"
   },
   {
    "duration": 18,
    "start_time": "2023-06-19T05:39:19.283Z"
   },
   {
    "duration": 5,
    "start_time": "2023-06-19T05:39:19.302Z"
   },
   {
    "duration": 7,
    "start_time": "2023-06-19T05:39:19.310Z"
   },
   {
    "duration": 10,
    "start_time": "2023-06-19T05:39:19.320Z"
   },
   {
    "duration": 135,
    "start_time": "2023-06-19T05:39:19.331Z"
   },
   {
    "duration": 15,
    "start_time": "2023-06-19T05:39:19.468Z"
   },
   {
    "duration": 15,
    "start_time": "2023-06-19T05:39:19.486Z"
   },
   {
    "duration": 19,
    "start_time": "2023-06-19T05:39:19.503Z"
   },
   {
    "duration": 23,
    "start_time": "2023-06-19T05:39:19.524Z"
   },
   {
    "duration": 12,
    "start_time": "2023-06-19T05:39:19.549Z"
   },
   {
    "duration": 17,
    "start_time": "2023-06-19T05:39:19.563Z"
   },
   {
    "duration": 83,
    "start_time": "2023-06-19T05:39:19.581Z"
   },
   {
    "duration": 11,
    "start_time": "2023-06-19T05:39:19.666Z"
   },
   {
    "duration": 21,
    "start_time": "2023-06-19T05:39:19.679Z"
   },
   {
    "duration": 56,
    "start_time": "2023-06-19T05:39:19.702Z"
   },
   {
    "duration": 12,
    "start_time": "2023-06-19T05:39:19.759Z"
   },
   {
    "duration": 18,
    "start_time": "2023-06-19T05:39:19.773Z"
   },
   {
    "duration": 61,
    "start_time": "2023-06-19T05:39:19.793Z"
   },
   {
    "duration": 27,
    "start_time": "2023-06-19T05:39:19.856Z"
   },
   {
    "duration": 46,
    "start_time": "2023-06-19T05:39:19.885Z"
   },
   {
    "duration": 17,
    "start_time": "2023-06-19T05:39:19.933Z"
   },
   {
    "duration": 11,
    "start_time": "2023-06-19T05:39:19.951Z"
   },
   {
    "duration": 27,
    "start_time": "2023-06-19T05:39:19.963Z"
   },
   {
    "duration": 13,
    "start_time": "2023-06-19T05:39:19.992Z"
   },
   {
    "duration": 29,
    "start_time": "2023-06-19T05:39:20.024Z"
   },
   {
    "duration": 26,
    "start_time": "2023-06-19T05:39:20.055Z"
   },
   {
    "duration": 34,
    "start_time": "2023-06-19T05:39:20.083Z"
   },
   {
    "duration": 3,
    "start_time": "2023-06-19T05:39:20.119Z"
   },
   {
    "duration": 22754,
    "start_time": "2023-06-19T05:39:20.123Z"
   },
   {
    "duration": 0,
    "start_time": "2023-06-19T05:39:42.882Z"
   },
   {
    "duration": 0,
    "start_time": "2023-06-19T05:39:42.883Z"
   },
   {
    "duration": 0,
    "start_time": "2023-06-19T05:39:42.884Z"
   },
   {
    "duration": 0,
    "start_time": "2023-06-19T05:39:42.885Z"
   },
   {
    "duration": 0,
    "start_time": "2023-06-19T05:39:42.886Z"
   },
   {
    "duration": 0,
    "start_time": "2023-06-19T05:39:42.887Z"
   },
   {
    "duration": 0,
    "start_time": "2023-06-19T05:39:42.888Z"
   },
   {
    "duration": 0,
    "start_time": "2023-06-19T05:39:42.889Z"
   },
   {
    "duration": 0,
    "start_time": "2023-06-19T05:39:42.890Z"
   },
   {
    "duration": 0,
    "start_time": "2023-06-19T05:39:42.891Z"
   },
   {
    "duration": 0,
    "start_time": "2023-06-19T05:39:42.892Z"
   },
   {
    "duration": 0,
    "start_time": "2023-06-19T05:39:42.893Z"
   },
   {
    "duration": 0,
    "start_time": "2023-06-19T05:39:42.894Z"
   },
   {
    "duration": 0,
    "start_time": "2023-06-19T05:39:42.895Z"
   },
   {
    "duration": 0,
    "start_time": "2023-06-19T05:39:42.896Z"
   },
   {
    "duration": 0,
    "start_time": "2023-06-19T05:39:42.898Z"
   },
   {
    "duration": 0,
    "start_time": "2023-06-19T05:39:42.921Z"
   },
   {
    "duration": 0,
    "start_time": "2023-06-19T05:39:42.922Z"
   },
   {
    "duration": 0,
    "start_time": "2023-06-19T05:39:42.923Z"
   },
   {
    "duration": 1,
    "start_time": "2023-06-19T05:39:42.923Z"
   },
   {
    "duration": 0,
    "start_time": "2023-06-19T05:39:42.924Z"
   },
   {
    "duration": 0,
    "start_time": "2023-06-19T05:39:42.926Z"
   },
   {
    "duration": 0,
    "start_time": "2023-06-19T05:39:42.927Z"
   },
   {
    "duration": 0,
    "start_time": "2023-06-19T05:39:42.928Z"
   },
   {
    "duration": 0,
    "start_time": "2023-06-19T05:39:42.929Z"
   },
   {
    "duration": 0,
    "start_time": "2023-06-19T05:39:42.930Z"
   },
   {
    "duration": 0,
    "start_time": "2023-06-19T05:39:42.930Z"
   },
   {
    "duration": 0,
    "start_time": "2023-06-19T05:39:42.932Z"
   },
   {
    "duration": 0,
    "start_time": "2023-06-19T05:39:42.933Z"
   },
   {
    "duration": 0,
    "start_time": "2023-06-19T05:39:42.934Z"
   },
   {
    "duration": 0,
    "start_time": "2023-06-19T05:39:42.935Z"
   },
   {
    "duration": 0,
    "start_time": "2023-06-19T05:39:42.935Z"
   },
   {
    "duration": 0,
    "start_time": "2023-06-19T05:39:42.936Z"
   },
   {
    "duration": 0,
    "start_time": "2023-06-19T05:39:42.937Z"
   },
   {
    "duration": 0,
    "start_time": "2023-06-19T05:39:42.938Z"
   },
   {
    "duration": 0,
    "start_time": "2023-06-19T05:39:42.939Z"
   },
   {
    "duration": 0,
    "start_time": "2023-06-19T05:39:42.940Z"
   },
   {
    "duration": 0,
    "start_time": "2023-06-19T05:39:42.941Z"
   },
   {
    "duration": 0,
    "start_time": "2023-06-19T05:39:42.942Z"
   },
   {
    "duration": 0,
    "start_time": "2023-06-19T05:39:42.943Z"
   },
   {
    "duration": 0,
    "start_time": "2023-06-19T05:39:42.944Z"
   },
   {
    "duration": 0,
    "start_time": "2023-06-19T05:39:42.945Z"
   },
   {
    "duration": 0,
    "start_time": "2023-06-19T05:39:42.946Z"
   },
   {
    "duration": 0,
    "start_time": "2023-06-19T05:39:42.947Z"
   },
   {
    "duration": 0,
    "start_time": "2023-06-19T05:39:42.948Z"
   },
   {
    "duration": 0,
    "start_time": "2023-06-19T05:39:42.949Z"
   },
   {
    "duration": 0,
    "start_time": "2023-06-19T05:39:42.950Z"
   },
   {
    "duration": 0,
    "start_time": "2023-06-19T05:39:42.951Z"
   },
   {
    "duration": 0,
    "start_time": "2023-06-19T05:39:42.952Z"
   },
   {
    "duration": 0,
    "start_time": "2023-06-19T05:39:42.953Z"
   },
   {
    "duration": 0,
    "start_time": "2023-06-19T05:39:42.955Z"
   },
   {
    "duration": 0,
    "start_time": "2023-06-19T05:39:42.955Z"
   },
   {
    "duration": 0,
    "start_time": "2023-06-19T05:39:42.956Z"
   },
   {
    "duration": 1,
    "start_time": "2023-06-19T05:39:42.957Z"
   },
   {
    "duration": 0,
    "start_time": "2023-06-19T05:39:43.020Z"
   },
   {
    "duration": 0,
    "start_time": "2023-06-19T05:39:43.021Z"
   },
   {
    "duration": 0,
    "start_time": "2023-06-19T05:39:43.022Z"
   },
   {
    "duration": 2164,
    "start_time": "2023-06-19T05:39:49.153Z"
   },
   {
    "duration": 2190,
    "start_time": "2023-06-19T05:39:51.319Z"
   },
   {
    "duration": 4,
    "start_time": "2023-06-19T05:39:53.510Z"
   },
   {
    "duration": 8392,
    "start_time": "2023-06-19T05:39:53.520Z"
   },
   {
    "duration": 2,
    "start_time": "2023-06-19T05:40:01.914Z"
   },
   {
    "duration": 509,
    "start_time": "2023-06-19T05:40:01.918Z"
   },
   {
    "duration": 19,
    "start_time": "2023-06-19T05:40:02.429Z"
   },
   {
    "duration": 111,
    "start_time": "2023-06-19T05:40:02.450Z"
   },
   {
    "duration": 56,
    "start_time": "2023-06-19T05:40:02.562Z"
   },
   {
    "duration": 51,
    "start_time": "2023-06-19T05:40:02.622Z"
   },
   {
    "duration": 23,
    "start_time": "2023-06-19T05:40:02.674Z"
   },
   {
    "duration": 52,
    "start_time": "2023-06-19T05:40:02.698Z"
   },
   {
    "duration": 22,
    "start_time": "2023-06-19T05:40:02.752Z"
   },
   {
    "duration": 40,
    "start_time": "2023-06-19T05:40:02.775Z"
   },
   {
    "duration": 60,
    "start_time": "2023-06-19T05:40:02.816Z"
   },
   {
    "duration": 168,
    "start_time": "2023-06-19T05:40:02.878Z"
   },
   {
    "duration": 11,
    "start_time": "2023-06-19T05:40:03.047Z"
   },
   {
    "duration": 57,
    "start_time": "2023-06-19T05:40:03.059Z"
   },
   {
    "duration": 39,
    "start_time": "2023-06-19T05:40:03.117Z"
   },
   {
    "duration": 72,
    "start_time": "2023-06-19T05:40:03.158Z"
   },
   {
    "duration": 58,
    "start_time": "2023-06-19T05:40:03.231Z"
   },
   {
    "duration": 57,
    "start_time": "2023-06-19T05:40:03.290Z"
   },
   {
    "duration": 94,
    "start_time": "2023-06-19T05:40:03.349Z"
   },
   {
    "duration": 17,
    "start_time": "2023-06-19T05:40:03.445Z"
   },
   {
    "duration": 57,
    "start_time": "2023-06-19T05:40:03.464Z"
   },
   {
    "duration": 72,
    "start_time": "2023-06-19T05:40:03.522Z"
   },
   {
    "duration": 28,
    "start_time": "2023-06-19T05:40:03.596Z"
   },
   {
    "duration": 15,
    "start_time": "2023-06-19T05:40:03.629Z"
   },
   {
    "duration": 94,
    "start_time": "2023-06-19T05:40:03.646Z"
   },
   {
    "duration": 28,
    "start_time": "2023-06-19T05:40:03.743Z"
   },
   {
    "duration": 47,
    "start_time": "2023-06-19T05:40:03.773Z"
   },
   {
    "duration": 18,
    "start_time": "2023-06-19T05:40:03.821Z"
   },
   {
    "duration": 17,
    "start_time": "2023-06-19T05:40:03.841Z"
   },
   {
    "duration": 32,
    "start_time": "2023-06-19T05:40:03.860Z"
   },
   {
    "duration": 14,
    "start_time": "2023-06-19T05:40:03.893Z"
   },
   {
    "duration": 63,
    "start_time": "2023-06-19T05:40:03.909Z"
   },
   {
    "duration": 26,
    "start_time": "2023-06-19T05:40:03.974Z"
   },
   {
    "duration": 58,
    "start_time": "2023-06-19T05:40:04.002Z"
   },
   {
    "duration": 14,
    "start_time": "2023-06-19T05:40:04.061Z"
   },
   {
    "duration": 65245,
    "start_time": "2023-06-19T05:40:04.077Z"
   },
   {
    "duration": 0,
    "start_time": "2023-06-19T05:41:09.325Z"
   },
   {
    "duration": 0,
    "start_time": "2023-06-19T05:41:09.326Z"
   },
   {
    "duration": 0,
    "start_time": "2023-06-19T05:41:09.328Z"
   },
   {
    "duration": 0,
    "start_time": "2023-06-19T05:41:09.330Z"
   },
   {
    "duration": 0,
    "start_time": "2023-06-19T05:41:09.331Z"
   },
   {
    "duration": 0,
    "start_time": "2023-06-19T05:41:09.333Z"
   },
   {
    "duration": 0,
    "start_time": "2023-06-19T05:41:09.334Z"
   },
   {
    "duration": 0,
    "start_time": "2023-06-19T05:41:09.335Z"
   },
   {
    "duration": 0,
    "start_time": "2023-06-19T05:41:09.336Z"
   },
   {
    "duration": 0,
    "start_time": "2023-06-19T05:41:09.338Z"
   },
   {
    "duration": 0,
    "start_time": "2023-06-19T05:41:09.339Z"
   },
   {
    "duration": 0,
    "start_time": "2023-06-19T05:41:09.340Z"
   },
   {
    "duration": 0,
    "start_time": "2023-06-19T05:41:09.341Z"
   },
   {
    "duration": 0,
    "start_time": "2023-06-19T05:41:09.343Z"
   },
   {
    "duration": 0,
    "start_time": "2023-06-19T05:41:09.345Z"
   },
   {
    "duration": 0,
    "start_time": "2023-06-19T05:41:09.346Z"
   },
   {
    "duration": 0,
    "start_time": "2023-06-19T05:41:09.347Z"
   },
   {
    "duration": 0,
    "start_time": "2023-06-19T05:41:09.349Z"
   },
   {
    "duration": 0,
    "start_time": "2023-06-19T05:41:09.350Z"
   },
   {
    "duration": 0,
    "start_time": "2023-06-19T05:41:09.351Z"
   },
   {
    "duration": 0,
    "start_time": "2023-06-19T05:41:09.352Z"
   },
   {
    "duration": 0,
    "start_time": "2023-06-19T05:41:09.353Z"
   },
   {
    "duration": 0,
    "start_time": "2023-06-19T05:41:09.354Z"
   },
   {
    "duration": 0,
    "start_time": "2023-06-19T05:41:09.354Z"
   },
   {
    "duration": 0,
    "start_time": "2023-06-19T05:41:09.356Z"
   },
   {
    "duration": 0,
    "start_time": "2023-06-19T05:41:09.356Z"
   },
   {
    "duration": 0,
    "start_time": "2023-06-19T05:41:09.357Z"
   },
   {
    "duration": 0,
    "start_time": "2023-06-19T05:41:09.358Z"
   },
   {
    "duration": 0,
    "start_time": "2023-06-19T05:41:09.359Z"
   },
   {
    "duration": 0,
    "start_time": "2023-06-19T05:41:09.360Z"
   },
   {
    "duration": 0,
    "start_time": "2023-06-19T05:41:09.361Z"
   },
   {
    "duration": 0,
    "start_time": "2023-06-19T05:41:09.362Z"
   },
   {
    "duration": 0,
    "start_time": "2023-06-19T05:41:09.363Z"
   },
   {
    "duration": 0,
    "start_time": "2023-06-19T05:41:09.363Z"
   },
   {
    "duration": 0,
    "start_time": "2023-06-19T05:41:09.420Z"
   },
   {
    "duration": 0,
    "start_time": "2023-06-19T05:41:09.422Z"
   },
   {
    "duration": 0,
    "start_time": "2023-06-19T05:41:09.423Z"
   },
   {
    "duration": 0,
    "start_time": "2023-06-19T05:41:09.424Z"
   },
   {
    "duration": 0,
    "start_time": "2023-06-19T05:41:09.426Z"
   },
   {
    "duration": 0,
    "start_time": "2023-06-19T05:41:09.427Z"
   },
   {
    "duration": 0,
    "start_time": "2023-06-19T05:41:09.428Z"
   },
   {
    "duration": 0,
    "start_time": "2023-06-19T05:41:09.429Z"
   },
   {
    "duration": 0,
    "start_time": "2023-06-19T05:41:09.431Z"
   },
   {
    "duration": 0,
    "start_time": "2023-06-19T05:41:09.432Z"
   },
   {
    "duration": 0,
    "start_time": "2023-06-19T05:41:09.433Z"
   },
   {
    "duration": 0,
    "start_time": "2023-06-19T05:41:09.434Z"
   },
   {
    "duration": 0,
    "start_time": "2023-06-19T05:41:09.435Z"
   },
   {
    "duration": 0,
    "start_time": "2023-06-19T05:41:09.437Z"
   },
   {
    "duration": 0,
    "start_time": "2023-06-19T05:41:09.438Z"
   },
   {
    "duration": 0,
    "start_time": "2023-06-19T05:41:09.440Z"
   },
   {
    "duration": 0,
    "start_time": "2023-06-19T05:41:09.441Z"
   },
   {
    "duration": 0,
    "start_time": "2023-06-19T05:41:09.443Z"
   },
   {
    "duration": 0,
    "start_time": "2023-06-19T05:41:09.444Z"
   },
   {
    "duration": 0,
    "start_time": "2023-06-19T05:41:09.446Z"
   },
   {
    "duration": 0,
    "start_time": "2023-06-19T05:41:09.449Z"
   },
   {
    "duration": 0,
    "start_time": "2023-06-19T05:41:09.451Z"
   },
   {
    "duration": 0,
    "start_time": "2023-06-19T05:41:09.452Z"
   },
   {
    "duration": 2123,
    "start_time": "2023-06-19T05:41:15.260Z"
   },
   {
    "duration": 2172,
    "start_time": "2023-06-19T05:41:17.385Z"
   },
   {
    "duration": 5,
    "start_time": "2023-06-19T05:41:19.560Z"
   },
   {
    "duration": 8318,
    "start_time": "2023-06-19T05:41:19.568Z"
   },
   {
    "duration": 2,
    "start_time": "2023-06-19T05:41:27.888Z"
   },
   {
    "duration": 302,
    "start_time": "2023-06-19T05:41:27.892Z"
   },
   {
    "duration": 17,
    "start_time": "2023-06-19T05:41:28.196Z"
   },
   {
    "duration": 57,
    "start_time": "2023-06-19T05:41:28.214Z"
   },
   {
    "duration": 44,
    "start_time": "2023-06-19T05:41:28.272Z"
   },
   {
    "duration": 44,
    "start_time": "2023-06-19T05:41:28.318Z"
   },
   {
    "duration": 51,
    "start_time": "2023-06-19T05:41:28.363Z"
   },
   {
    "duration": 62,
    "start_time": "2023-06-19T05:41:28.415Z"
   },
   {
    "duration": 43,
    "start_time": "2023-06-19T05:41:28.479Z"
   },
   {
    "duration": 40,
    "start_time": "2023-06-19T05:41:28.524Z"
   },
   {
    "duration": 56,
    "start_time": "2023-06-19T05:41:28.566Z"
   },
   {
    "duration": 166,
    "start_time": "2023-06-19T05:41:28.624Z"
   },
   {
    "duration": 12,
    "start_time": "2023-06-19T05:41:28.793Z"
   },
   {
    "duration": 42,
    "start_time": "2023-06-19T05:41:28.821Z"
   },
   {
    "duration": 48,
    "start_time": "2023-06-19T05:41:28.866Z"
   },
   {
    "duration": 61,
    "start_time": "2023-06-19T05:41:28.916Z"
   },
   {
    "duration": 52,
    "start_time": "2023-06-19T05:41:28.978Z"
   },
   {
    "duration": 57,
    "start_time": "2023-06-19T05:41:29.032Z"
   },
   {
    "duration": 118,
    "start_time": "2023-06-19T05:41:29.091Z"
   },
   {
    "duration": 17,
    "start_time": "2023-06-19T05:41:29.211Z"
   },
   {
    "duration": 49,
    "start_time": "2023-06-19T05:41:29.230Z"
   },
   {
    "duration": 75,
    "start_time": "2023-06-19T05:41:29.281Z"
   },
   {
    "duration": 9,
    "start_time": "2023-06-19T05:41:29.357Z"
   },
   {
    "duration": 42,
    "start_time": "2023-06-19T05:41:29.372Z"
   },
   {
    "duration": 96,
    "start_time": "2023-06-19T05:41:29.415Z"
   },
   {
    "duration": 30,
    "start_time": "2023-06-19T05:41:29.513Z"
   },
   {
    "duration": 46,
    "start_time": "2023-06-19T05:41:29.545Z"
   },
   {
    "duration": 21,
    "start_time": "2023-06-19T05:41:29.592Z"
   },
   {
    "duration": 58,
    "start_time": "2023-06-19T05:41:29.614Z"
   },
   {
    "duration": 66,
    "start_time": "2023-06-19T05:41:29.674Z"
   },
   {
    "duration": 67,
    "start_time": "2023-06-19T05:41:29.742Z"
   },
   {
    "duration": 84,
    "start_time": "2023-06-19T05:41:29.811Z"
   },
   {
    "duration": 39,
    "start_time": "2023-06-19T05:41:29.898Z"
   },
   {
    "duration": 73,
    "start_time": "2023-06-19T05:41:29.938Z"
   },
   {
    "duration": 188,
    "start_time": "2023-06-19T05:41:30.012Z"
   },
   {
    "duration": 2094,
    "start_time": "2023-06-19T05:42:54.356Z"
   },
   {
    "duration": 1971,
    "start_time": "2023-06-19T05:42:56.452Z"
   },
   {
    "duration": 3,
    "start_time": "2023-06-19T05:42:58.425Z"
   },
   {
    "duration": 12441,
    "start_time": "2023-06-19T05:42:58.430Z"
   },
   {
    "duration": 3,
    "start_time": "2023-06-19T05:43:10.873Z"
   },
   {
    "duration": 346,
    "start_time": "2023-06-19T05:43:10.878Z"
   },
   {
    "duration": 26,
    "start_time": "2023-06-19T05:43:11.226Z"
   },
   {
    "duration": 16,
    "start_time": "2023-06-19T05:43:11.254Z"
   },
   {
    "duration": 20,
    "start_time": "2023-06-19T05:43:11.272Z"
   },
   {
    "duration": 25,
    "start_time": "2023-06-19T05:43:11.296Z"
   },
   {
    "duration": 7,
    "start_time": "2023-06-19T05:43:11.323Z"
   },
   {
    "duration": 31,
    "start_time": "2023-06-19T05:43:11.331Z"
   },
   {
    "duration": 7,
    "start_time": "2023-06-19T05:43:11.364Z"
   },
   {
    "duration": 13,
    "start_time": "2023-06-19T05:43:11.373Z"
   },
   {
    "duration": 19,
    "start_time": "2023-06-19T05:43:11.387Z"
   },
   {
    "duration": 132,
    "start_time": "2023-06-19T05:43:11.408Z"
   },
   {
    "duration": 11,
    "start_time": "2023-06-19T05:43:11.542Z"
   },
   {
    "duration": 12,
    "start_time": "2023-06-19T05:43:11.555Z"
   },
   {
    "duration": 12,
    "start_time": "2023-06-19T05:43:11.569Z"
   },
   {
    "duration": 12,
    "start_time": "2023-06-19T05:43:11.583Z"
   },
   {
    "duration": 8,
    "start_time": "2023-06-19T05:43:11.622Z"
   },
   {
    "duration": 10,
    "start_time": "2023-06-19T05:43:11.632Z"
   },
   {
    "duration": 73,
    "start_time": "2023-06-19T05:43:11.644Z"
   },
   {
    "duration": 14,
    "start_time": "2023-06-19T05:43:11.719Z"
   },
   {
    "duration": 16,
    "start_time": "2023-06-19T05:43:11.734Z"
   },
   {
    "duration": 70,
    "start_time": "2023-06-19T05:43:11.752Z"
   },
   {
    "duration": 8,
    "start_time": "2023-06-19T05:43:11.824Z"
   },
   {
    "duration": 9,
    "start_time": "2023-06-19T05:43:11.836Z"
   },
   {
    "duration": 83,
    "start_time": "2023-06-19T05:43:11.847Z"
   },
   {
    "duration": 38,
    "start_time": "2023-06-19T05:43:11.932Z"
   },
   {
    "duration": 54,
    "start_time": "2023-06-19T05:43:11.972Z"
   },
   {
    "duration": 18,
    "start_time": "2023-06-19T05:43:12.027Z"
   },
   {
    "duration": 19,
    "start_time": "2023-06-19T05:43:12.046Z"
   },
   {
    "duration": 22,
    "start_time": "2023-06-19T05:43:12.068Z"
   },
   {
    "duration": 9,
    "start_time": "2023-06-19T05:43:12.091Z"
   },
   {
    "duration": 44,
    "start_time": "2023-06-19T05:43:12.102Z"
   },
   {
    "duration": 4,
    "start_time": "2023-06-19T05:43:12.148Z"
   },
   {
    "duration": 35,
    "start_time": "2023-06-19T05:43:12.153Z"
   },
   {
    "duration": 23,
    "start_time": "2023-06-19T05:43:12.190Z"
   },
   {
    "duration": 89801,
    "start_time": "2023-06-19T05:43:12.214Z"
   },
   {
    "duration": 2183,
    "start_time": "2023-06-19T05:44:42.017Z"
   },
   {
    "duration": 147,
    "start_time": "2023-06-19T05:44:44.201Z"
   },
   {
    "duration": 139,
    "start_time": "2023-06-19T05:44:44.349Z"
   },
   {
    "duration": 145,
    "start_time": "2023-06-19T05:44:44.489Z"
   },
   {
    "duration": 255,
    "start_time": "2023-06-19T05:44:44.635Z"
   },
   {
    "duration": 28,
    "start_time": "2023-06-19T05:44:44.892Z"
   },
   {
    "duration": 163,
    "start_time": "2023-06-19T05:44:44.922Z"
   },
   {
    "duration": 14539,
    "start_time": "2023-06-19T05:44:45.086Z"
   },
   {
    "duration": 0,
    "start_time": "2023-06-19T05:44:59.627Z"
   },
   {
    "duration": 0,
    "start_time": "2023-06-19T05:44:59.628Z"
   },
   {
    "duration": 0,
    "start_time": "2023-06-19T05:44:59.629Z"
   },
   {
    "duration": 0,
    "start_time": "2023-06-19T05:44:59.630Z"
   },
   {
    "duration": 0,
    "start_time": "2023-06-19T05:44:59.631Z"
   },
   {
    "duration": 0,
    "start_time": "2023-06-19T05:44:59.632Z"
   },
   {
    "duration": 0,
    "start_time": "2023-06-19T05:44:59.633Z"
   },
   {
    "duration": 0,
    "start_time": "2023-06-19T05:44:59.633Z"
   },
   {
    "duration": 0,
    "start_time": "2023-06-19T05:44:59.634Z"
   },
   {
    "duration": 0,
    "start_time": "2023-06-19T05:44:59.635Z"
   },
   {
    "duration": 0,
    "start_time": "2023-06-19T05:44:59.636Z"
   },
   {
    "duration": 0,
    "start_time": "2023-06-19T05:44:59.637Z"
   },
   {
    "duration": 0,
    "start_time": "2023-06-19T05:44:59.638Z"
   },
   {
    "duration": 0,
    "start_time": "2023-06-19T05:44:59.638Z"
   },
   {
    "duration": 0,
    "start_time": "2023-06-19T05:44:59.639Z"
   },
   {
    "duration": 0,
    "start_time": "2023-06-19T05:44:59.640Z"
   },
   {
    "duration": 0,
    "start_time": "2023-06-19T05:44:59.641Z"
   },
   {
    "duration": 0,
    "start_time": "2023-06-19T05:44:59.641Z"
   },
   {
    "duration": 0,
    "start_time": "2023-06-19T05:44:59.642Z"
   },
   {
    "duration": 0,
    "start_time": "2023-06-19T05:44:59.643Z"
   },
   {
    "duration": 0,
    "start_time": "2023-06-19T05:44:59.644Z"
   },
   {
    "duration": 0,
    "start_time": "2023-06-19T05:44:59.645Z"
   },
   {
    "duration": 0,
    "start_time": "2023-06-19T05:44:59.646Z"
   },
   {
    "duration": 0,
    "start_time": "2023-06-19T05:44:59.646Z"
   },
   {
    "duration": 0,
    "start_time": "2023-06-19T05:44:59.648Z"
   },
   {
    "duration": 0,
    "start_time": "2023-06-19T05:44:59.648Z"
   },
   {
    "duration": 0,
    "start_time": "2023-06-19T05:44:59.649Z"
   },
   {
    "duration": 0,
    "start_time": "2023-06-19T05:44:59.650Z"
   },
   {
    "duration": 0,
    "start_time": "2023-06-19T05:44:59.651Z"
   },
   {
    "duration": 0,
    "start_time": "2023-06-19T05:44:59.651Z"
   },
   {
    "duration": 0,
    "start_time": "2023-06-19T05:44:59.652Z"
   },
   {
    "duration": 0,
    "start_time": "2023-06-19T05:44:59.653Z"
   },
   {
    "duration": 0,
    "start_time": "2023-06-19T05:44:59.653Z"
   },
   {
    "duration": 0,
    "start_time": "2023-06-19T05:44:59.654Z"
   },
   {
    "duration": 0,
    "start_time": "2023-06-19T05:44:59.655Z"
   },
   {
    "duration": 0,
    "start_time": "2023-06-19T05:44:59.656Z"
   },
   {
    "duration": 0,
    "start_time": "2023-06-19T05:44:59.657Z"
   },
   {
    "duration": 0,
    "start_time": "2023-06-19T05:44:59.658Z"
   },
   {
    "duration": 0,
    "start_time": "2023-06-19T05:44:59.659Z"
   },
   {
    "duration": 0,
    "start_time": "2023-06-19T05:44:59.660Z"
   },
   {
    "duration": 0,
    "start_time": "2023-06-19T05:44:59.721Z"
   },
   {
    "duration": 0,
    "start_time": "2023-06-19T05:44:59.722Z"
   },
   {
    "duration": 0,
    "start_time": "2023-06-19T05:44:59.722Z"
   },
   {
    "duration": 0,
    "start_time": "2023-06-19T05:44:59.723Z"
   },
   {
    "duration": 0,
    "start_time": "2023-06-19T05:44:59.724Z"
   },
   {
    "duration": 0,
    "start_time": "2023-06-19T05:44:59.725Z"
   },
   {
    "duration": 0,
    "start_time": "2023-06-19T05:44:59.726Z"
   },
   {
    "duration": 0,
    "start_time": "2023-06-19T05:44:59.727Z"
   },
   {
    "duration": 0,
    "start_time": "2023-06-19T05:44:59.729Z"
   },
   {
    "duration": 2385,
    "start_time": "2023-06-19T05:45:06.567Z"
   },
   {
    "duration": 2077,
    "start_time": "2023-06-19T05:45:08.954Z"
   },
   {
    "duration": 3,
    "start_time": "2023-06-19T05:45:11.033Z"
   },
   {
    "duration": 15708,
    "start_time": "2023-06-19T05:45:11.039Z"
   },
   {
    "duration": 2,
    "start_time": "2023-06-19T05:45:26.749Z"
   },
   {
    "duration": 334,
    "start_time": "2023-06-19T05:45:26.753Z"
   },
   {
    "duration": 24,
    "start_time": "2023-06-19T05:45:27.089Z"
   },
   {
    "duration": 16,
    "start_time": "2023-06-19T05:45:27.115Z"
   },
   {
    "duration": 10,
    "start_time": "2023-06-19T05:45:27.133Z"
   },
   {
    "duration": 16,
    "start_time": "2023-06-19T05:45:27.145Z"
   },
   {
    "duration": 7,
    "start_time": "2023-06-19T05:45:27.163Z"
   },
   {
    "duration": 20,
    "start_time": "2023-06-19T05:45:27.172Z"
   },
   {
    "duration": 28,
    "start_time": "2023-06-19T05:45:27.194Z"
   },
   {
    "duration": 27,
    "start_time": "2023-06-19T05:45:27.224Z"
   },
   {
    "duration": 29,
    "start_time": "2023-06-19T05:45:27.253Z"
   },
   {
    "duration": 140,
    "start_time": "2023-06-19T05:45:27.283Z"
   },
   {
    "duration": 12,
    "start_time": "2023-06-19T05:45:27.424Z"
   },
   {
    "duration": 18,
    "start_time": "2023-06-19T05:45:27.438Z"
   },
   {
    "duration": 10,
    "start_time": "2023-06-19T05:45:27.458Z"
   },
   {
    "duration": 11,
    "start_time": "2023-06-19T05:45:27.469Z"
   },
   {
    "duration": 11,
    "start_time": "2023-06-19T05:45:27.482Z"
   },
   {
    "duration": 26,
    "start_time": "2023-06-19T05:45:27.495Z"
   },
   {
    "duration": 69,
    "start_time": "2023-06-19T05:45:27.523Z"
   },
   {
    "duration": 13,
    "start_time": "2023-06-19T05:45:27.594Z"
   },
   {
    "duration": 22,
    "start_time": "2023-06-19T05:45:27.609Z"
   },
   {
    "duration": 45,
    "start_time": "2023-06-19T05:45:27.632Z"
   },
   {
    "duration": 8,
    "start_time": "2023-06-19T05:45:27.679Z"
   },
   {
    "duration": 17,
    "start_time": "2023-06-19T05:45:27.691Z"
   },
   {
    "duration": 67,
    "start_time": "2023-06-19T05:45:27.710Z"
   },
   {
    "duration": 41,
    "start_time": "2023-06-19T05:45:27.779Z"
   },
   {
    "duration": 35,
    "start_time": "2023-06-19T05:45:27.822Z"
   },
   {
    "duration": 18,
    "start_time": "2023-06-19T05:45:27.859Z"
   },
   {
    "duration": 11,
    "start_time": "2023-06-19T05:45:27.879Z"
   },
   {
    "duration": 45,
    "start_time": "2023-06-19T05:45:27.891Z"
   },
   {
    "duration": 14,
    "start_time": "2023-06-19T05:45:27.938Z"
   },
   {
    "duration": 29,
    "start_time": "2023-06-19T05:45:27.954Z"
   },
   {
    "duration": 4,
    "start_time": "2023-06-19T05:45:27.985Z"
   },
   {
    "duration": 31,
    "start_time": "2023-06-19T05:45:27.990Z"
   },
   {
    "duration": 4,
    "start_time": "2023-06-19T05:45:28.023Z"
   },
   {
    "duration": 89614,
    "start_time": "2023-06-19T05:45:28.029Z"
   },
   {
    "duration": 2304,
    "start_time": "2023-06-19T05:46:57.645Z"
   },
   {
    "duration": 158,
    "start_time": "2023-06-19T05:46:59.950Z"
   },
   {
    "duration": 153,
    "start_time": "2023-06-19T05:47:00.110Z"
   },
   {
    "duration": 151,
    "start_time": "2023-06-19T05:47:00.265Z"
   },
   {
    "duration": 256,
    "start_time": "2023-06-19T05:47:00.436Z"
   },
   {
    "duration": 16,
    "start_time": "2023-06-19T05:47:00.694Z"
   },
   {
    "duration": 181,
    "start_time": "2023-06-19T05:47:00.711Z"
   },
   {
    "duration": 78403,
    "start_time": "2023-06-19T05:47:00.893Z"
   },
   {
    "duration": 5,
    "start_time": "2023-06-19T05:48:19.297Z"
   },
   {
    "duration": 3517,
    "start_time": "2023-06-19T05:48:19.304Z"
   },
   {
    "duration": 271,
    "start_time": "2023-06-19T05:48:22.823Z"
   },
   {
    "duration": 208,
    "start_time": "2023-06-19T05:48:23.096Z"
   },
   {
    "duration": 220,
    "start_time": "2023-06-19T05:48:23.306Z"
   },
   {
    "duration": 131,
    "start_time": "2023-06-19T05:48:23.527Z"
   },
   {
    "duration": 174,
    "start_time": "2023-06-19T05:48:23.659Z"
   },
   {
    "duration": 148,
    "start_time": "2023-06-19T05:48:23.834Z"
   },
   {
    "duration": 156,
    "start_time": "2023-06-19T05:48:23.984Z"
   },
   {
    "duration": 275,
    "start_time": "2023-06-19T05:48:24.142Z"
   },
   {
    "duration": 180,
    "start_time": "2023-06-19T05:48:24.420Z"
   },
   {
    "duration": 6,
    "start_time": "2023-06-19T05:48:24.602Z"
   },
   {
    "duration": 124,
    "start_time": "2023-06-19T05:48:24.609Z"
   },
   {
    "duration": 27,
    "start_time": "2023-06-19T05:48:24.734Z"
   },
   {
    "duration": 9,
    "start_time": "2023-06-19T05:48:24.762Z"
   },
   {
    "duration": 77,
    "start_time": "2023-06-19T05:48:24.772Z"
   },
   {
    "duration": 33,
    "start_time": "2023-06-19T05:48:24.851Z"
   },
   {
    "duration": 15,
    "start_time": "2023-06-19T05:48:24.886Z"
   },
   {
    "duration": 26,
    "start_time": "2023-06-19T05:48:24.902Z"
   },
   {
    "duration": 33,
    "start_time": "2023-06-19T05:48:24.930Z"
   },
   {
    "duration": 3947,
    "start_time": "2023-06-19T05:48:24.965Z"
   },
   {
    "duration": 8,
    "start_time": "2023-06-19T05:48:28.913Z"
   },
   {
    "duration": 24,
    "start_time": "2023-06-19T05:48:28.923Z"
   },
   {
    "duration": 26,
    "start_time": "2023-06-19T05:48:28.948Z"
   },
   {
    "duration": 332055,
    "start_time": "2023-06-19T05:48:28.976Z"
   },
   {
    "duration": 4,
    "start_time": "2023-06-19T05:54:01.033Z"
   },
   {
    "duration": 39,
    "start_time": "2023-06-19T05:54:01.039Z"
   },
   {
    "duration": 3527,
    "start_time": "2023-06-19T19:33:50.244Z"
   },
   {
    "duration": 2556,
    "start_time": "2023-06-19T19:33:53.775Z"
   },
   {
    "duration": 4,
    "start_time": "2023-06-19T19:33:56.333Z"
   },
   {
    "duration": 9464,
    "start_time": "2023-06-19T19:33:56.339Z"
   },
   {
    "duration": 3,
    "start_time": "2023-06-19T19:34:05.805Z"
   },
   {
    "duration": 369,
    "start_time": "2023-06-19T19:34:05.811Z"
   },
   {
    "duration": 20,
    "start_time": "2023-06-19T19:34:06.182Z"
   },
   {
    "duration": 29,
    "start_time": "2023-06-19T19:34:06.203Z"
   },
   {
    "duration": 26,
    "start_time": "2023-06-19T19:34:06.234Z"
   },
   {
    "duration": 28,
    "start_time": "2023-06-19T19:34:06.266Z"
   },
   {
    "duration": 16,
    "start_time": "2023-06-19T19:34:06.295Z"
   },
   {
    "duration": 20,
    "start_time": "2023-06-19T19:34:06.313Z"
   },
   {
    "duration": 6,
    "start_time": "2023-06-19T19:34:06.335Z"
   },
   {
    "duration": 25,
    "start_time": "2023-06-19T19:34:06.343Z"
   },
   {
    "duration": 24,
    "start_time": "2023-06-19T19:34:06.370Z"
   },
   {
    "duration": 170,
    "start_time": "2023-06-19T19:34:06.396Z"
   },
   {
    "duration": 18,
    "start_time": "2023-06-19T19:34:06.568Z"
   },
   {
    "duration": 15,
    "start_time": "2023-06-19T19:34:06.588Z"
   },
   {
    "duration": 10,
    "start_time": "2023-06-19T19:34:06.604Z"
   },
   {
    "duration": 12,
    "start_time": "2023-06-19T19:34:06.615Z"
   },
   {
    "duration": 8,
    "start_time": "2023-06-19T19:34:06.652Z"
   },
   {
    "duration": 22,
    "start_time": "2023-06-19T19:34:06.663Z"
   },
   {
    "duration": 72,
    "start_time": "2023-06-19T19:34:06.687Z"
   },
   {
    "duration": 22,
    "start_time": "2023-06-19T19:34:06.761Z"
   },
   {
    "duration": 17,
    "start_time": "2023-06-19T19:34:06.785Z"
   },
   {
    "duration": 54,
    "start_time": "2023-06-19T19:34:06.804Z"
   },
   {
    "duration": 12,
    "start_time": "2023-06-19T19:34:06.860Z"
   },
   {
    "duration": 23,
    "start_time": "2023-06-19T19:34:06.877Z"
   },
   {
    "duration": 74,
    "start_time": "2023-06-19T19:34:06.902Z"
   },
   {
    "duration": 44,
    "start_time": "2023-06-19T19:34:06.978Z"
   },
   {
    "duration": 60,
    "start_time": "2023-06-19T19:34:07.024Z"
   },
   {
    "duration": 20,
    "start_time": "2023-06-19T19:34:07.087Z"
   },
   {
    "duration": 13,
    "start_time": "2023-06-19T19:34:07.109Z"
   },
   {
    "duration": 46,
    "start_time": "2023-06-19T19:34:07.123Z"
   },
   {
    "duration": 21,
    "start_time": "2023-06-19T19:34:07.171Z"
   },
   {
    "duration": 51,
    "start_time": "2023-06-19T19:34:07.194Z"
   },
   {
    "duration": 6,
    "start_time": "2023-06-19T19:34:07.247Z"
   },
   {
    "duration": 39,
    "start_time": "2023-06-19T19:34:07.255Z"
   },
   {
    "duration": 12,
    "start_time": "2023-06-19T19:34:07.295Z"
   },
   {
    "duration": 112194,
    "start_time": "2023-06-19T19:34:07.309Z"
   },
   {
    "duration": 2915,
    "start_time": "2023-06-19T19:35:59.505Z"
   },
   {
    "duration": 199,
    "start_time": "2023-06-19T19:36:02.422Z"
   },
   {
    "duration": 157,
    "start_time": "2023-06-19T19:36:02.623Z"
   },
   {
    "duration": 199,
    "start_time": "2023-06-19T19:36:02.790Z"
   },
   {
    "duration": 338,
    "start_time": "2023-06-19T19:36:02.995Z"
   },
   {
    "duration": 49,
    "start_time": "2023-06-19T19:36:03.336Z"
   },
   {
    "duration": 188,
    "start_time": "2023-06-19T19:36:03.391Z"
   },
   {
    "duration": 82228,
    "start_time": "2023-06-19T19:36:03.581Z"
   },
   {
    "duration": 5,
    "start_time": "2023-06-19T19:37:25.811Z"
   },
   {
    "duration": 4086,
    "start_time": "2023-06-19T19:37:25.818Z"
   },
   {
    "duration": 302,
    "start_time": "2023-06-19T19:37:29.907Z"
   },
   {
    "duration": 223,
    "start_time": "2023-06-19T19:37:30.211Z"
   },
   {
    "duration": 273,
    "start_time": "2023-06-19T19:37:30.436Z"
   },
   {
    "duration": 158,
    "start_time": "2023-06-19T19:37:30.711Z"
   },
   {
    "duration": 212,
    "start_time": "2023-06-19T19:37:30.871Z"
   },
   {
    "duration": 227,
    "start_time": "2023-06-19T19:37:31.086Z"
   },
   {
    "duration": 185,
    "start_time": "2023-06-19T19:37:31.316Z"
   },
   {
    "duration": 335,
    "start_time": "2023-06-19T19:37:31.503Z"
   },
   {
    "duration": 167,
    "start_time": "2023-06-19T19:37:31.839Z"
   },
   {
    "duration": 5,
    "start_time": "2023-06-19T19:37:32.007Z"
   },
   {
    "duration": 143,
    "start_time": "2023-06-19T19:37:32.014Z"
   },
   {
    "duration": 52,
    "start_time": "2023-06-19T19:37:32.163Z"
   },
   {
    "duration": 15,
    "start_time": "2023-06-19T19:37:32.217Z"
   },
   {
    "duration": 85,
    "start_time": "2023-06-19T19:37:32.234Z"
   },
   {
    "duration": 51,
    "start_time": "2023-06-19T19:37:32.321Z"
   },
   {
    "duration": 19,
    "start_time": "2023-06-19T19:37:32.376Z"
   },
   {
    "duration": 24,
    "start_time": "2023-06-19T19:37:32.398Z"
   },
   {
    "duration": 53,
    "start_time": "2023-06-19T19:37:32.424Z"
   },
   {
    "duration": 3806,
    "start_time": "2023-06-19T19:37:32.479Z"
   },
   {
    "duration": 4,
    "start_time": "2023-06-19T19:37:36.287Z"
   },
   {
    "duration": 13,
    "start_time": "2023-06-19T19:37:36.293Z"
   },
   {
    "duration": 34,
    "start_time": "2023-06-19T19:37:36.307Z"
   },
   {
    "duration": 138432,
    "start_time": "2023-06-19T19:37:36.343Z"
   },
   {
    "duration": 3,
    "start_time": "2023-06-19T19:39:54.776Z"
   },
   {
    "duration": 72,
    "start_time": "2023-06-19T19:39:54.781Z"
   },
   {
    "duration": 38108,
    "start_time": "2023-06-19T19:39:54.855Z"
   },
   {
    "duration": 4,
    "start_time": "2023-06-19T19:40:32.965Z"
   },
   {
    "duration": 19,
    "start_time": "2023-06-19T19:40:32.971Z"
   },
   {
    "duration": 30,
    "start_time": "2023-06-19T19:40:32.992Z"
   },
   {
    "duration": 11,
    "start_time": "2023-06-19T19:40:33.023Z"
   },
   {
    "duration": 8,
    "start_time": "2023-06-19T19:40:33.036Z"
   },
   {
    "duration": 19,
    "start_time": "2023-06-19T19:40:33.051Z"
   },
   {
    "duration": 6,
    "start_time": "2023-06-19T19:40:33.072Z"
   },
   {
    "duration": 12,
    "start_time": "2023-06-19T19:40:33.080Z"
   }
  ],
  "kernelspec": {
   "display_name": "Python 3 (ipykernel)",
   "language": "python",
   "name": "python3"
  },
  "language_info": {
   "codemirror_mode": {
    "name": "ipython",
    "version": 3
   },
   "file_extension": ".py",
   "mimetype": "text/x-python",
   "name": "python",
   "nbconvert_exporter": "python",
   "pygments_lexer": "ipython3",
   "version": "3.9.13"
  },
  "toc": {
   "base_numbering": 1,
   "nav_menu": {},
   "number_sections": true,
   "sideBar": true,
   "skip_h1_title": true,
   "title_cell": "Table of Contents",
   "title_sidebar": "Contents",
   "toc_cell": false,
   "toc_position": {
    "height": "calc(100% - 180px)",
    "left": "10px",
    "top": "150px",
    "width": "213px"
   },
   "toc_section_display": true,
   "toc_window_display": true
  }
 },
 "nbformat": 4,
 "nbformat_minor": 5
}
